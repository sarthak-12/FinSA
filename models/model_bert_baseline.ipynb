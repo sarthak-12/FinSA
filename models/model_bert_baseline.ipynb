{
 "cells": [
  {
   "attachments": {},
   "cell_type": "markdown",
   "metadata": {},
   "source": [
    "# Library"
   ]
  },
  {
   "cell_type": "code",
   "execution_count": 3,
   "metadata": {},
   "outputs": [],
   "source": [
    "import os\n",
    "import numpy as np\n",
    "import pandas as pd \n",
    "import torch\n",
    "import evaluate\n",
    "from evaluate import evaluator\n",
    "\n",
    "from transformers import BertTokenizer, Trainer, BertForSequenceClassification, TrainingArguments, EarlyStoppingCallback\n",
    "\n",
    "from datasets import Dataset\n",
    "from datasets import load_metric\n",
    "\n",
    "from sklearn.model_selection import train_test_split\n",
    "from sklearn.metrics import accuracy_score\n",
    "\n",
    "\n",
    "torch.cuda.empty_cache()"
   ]
  },
  {
   "attachments": {},
   "cell_type": "markdown",
   "metadata": {},
   "source": [
    "## Default Value"
   ]
  },
  {
   "cell_type": "code",
   "execution_count": 18,
   "metadata": {},
   "outputs": [],
   "source": [
    "# define default value\n",
    "path = '/home/stud/aktert0/lab2/sentiment-analysis'\n",
    "RANDOM_SEED = 10\n",
    "NUM_LEBELS = 3\n",
    "MAX_LENGTH = 128\n",
    "pre_trained_model_ckpt = 'bert-base-uncased'"
   ]
  },
  {
   "attachments": {},
   "cell_type": "markdown",
   "metadata": {},
   "source": [
    "## Check Cuda info"
   ]
  },
  {
   "cell_type": "code",
   "execution_count": 19,
   "metadata": {},
   "outputs": [
    {
     "name": "stdout",
     "output_type": "stream",
     "text": [
      "torch version         : 2.0.1\n",
      "is cuda available     : True\n",
      "cuda version          : 11.7\n",
      "cuda device count     : 4\n",
      "cuda device-0 name    : NVIDIA GeForce GTX 1080 Ti\n",
      "cuda device-1 name    : NVIDIA GeForce GTX 1080 Ti\n",
      "cuda device-2 name    : NVIDIA GeForce GTX 1080 Ti\n",
      "cuda device-3 name    : NVIDIA GeForce GTX 1080 Ti\n",
      "cuda current device   : 0\n"
     ]
    }
   ],
   "source": [
    "print(f'torch version         : {torch.__version__}')\n",
    "# print(f'transformers version  : {transformers.__version__}')\n",
    "print(f'is cuda available     : {torch.cuda.is_available()}')\n",
    "print(f'cuda version          : {torch.version.cuda}')\n",
    "print(f'cuda device count     : {torch.cuda.device_count()}')\n",
    "for i in range(torch.cuda.device_count()):\n",
    "    print(f'cuda device-{i} name    : {torch.cuda.get_device_name(i)}')\n",
    "print(f'cuda current device   : {torch.cuda.current_device()}')"
   ]
  },
  {
   "attachments": {},
   "cell_type": "markdown",
   "metadata": {},
   "source": [
    "# Dataset"
   ]
  },
  {
   "attachments": {},
   "cell_type": "markdown",
   "metadata": {},
   "source": [
    "## load dataset"
   ]
  },
  {
   "cell_type": "code",
   "execution_count": 21,
   "metadata": {},
   "outputs": [
    {
     "name": "stdout",
     "output_type": "stream",
     "text": [
      "<class 'pandas.core.frame.DataFrame'>\n",
      "RangeIndex: 5842 entries, 0 to 5841\n",
      "Data columns (total 2 columns):\n",
      " #   Column     Non-Null Count  Dtype \n",
      "---  ------     --------------  ----- \n",
      " 0   Sentence   5842 non-null   object\n",
      " 1   Sentiment  5842 non-null   object\n",
      "dtypes: object(2)\n",
      "memory usage: 91.4+ KB\n",
      "None\n",
      "                                            Sentence Sentiment\n",
      "0  The GeoSolutions technology will leverage Bene...  positive\n",
      "1  $ESI on lows, down $1.50 to $2.50 BK a real po...  negative\n",
      "2  For the last quarter of 2010 , Componenta 's n...  positive\n",
      "3  According to the Finnish-Russian Chamber of Co...   neutral\n",
      "4  The Swedish buyout firm has sold its remaining...   neutral\n",
      "                                               Sentence Sentiment  label\n",
      "0     The GeoSolutions technology will leverage Bene...  positive      0\n",
      "1     $ESI on lows, down $1.50 to $2.50 BK a real po...  negative      1\n",
      "2     For the last quarter of 2010 , Componenta 's n...  positive      0\n",
      "3     According to the Finnish-Russian Chamber of Co...   neutral      2\n",
      "4     The Swedish buyout firm has sold its remaining...   neutral      2\n",
      "...                                                 ...       ...    ...\n",
      "5837  RISING costs have forced packaging producer Hu...  negative      1\n",
      "5838  Nordic Walking was first used as a summer trai...   neutral      2\n",
      "5839  According shipping company Viking Line , the E...   neutral      2\n",
      "5840  In the building and home improvement trade , s...   neutral      2\n",
      "5841  HELSINKI AFX - KCI Konecranes said it has won ...  positive      0\n",
      "\n",
      "[5842 rows x 3 columns]\n",
      "df_train = (4673, 3), df_test = (1169, 3), df_val= (935, 3)\n"
     ]
    }
   ],
   "source": [
    "df = pd.read_csv(f'{path}/data/data.csv')\n",
    "print(df.info())\n",
    "print(df.head())\n",
    "# Map the Sentiment to new labels[0,1,2]\n",
    "label_mapping = {'positive': 0, 'negative': 1, 'neutral': 2}\n",
    "df['label'] = df['Sentiment'].map(label_mapping)\n",
    "print(df)\n",
    "\n",
    "# split dataset\n",
    "df_train, df_test = train_test_split(df, test_size = 0.2, random_state = RANDOM_SEED)\n",
    "temp, df_val = train_test_split(df_train, test_size = 0.2, random_state = RANDOM_SEED)\n",
    "print(f'df_train = {df_train.shape}, df_test = {df_test.shape}, df_val= {df_val.shape}')"
   ]
  },
  {
   "attachments": {},
   "cell_type": "markdown",
   "metadata": {},
   "source": [
    "# Model"
   ]
  },
  {
   "attachments": {},
   "cell_type": "markdown",
   "metadata": {},
   "source": [
    "## Define Model and tokenizer"
   ]
  },
  {
   "cell_type": "code",
   "execution_count": 22,
   "metadata": {},
   "outputs": [
    {
     "name": "stderr",
     "output_type": "stream",
     "text": [
      "Some weights of the model checkpoint at bert-base-uncased were not used when initializing BertForSequenceClassification: ['cls.predictions.transform.LayerNorm.weight', 'cls.predictions.bias', 'cls.seq_relationship.weight', 'cls.seq_relationship.bias', 'cls.predictions.transform.dense.weight', 'cls.predictions.transform.dense.bias', 'cls.predictions.transform.LayerNorm.bias']\n",
      "- This IS expected if you are initializing BertForSequenceClassification from the checkpoint of a model trained on another task or with another architecture (e.g. initializing a BertForSequenceClassification model from a BertForPreTraining model).\n",
      "- This IS NOT expected if you are initializing BertForSequenceClassification from the checkpoint of a model that you expect to be exactly identical (initializing a BertForSequenceClassification model from a BertForSequenceClassification model).\n",
      "Some weights of BertForSequenceClassification were not initialized from the model checkpoint at bert-base-uncased and are newly initialized: ['classifier.weight', 'classifier.bias']\n",
      "You should probably TRAIN this model on a down-stream task to be able to use it for predictions and inference.\n"
     ]
    }
   ],
   "source": [
    "tokenizer = BertTokenizer.from_pretrained(pre_trained_model_ckpt)\n",
    "model = BertForSequenceClassification.from_pretrained(pre_trained_model_ckpt,num_labels=NUM_LEBELS)"
   ]
  },
  {
   "attachments": {},
   "cell_type": "markdown",
   "metadata": {},
   "source": [
    "## tokenize dataset"
   ]
  },
  {
   "cell_type": "code",
   "execution_count": 23,
   "metadata": {},
   "outputs": [
    {
     "data": {
      "application/vnd.jupyter.widget-view+json": {
       "model_id": "2be19357b5564432b27ea05867347c1d",
       "version_major": 2,
       "version_minor": 0
      },
      "text/plain": [
       "Map:   0%|          | 0/4673 [00:00<?, ? examples/s]"
      ]
     },
     "metadata": {},
     "output_type": "display_data"
    },
    {
     "data": {
      "application/vnd.jupyter.widget-view+json": {
       "model_id": "3fd938bca2f44e568be0c08ff04afbea",
       "version_major": 2,
       "version_minor": 0
      },
      "text/plain": [
       "Map:   0%|          | 0/935 [00:00<?, ? examples/s]"
      ]
     },
     "metadata": {},
     "output_type": "display_data"
    },
    {
     "data": {
      "application/vnd.jupyter.widget-view+json": {
       "model_id": "4233a03ff6a942d48f676e201f491fd0",
       "version_major": 2,
       "version_minor": 0
      },
      "text/plain": [
       "Map:   0%|          | 0/1169 [00:00<?, ? examples/s]"
      ]
     },
     "metadata": {},
     "output_type": "display_data"
    }
   ],
   "source": [
    "dataset_train = Dataset.from_pandas(df_train)\n",
    "dataset_val = Dataset.from_pandas(df_val)\n",
    "dataset_test = Dataset.from_pandas(df_test)\n",
    "\n",
    "\n",
    "dataset_train = dataset_train.map(lambda e: tokenizer(e['Sentence'], truncation=True, padding='max_length', max_length=MAX_LENGTH), batched=True)\n",
    "dataset_val = dataset_val.map(lambda e: tokenizer(e['Sentence'], truncation=True, padding='max_length', max_length=MAX_LENGTH), batched=True)\n",
    "dataset_test = dataset_test.map(lambda e: tokenizer(e['Sentence'], truncation=True, padding='max_length' , max_length=MAX_LENGTH), batched=True)\n",
    "\n",
    "dataset_train.set_format(type='torch', columns=['input_ids', 'token_type_ids', 'attention_mask', 'label'])\n",
    "dataset_val.set_format(type='torch', columns=['input_ids', 'token_type_ids', 'attention_mask', 'label'])\n",
    "dataset_test.set_format(type='torch', columns=['input_ids', 'token_type_ids', 'attention_mask', 'label'])"
   ]
  },
  {
   "attachments": {},
   "cell_type": "markdown",
   "metadata": {},
   "source": [
    "# Training"
   ]
  },
  {
   "attachments": {},
   "cell_type": "markdown",
   "metadata": {},
   "source": [
    "## Compute matrix"
   ]
  },
  {
   "cell_type": "code",
   "execution_count": 24,
   "metadata": {},
   "outputs": [],
   "source": [
    "def compute_metrics(eval_pred):\n",
    "   load_accuracy = load_metric(\"accuracy\")\n",
    "   load_f1 = load_metric(\"f1\")\n",
    "   load_precision = load_metric(\"precision\")\n",
    "   load_recall = load_metric(\"recall\")\n",
    "  \n",
    "   logits, labels = eval_pred\n",
    "   predictions = np.argmax(logits, axis=-1)\n",
    "   accuracy = load_accuracy.compute(predictions=predictions, references=labels)[\"accuracy\"]\n",
    "   \n",
    "   f1_macro = load_f1.compute(predictions=predictions, references=labels, average=\"macro\")[\"f1\"]\n",
    "   f1_weighted = load_f1.compute(predictions=predictions, references=labels, average=\"weighted\")[\"f1\"]\n",
    "\n",
    "   precision_macro = load_precision.compute(predictions=predictions, references=labels, average=\"macro\")[\"precision\"]\n",
    "   precision_weighted = load_precision.compute(predictions=predictions, references=labels, average=\"weighted\")[\"precision\"]\n",
    "\n",
    "   recall_macro = load_recall.compute(predictions=predictions, references=labels, average=\"macro\")[\"recall\"]\n",
    "   recall_weighted = load_recall.compute(predictions=predictions, references=labels, average=\"weighted\")[\"recall\"]\n",
    "\n",
    "   return {\n",
    "        \"accuracy\": accuracy,\n",
    "        \"precision_weighted\":precision_weighted,\n",
    "        \"recall_weighted\":recall_weighted,\n",
    "        \"f1_weighted\":f1_weighted,\n",
    "        \"precision_macro\":precision_macro,\n",
    "        \"recall_macro\":recall_macro, \n",
    "        \"f1_macro\": f1_macro\n",
    "        }\n"
   ]
  },
  {
   "attachments": {},
   "cell_type": "markdown",
   "metadata": {},
   "source": [
    "## Training arguments"
   ]
  },
  {
   "cell_type": "code",
   "execution_count": 25,
   "metadata": {},
   "outputs": [],
   "source": [
    "args = TrainingArguments(\n",
    "        output_dir = '/opt/mlfta/aktert0/data/lab2',\n",
    "        evaluation_strategy = 'epoch',\n",
    "        save_strategy = 'epoch',\n",
    "        learning_rate=1e-5,\n",
    "        per_device_train_batch_size=8,\n",
    "        per_device_eval_batch_size=4,\n",
    "        num_train_epochs=10,\n",
    "        weight_decay=0.01,\n",
    "        load_best_model_at_end=True,\n",
    "        metric_for_best_model='accuracy',\n",
    "        save_total_limit = 1\n",
    ")"
   ]
  },
  {
   "attachments": {},
   "cell_type": "markdown",
   "metadata": {},
   "source": [
    "## Trainer configuration"
   ]
  },
  {
   "cell_type": "code",
   "execution_count": 26,
   "metadata": {},
   "outputs": [],
   "source": [
    "early_stop = EarlyStoppingCallback(2, 1.0)\n",
    "trainer = Trainer(\n",
    "        model=model,                         # the instantiated Transformers model to be trained\n",
    "        args=args,                           # training arguments, defined above\n",
    "        train_dataset=dataset_train,         # training dataset\n",
    "        eval_dataset=dataset_test,            # evaluation dataset\n",
    "        compute_metrics=compute_metrics,\n",
    "        callbacks=[early_stop]\n",
    ")"
   ]
  },
  {
   "attachments": {},
   "cell_type": "markdown",
   "metadata": {},
   "source": [
    "## Train"
   ]
  },
  {
   "cell_type": "code",
   "execution_count": 27,
   "metadata": {},
   "outputs": [
    {
     "name": "stderr",
     "output_type": "stream",
     "text": [
      "/opt/mlfta/aktert0/anaconda3/envs/myenv/lib/python3.11/site-packages/transformers/optimization.py:411: FutureWarning: This implementation of AdamW is deprecated and will be removed in a future version. Use the PyTorch implementation torch.optim.AdamW instead, or set `no_deprecation_warning=True` to disable this warning\n",
      "  warnings.warn(\n",
      "/opt/mlfta/aktert0/anaconda3/envs/myenv/lib/python3.11/site-packages/torch/nn/parallel/_functions.py:68: UserWarning: Was asked to gather along dimension 0, but all input tensors were scalars; will instead unsqueeze and return a vector.\n",
      "  warnings.warn('Was asked to gather along dimension 0, but all '\n"
     ]
    },
    {
     "data": {
      "text/html": [
       "\n",
       "    <div>\n",
       "      \n",
       "      <progress value='441' max='1470' style='width:300px; height:20px; vertical-align: middle;'></progress>\n",
       "      [ 441/1470 03:03 < 07:09, 2.39 it/s, Epoch 3/10]\n",
       "    </div>\n",
       "    <table border=\"1\" class=\"dataframe\">\n",
       "  <thead>\n",
       " <tr style=\"text-align: left;\">\n",
       "      <th>Epoch</th>\n",
       "      <th>Training Loss</th>\n",
       "      <th>Validation Loss</th>\n",
       "      <th>Accuracy</th>\n",
       "      <th>Precision Weighted</th>\n",
       "      <th>Recall Weighted</th>\n",
       "      <th>F1 Weighted</th>\n",
       "      <th>Precision Macro</th>\n",
       "      <th>Recall Macro</th>\n",
       "      <th>F1 Macro</th>\n",
       "    </tr>\n",
       "  </thead>\n",
       "  <tbody>\n",
       "    <tr>\n",
       "      <td>1</td>\n",
       "      <td>No log</td>\n",
       "      <td>0.618490</td>\n",
       "      <td>0.747648</td>\n",
       "      <td>0.719675</td>\n",
       "      <td>0.747648</td>\n",
       "      <td>0.717894</td>\n",
       "      <td>0.667470</td>\n",
       "      <td>0.610112</td>\n",
       "      <td>0.607061</td>\n",
       "    </tr>\n",
       "    <tr>\n",
       "      <td>2</td>\n",
       "      <td>No log</td>\n",
       "      <td>0.469386</td>\n",
       "      <td>0.780154</td>\n",
       "      <td>0.789616</td>\n",
       "      <td>0.780154</td>\n",
       "      <td>0.784171</td>\n",
       "      <td>0.723724</td>\n",
       "      <td>0.736316</td>\n",
       "      <td>0.728699</td>\n",
       "    </tr>\n",
       "    <tr>\n",
       "      <td>3</td>\n",
       "      <td>No log</td>\n",
       "      <td>0.464627</td>\n",
       "      <td>0.776732</td>\n",
       "      <td>0.774725</td>\n",
       "      <td>0.776732</td>\n",
       "      <td>0.774639</td>\n",
       "      <td>0.710470</td>\n",
       "      <td>0.717074</td>\n",
       "      <td>0.712629</td>\n",
       "    </tr>\n",
       "  </tbody>\n",
       "</table><p>"
      ],
      "text/plain": [
       "<IPython.core.display.HTML object>"
      ]
     },
     "metadata": {},
     "output_type": "display_data"
    },
    {
     "name": "stderr",
     "output_type": "stream",
     "text": [
      "/opt/mlfta/aktert0/anaconda3/envs/myenv/lib/python3.11/site-packages/torch/nn/parallel/_functions.py:68: UserWarning: Was asked to gather along dimension 0, but all input tensors were scalars; will instead unsqueeze and return a vector.\n",
      "  warnings.warn('Was asked to gather along dimension 0, but all '\n",
      "/opt/mlfta/aktert0/anaconda3/envs/myenv/lib/python3.11/site-packages/torch/nn/parallel/_functions.py:68: UserWarning: Was asked to gather along dimension 0, but all input tensors were scalars; will instead unsqueeze and return a vector.\n",
      "  warnings.warn('Was asked to gather along dimension 0, but all '\n"
     ]
    },
    {
     "name": "stdout",
     "output_type": "stream",
     "text": [
      "Running Time of Base Bert model: 185.12976741790771 seconds or 3.085496123631795 minutes or 0.05142493539386325 hours\n"
     ]
    },
    {
     "name": "stderr",
     "output_type": "stream",
     "text": [
      "/opt/mlfta/aktert0/anaconda3/envs/myenv/lib/python3.11/site-packages/torch/nn/parallel/_functions.py:68: UserWarning: Was asked to gather along dimension 0, but all input tensors were scalars; will instead unsqueeze and return a vector.\n",
      "  warnings.warn('Was asked to gather along dimension 0, but all '\n"
     ]
    },
    {
     "data": {
      "text/html": [],
      "text/plain": [
       "<IPython.core.display.HTML object>"
      ]
     },
     "metadata": {},
     "output_type": "display_data"
    },
    {
     "data": {
      "text/plain": [
       "{'eval_loss': 0.46938619017601013,\n",
       " 'eval_accuracy': 0.7801539777587682,\n",
       " 'eval_precision_weighted': 0.7896163843779336,\n",
       " 'eval_recall_weighted': 0.7801539777587682,\n",
       " 'eval_f1_weighted': 0.7841708989716387,\n",
       " 'eval_precision_macro': 0.7237235828430331,\n",
       " 'eval_recall_macro': 0.7363155793797725,\n",
       " 'eval_f1_macro': 0.7286990936544265,\n",
       " 'eval_runtime': 9.2044,\n",
       " 'eval_samples_per_second': 127.005,\n",
       " 'eval_steps_per_second': 8.04,\n",
       " 'epoch': 3.0}"
      ]
     },
     "execution_count": 27,
     "metadata": {},
     "output_type": "execute_result"
    }
   ],
   "source": [
    "import time\n",
    "start_time = time.time()\n",
    "trainer.train()\n",
    "end_time = time.time()\n",
    "running_time = end_time - start_time\n",
    "print(f\"Running Time of Base Bert model: {running_time} seconds or {running_time / 60} minutes or {running_time / 3600} hours\")\n",
    "trainer.evaluate()"
   ]
  },
  {
   "cell_type": "code",
   "execution_count": 28,
   "metadata": {},
   "outputs": [
    {
     "name": "stdout",
     "output_type": "stream",
     "text": [
      "Running Time of Base Bert model: 185.12976741790771 seconds or 3.085496123631795 minutes or 0.05142493539386325 hours\n"
     ]
    }
   ],
   "source": [
    "print(f\"Running Time of Base Bert model: {running_time} seconds or {running_time / 60} minutes or {running_time / 3600} hours\")"
   ]
  },
  {
   "attachments": {},
   "cell_type": "markdown",
   "metadata": {},
   "source": [
    "# Evaluation"
   ]
  },
  {
   "cell_type": "code",
   "execution_count": 29,
   "metadata": {},
   "outputs": [
    {
     "name": "stderr",
     "output_type": "stream",
     "text": [
      "/opt/mlfta/aktert0/anaconda3/envs/myenv/lib/python3.11/site-packages/torch/nn/parallel/_functions.py:68: UserWarning: Was asked to gather along dimension 0, but all input tensors were scalars; will instead unsqueeze and return a vector.\n",
      "  warnings.warn('Was asked to gather along dimension 0, but all '\n"
     ]
    }
   ],
   "source": [
    "preds, label_ids, metrics = trainer.predict(dataset_test)\n",
    "# print(preds)             # list of predicted label id/sentiment id \n",
    "# print(label_ids)         # list of given label id/sentiment id \n",
    "# print(metrics)           # evaluation result\n",
    "preds = np.argmax(preds, axis=1)"
   ]
  },
  {
   "attachments": {},
   "cell_type": "markdown",
   "metadata": {},
   "source": [
    "## Confusion Matrics"
   ]
  },
  {
   "cell_type": "code",
   "execution_count": 30,
   "metadata": {},
   "outputs": [
    {
     "data": {
      "image/png": "[encoded data removed]",
      "text/plain": [
       "<Figure size 700x400 with 2 Axes>"
      ]
     },
     "metadata": {},
     "output_type": "display_data"
    }
   ],
   "source": [
    "def confusion_matrix(y_test, y_pred):\n",
    "    import matplotlib.pyplot as plt\n",
    "    from sklearn.metrics import confusion_matrix\n",
    "    import seaborn as sns\n",
    "    from sklearn.metrics import confusion_matrix\n",
    "    plt.figure(figsize=(7, 4))\n",
    "\n",
    "    heatmap = sns.heatmap(\n",
    "        data=pd.DataFrame(confusion_matrix(y_test, y_pred)),\n",
    "        annot=True,\n",
    "        fmt=\"d\",\n",
    "        cmap=sns.color_palette(\"Blues\", 50),\n",
    "    )\n",
    "    x_axis_labels = [\"Pos\",\"Neg\",\"Neu\"]\n",
    "    y_axis_labels = [\"Pos\",\"Neg\",\"Neu\"]\n",
    "    # heatmap.xaxis.set_ticklabels(heatmap.xaxis.get_ticklabels(), fontsize=14)\n",
    "    heatmap.xaxis.set_ticklabels(x_axis_labels, fontsize=8)\n",
    "    # heatmap.yaxis.set_ticklabels(\n",
    "    #     heatmap.yaxis.get_ticklabels(), rotation=0, fontsize=14\n",
    "    # )\n",
    "    heatmap.yaxis.set_ticklabels(y_axis_labels, rotation=0, fontsize=8)\n",
    "\n",
    "    plt.title(\"Confusion Matrics\")\n",
    "    plt.ylabel(\"Ground Truth\")\n",
    "    plt.xlabel(\"Prediction\")\n",
    "\n",
    "confusion_matrix(label_ids, preds)"
   ]
  },
  {
   "attachments": {},
   "cell_type": "markdown",
   "metadata": {},
   "source": [
    "## Accuracy"
   ]
  },
  {
   "cell_type": "code",
   "execution_count": 31,
   "metadata": {},
   "outputs": [
    {
     "name": "stdout",
     "output_type": "stream",
     "text": [
      "Accuracy            : 0.7802\n",
      "Precision(macro)    : 0.7237\n",
      "Recall(macro)       : 0.7363\n",
      "F1 Score(macro)     : 0.7287\n",
      "Precision(weighted) : 0.7896\n",
      "Recall(weighted)    : 0.7802\n",
      "F1 Score(weighted)  : 0.7842\n",
      "\n",
      "-------------------------------------------------------------\n",
      "\n",
      "\n",
      "Class\t\t: positive\n",
      "Precision\t: 0.8446\n",
      "Recall\t\t: 0.8260\n",
      "F1 Score\t: 0.8352\n",
      "\n",
      "Class\t\t: negative\n",
      "Precision\t: 0.4853\n",
      "Recall\t\t: 0.5723\n",
      "F1 Score\t: 0.5252\n",
      "\n",
      "Class\t\t: neutral\n",
      "Precision\t: 0.8412\n",
      "Recall\t\t: 0.8107\n",
      "F1 Score\t: 0.8257\n"
     ]
    },
    {
     "data": {
      "image/png": "[encoded data removed]",
      "text/plain": [
       "<Figure size 640x480 with 1 Axes>"
      ]
     },
     "metadata": {},
     "output_type": "display_data"
    }
   ],
   "source": [
    "def my_eval(y_test, y_pred):\n",
    "    import matplotlib.pyplot as plt\n",
    "    from sklearn.metrics import (\n",
    "        accuracy_score,\n",
    "        precision_score,\n",
    "        recall_score,\n",
    "        f1_score\n",
    "    )\n",
    "    # define class\n",
    "    class_names = ['positive','negative', 'neutral']\n",
    "\n",
    "    # model eval\n",
    "    accuracy = accuracy_score(y_test, y_pred)\n",
    "    \n",
    "    precision = precision_score(y_test, y_pred, average=None)\n",
    "    recall = recall_score(y_test, y_pred, average=None)\n",
    "    f1 = f1_score(y_test, y_pred, average=None)\n",
    "    \n",
    "    precision_macro = precision_score(y_test, y_pred, average='macro')\n",
    "    recall_macro = recall_score(y_test, y_pred, average='macro')\n",
    "    f1_macro = f1_score(y_test, y_pred, average='macro')\n",
    "    \n",
    "    precision_weighted = precision_score(y_test, y_pred, average='weighted')\n",
    "    recall_weighted = recall_score(y_test, y_pred, average='weighted')\n",
    "    f1_weighted = f1_score(y_test, y_pred, average='weighted')\n",
    "\n",
    "    print(\"Accuracy            : {:.4f}\".format(accuracy))\n",
    "    print(\"Precision(macro)    : {:.4f}\".format(precision_macro))\n",
    "    print(\"Recall(macro)       : {:.4f}\".format(recall_macro))\n",
    "    print(\"F1 Score(macro)     : {:.4f}\".format(f1_macro))\n",
    "\n",
    "    print(\"Precision(weighted) : {:.4f}\".format(precision_weighted))\n",
    "    print(\"Recall(weighted)    : {:.4f}\".format(recall_weighted))\n",
    "    print(\"F1 Score(weighted)  : {:.4f}\".format(f1_weighted))\n",
    "\n",
    "\n",
    "    print(\"\\n-------------------------------------------------------------\\n\")\n",
    "    \n",
    "    for i, class_name in enumerate(class_names):\n",
    "        print(\"\\nClass\\t\\t: {}\".format(class_name))\n",
    "        print(\"Precision\\t: {:.4f}\".format(precision[i]))\n",
    "        print(\"Recall\\t\\t: {:.4f}\".format(recall[i]))\n",
    "        print(\"F1 Score\\t: {:.4f}\".format(f1[i]))\n",
    "\n",
    "    x_pos = np.arange(len(class_names))\n",
    "\n",
    "    plt.bar(x_pos, precision, width=0.2, label='Precision')\n",
    "    plt.bar(x_pos + 0.2, recall, width=0.2, label='Recall')\n",
    "    plt.bar(x_pos + 0.4, f1, width=0.2, label='F1 Score')\n",
    "\n",
    "    plt.xticks(x_pos + 0.2, class_names)\n",
    "    plt.xlabel('Class')\n",
    "    plt.ylabel('Score')\n",
    "    plt.title('Evaluation Metrics')\n",
    "    plt.legend()\n",
    "\n",
    "    plt.show()\n",
    "\n",
    "    \n",
    "my_eval(label_ids, preds)"
   ]
  }
 ],
 "metadata": {
  "kernelspec": {
   "display_name": "myenv",
   "language": "python",
   "name": "python3"
  },
  "language_info": {
   "codemirror_mode": {
    "name": "ipython",
    "version": 3
   },
   "file_extension": ".py",
   "mimetype": "text/x-python",
   "name": "python",
   "nbconvert_exporter": "python",
   "pygments_lexer": "ipython3",
   "version": "3.11.3"
  },
  "orig_nbformat": 4
 },
 "nbformat": 4,
 "nbformat_minor": 2
}
