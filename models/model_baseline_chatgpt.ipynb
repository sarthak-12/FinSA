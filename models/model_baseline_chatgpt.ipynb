{
 "cells": [
  {
   "cell_type": "markdown",
   "metadata": {},
   "source": [
    "# Baseline implementation using GPT-3.5 turbo."
   ]
  },
  {
   "cell_type": "markdown",
   "metadata": {},
   "source": [
    "## Relevant imports"
   ]
  },
  {
   "cell_type": "code",
   "execution_count": 1,
   "metadata": {},
   "outputs": [],
   "source": [
    "import warnings\n",
    "warnings.filterwarnings('ignore')\n",
    "import pandas as pd\n",
    "import openai\n",
    "import time\n",
    "import csv\n",
    "import nltk\n",
    "from sklearn.metrics import accuracy_score, f1_score, precision_score, recall_score, confusion_matrix\n",
    "import matplotlib.pyplot as plt\n",
    "import seaborn as sns\n",
    "from tabulate import tabulate"
   ]
  },
  {
   "cell_type": "code",
   "execution_count": 2,
   "metadata": {},
   "outputs": [],
   "source": [
    "# OpenAI API credentials\n",
    "openai.api_key = 'Your_Key'"
   ]
  },
  {
   "cell_type": "markdown",
   "metadata": {},
   "source": [
    "## Data Preprocessing"
   ]
  },
  {
   "cell_type": "code",
   "execution_count": 3,
   "metadata": {},
   "outputs": [],
   "source": [
    "# Load the original dataset\n",
    "data = pd.read_csv(\"data.csv\")"
   ]
  },
  {
   "cell_type": "markdown",
   "metadata": {},
   "source": [
    "## Subset 1\n",
    "Creating a subset of 150 unique values while keeping the distribution same as the original dataset."
   ]
  },
  {
   "cell_type": "code",
   "execution_count": 4,
   "metadata": {},
   "outputs": [],
   "source": [
    "# Subset 1: Same Distribution\n",
    "subset_same_distribution = pd.DataFrame()\n",
    "categories_same_distribution = ['neutral', 'positive', 'negative']\n",
    "percentages_same_distribution = [0.54, 0.32, 0.15]\n",
    "num_samples_same_distribution = 150\n",
    "\n",
    "for category, percentage in zip(categories_same_distribution, percentages_same_distribution):\n",
    "    num_samples = int(percentage * num_samples_same_distribution)\n",
    "    samples = data[data['Sentiment'] == category].sample(num_samples)\n",
    "    subset_same_distribution = subset_same_distribution.append(samples)"
   ]
  },
  {
   "cell_type": "markdown",
   "metadata": {},
   "source": [
    "##  Subset 2\n",
    "Creating a subset of 150 unique values while keeping the distribution equal (50 values each)."
   ]
  },
  {
   "cell_type": "code",
   "execution_count": 5,
   "metadata": {},
   "outputs": [],
   "source": [
    "# Subset 2: Equal Distribution\n",
    "subset_equal_distribution = pd.DataFrame()\n",
    "num_samples_equal_distribution = 50\n",
    "\n",
    "for category in categories_same_distribution:\n",
    "    samples = data[data['Sentiment'] == category].sample(num_samples_equal_distribution)\n",
    "    subset_equal_distribution = subset_equal_distribution.append(samples)"
   ]
  },
  {
   "cell_type": "markdown",
   "metadata": {},
   "source": [
    "## Checking the distributions"
   ]
  },
  {
   "cell_type": "code",
   "execution_count": 6,
   "metadata": {},
   "outputs": [
    {
     "data": {
      "text/plain": [
       "neutral     0.536424\n",
       "positive    0.317881\n",
       "negative    0.145695\n",
       "Name: Sentiment, dtype: float64"
      ]
     },
     "execution_count": 6,
     "metadata": {},
     "output_type": "execute_result"
    }
   ],
   "source": [
    "subset_same_distribution['Sentiment'].value_counts(normalize=True)"
   ]
  },
  {
   "cell_type": "code",
   "execution_count": 7,
   "metadata": {},
   "outputs": [
    {
     "data": {
      "text/plain": [
       "neutral     0.333333\n",
       "positive    0.333333\n",
       "negative    0.333333\n",
       "Name: Sentiment, dtype: float64"
      ]
     },
     "execution_count": 7,
     "metadata": {},
     "output_type": "execute_result"
    }
   ],
   "source": [
    "subset_equal_distribution['Sentiment'].value_counts(normalize=True)"
   ]
  },
  {
   "cell_type": "markdown",
   "metadata": {},
   "source": [
    "## Tokenizing the Prompt"
   ]
  },
  {
   "cell_type": "code",
   "execution_count": 8,
   "metadata": {},
   "outputs": [
    {
     "name": "stderr",
     "output_type": "stream",
     "text": [
      "[nltk_data] Downloading package punkt to\n",
      "[nltk_data]     C:\\Users\\Sarthak\\AppData\\Roaming\\nltk_data...\n",
      "[nltk_data]   Package punkt is already up-to-date!\n"
     ]
    }
   ],
   "source": [
    "# Download the required NLTK tokenizer data\n",
    "nltk.download('punkt')\n",
    "\n",
    "# Define the prompt\n",
    "prompt = \"Predict the sentiment of the following financial news text in only one word as: positive, neutral, or negative.\"\n",
    "predicted_labels = []\n",
    "\n",
    "# Tokenize the prompt\n",
    "tokenized_prompt = nltk.word_tokenize(prompt)"
   ]
  },
  {
   "cell_type": "markdown",
   "metadata": {},
   "source": [
    "## Prompt execution class\n",
    "The OpenAI API allows a maximum of **3** requests per minute and is often overloaded with requests hence , a time delay of 60 seconds was introduced between each batch of two requests."
   ]
  },
  {
   "cell_type": "code",
   "execution_count": 9,
   "metadata": {},
   "outputs": [],
   "source": [
    "# Define the maximum number of requests and the delay between each batch\n",
    "max_requests = 75\n",
    "batch_size = 2\n",
    "delay_seconds = 60\n",
    "\n",
    "# Function to execute prompt for a batch of texts\n",
    "def execute_prompt(batch_texts):\n",
    "    predicted_labels = []\n",
    "    for text in batch_texts:\n",
    "        # Tokenize the text\n",
    "        tokenized_text = nltk.word_tokenize(text)\n",
    "\n",
    "        # Combine the tokenized prompt and tokenized text\n",
    "        combined_text = \" \".join(tokenized_prompt + tokenized_text)\n",
    "\n",
    "        completion = openai.ChatCompletion.create(model=\"gpt-3.5-turbo\", messages=[{\"role\": \"system\", \"content\": combined_text}])\n",
    "        predicted_label = completion.choices[0].message.content.lower()\n",
    "        predicted_labels.append(predicted_label)\n",
    "    return predicted_labels\n"
   ]
  },
  {
   "cell_type": "markdown",
   "metadata": {},
   "source": [
    "## Prompt execution for subset 1"
   ]
  },
  {
   "cell_type": "code",
   "execution_count": 10,
   "metadata": {},
   "outputs": [
    {
     "name": "stdout",
     "output_type": "stream",
     "text": [
      "Predicted labels for Subset 1 saved to: predicted_labels_same_distribution.csv\n"
     ]
    }
   ],
   "source": [
    "# Execute prompt for Subset 1: Same Distribution\n",
    "texts_same_distribution = subset_same_distribution['Sentence'].tolist()\n",
    "true_labels_same_distribution = subset_same_distribution['Sentiment'].tolist()\n",
    "predicted_labels_same_distribution = []\n",
    "\n",
    "for i in range(0, max_requests, batch_size):\n",
    "    batch_texts = texts_same_distribution[i:i+batch_size]  # Get the batch of texts\n",
    "    predicted_labels = execute_prompt(batch_texts)\n",
    "    predicted_labels_same_distribution.extend(predicted_labels)\n",
    "    if i + batch_size < len(texts_same_distribution):\n",
    "        time.sleep(delay_seconds)  # Delay between each batch\n",
    "\n",
    "# Save predicted labels for Subset 1 to CSV file\n",
    "output_file_same_distribution = \"predicted_labels_same_distribution.csv\"\n",
    "with open(output_file_same_distribution, mode=\"w\", newline=\"\") as file:\n",
    "    writer = csv.writer(file)\n",
    "    writer.writerow([\"Text\", \"True Label\", \"Predicted Label\"])\n",
    "    for text, true_label, predicted_label in zip(texts_same_distribution, true_labels_same_distribution, predicted_labels_same_distribution):\n",
    "        writer.writerow([text, true_label, predicted_label])\n",
    "print(\"Predicted labels for Subset 1 saved to:\", output_file_same_distribution)\n"
   ]
  },
  {
   "cell_type": "markdown",
   "metadata": {},
   "source": [
    "## Prompt execution for subset 2"
   ]
  },
  {
   "cell_type": "code",
   "execution_count": 13,
   "metadata": {},
   "outputs": [
    {
     "name": "stdout",
     "output_type": "stream",
     "text": [
      "Predicted labels for Subset 2 saved to: predicted_labels_equal_distribution.csv\n"
     ]
    }
   ],
   "source": [
    "# Execute prompt for Subset 2: Equal Distribution\n",
    "texts_equal_distribution = subset_equal_distribution['Sentence'].tolist()\n",
    "true_labels_equal_distribution = subset_equal_distribution['Sentiment'].tolist()\n",
    "predicted_labels_equal_distribution = []\n",
    "\n",
    "for i in range(0, max_requests, batch_size):\n",
    "    batch_texts = texts_equal_distribution[i:i+batch_size]  # Get the batch of texts\n",
    "    predicted_labels = execute_prompt(batch_texts)\n",
    "    predicted_labels_equal_distribution.extend(predicted_labels)\n",
    "    if i + batch_size < len(texts_equal_distribution):\n",
    "        time.sleep(delay_seconds)  # Delay between each batch\n",
    "\n",
    "# Save predicted labels for Subset 2 to CSV file\n",
    "output_file_equal_distribution = \"predicted_labels_equal_distribution.csv\"\n",
    "with open(output_file_equal_distribution, mode=\"w\", newline=\"\") as file:\n",
    "    writer = csv.writer(file)\n",
    "    writer.writerow([\"Text\", \"True Label\", \"Predicted Label\"])\n",
    "    for text, true_label, predicted_label in zip(texts_equal_distribution, true_labels_equal_distribution, predicted_labels_equal_distribution):\n",
    "        writer.writerow([text, true_label, predicted_label])\n",
    "print(\"Predicted labels for Subset 2 saved to:\", output_file_equal_distribution)"
   ]
  },
  {
   "cell_type": "markdown",
   "metadata": {},
   "source": [
    "## Evaluation Metrics"
   ]
  },
  {
   "cell_type": "code",
   "execution_count": 16,
   "metadata": {},
   "outputs": [
    {
     "name": "stdout",
     "output_type": "stream",
     "text": [
      "Subset 1: Same Distribution\n",
      "Accuracy: 0.57\n",
      "Precision: 1.00\n",
      "Recall: 0.57\n",
      "F1-score (Weighted): 0.72\n",
      "\n"
     ]
    },
    {
     "data": {
      "image/png": "[encoded data removed]",
      "text/plain": [
       "<Figure size 600x400 with 2 Axes>"
      ]
     },
     "metadata": {},
     "output_type": "display_data"
    },
    {
     "name": "stdout",
     "output_type": "stream",
     "text": [
      "\n",
      "Subset 2: Equal Distribution\n",
      "Accuracy: 0.61\n",
      "Precision: 0.82\n",
      "Recall: 0.61\n",
      "F1-score (Weighted): 0.68\n",
      "\n"
     ]
    },
    {
     "data": {
      "image/png": "[encoded data removed]",
      "text/plain": [
       "<Figure size 600x400 with 2 Axes>"
      ]
     },
     "metadata": {},
     "output_type": "display_data"
    }
   ],
   "source": [
    "# Ensure the number of samples matches for true and predicted labels\n",
    "true_labels_same_distribution = true_labels_same_distribution[:len(predicted_labels_same_distribution)]\n",
    "\n",
    "# Calculate accuracy metrics for Subset 1: Same Distribution\n",
    "accuracy_same_distribution = accuracy_score(true_labels_same_distribution, predicted_labels_same_distribution)\n",
    "precision_same_distribution = precision_score(true_labels_same_distribution, predicted_labels_same_distribution, average='weighted')\n",
    "recall_same_distribution = recall_score(true_labels_same_distribution, predicted_labels_same_distribution, average='weighted')\n",
    "f1_same_distribution = f1_score(true_labels_same_distribution, predicted_labels_same_distribution, average='weighted')\n",
    "\n",
    "# Print accuracy metrics for Subset 1: Same Distribution\n",
    "print(\"Subset 1: Same Distribution\")\n",
    "print(\"Accuracy: {:.2f}\".format(accuracy_same_distribution))\n",
    "print(\"Precision: {:.2f}\".format(precision_same_distribution))\n",
    "print(\"Recall: {:.2f}\".format(recall_same_distribution))\n",
    "print(\"F1-score (Weighted): {:.2f}\".format(f1_same_distribution))\n",
    "print()\n",
    "\n",
    "\n",
    "# Create confusion matrix for Subset 1: Same Distribution\n",
    "confusion_matrix_same_distribution = confusion_matrix(true_labels_same_distribution, predicted_labels_same_distribution, labels=['positive', 'negative', 'neutral'])\n",
    "\n",
    "# Plot confusion matrix for Subset 1: Same Distribution\n",
    "plt.figure(figsize=(6, 4))\n",
    "sns.heatmap(confusion_matrix_same_distribution, annot=True, fmt=\"d\", cmap=\"Blues\",\n",
    "            xticklabels=['positive', 'negative', 'neutral'],\n",
    "            yticklabels=['positive', 'negative', 'neutral'])\n",
    "plt.title(\"Confusion Matrix - Subset 1: Same Distribution\")\n",
    "plt.xlabel(\"Predicted Labels\")\n",
    "plt.ylabel(\"True Labels\")\n",
    "plt.show()\n",
    "print()\n",
    "\n",
    "# Ensure the number of samples matches for true and predicted labels\n",
    "true_labels_equal_distribution = true_labels_equal_distribution[:len(predicted_labels_equal_distribution)]\n",
    "\n",
    "# Calculate accuracy metrics for Subset 2: Equal Distribution\n",
    "accuracy_equal_distribution = accuracy_score(true_labels_equal_distribution, predicted_labels_equal_distribution)\n",
    "precision_equal_distribution = precision_score(true_labels_equal_distribution, predicted_labels_equal_distribution, average='weighted')\n",
    "recall_equal_distribution = recall_score(true_labels_equal_distribution, predicted_labels_equal_distribution, average='weighted')\n",
    "f1_equal_distribution = f1_score(true_labels_equal_distribution, predicted_labels_equal_distribution, average='weighted')\n",
    "\n",
    "# Print accuracy metrics for Subset 2: Equal Distribution\n",
    "print(\"Subset 2: Equal Distribution\")\n",
    "print(\"Accuracy: {:.2f}\".format(accuracy_equal_distribution))\n",
    "print(\"Precision: {:.2f}\".format(precision_equal_distribution))\n",
    "print(\"Recall: {:.2f}\".format(recall_equal_distribution))\n",
    "print(\"F1-score (Weighted): {:.2f}\".format(f1_equal_distribution))\n",
    "print()\n",
    "\n",
    "# Create confusion matrix for Subset 2: Equal Distribution\n",
    "confusion_matrix_equal_distribution = confusion_matrix(true_labels_equal_distribution, predicted_labels_equal_distribution, labels=['positive', 'negative', 'neutral'])\n",
    "\n",
    "# Plot confusion matrix for Subset 2: Equal Distribution\n",
    "plt.figure(figsize=(6, 4))\n",
    "sns.heatmap(confusion_matrix_equal_distribution, annot=True, fmt=\"d\", cmap=\"Blues\",\n",
    "            xticklabels=['positive', 'negative', 'neutral'],\n",
    "            yticklabels=['positive', 'negative', 'neutral'])\n",
    "plt.title(\"Confusion Matrix - Subset 2: Equal Distribution\")\n",
    "plt.xlabel(\"Predicted Labels\")\n",
    "plt.ylabel(\"True Labels\")\n",
    "plt.show()"
   ]
  },
  {
   "cell_type": "markdown",
   "metadata": {},
   "source": [
    "## Class based evaluation metrics for subset 1"
   ]
  },
  {
   "cell_type": "code",
   "execution_count": 20,
   "metadata": {},
   "outputs": [
    {
     "name": "stdout",
     "output_type": "stream",
     "text": [
      "Metrics for Negative Class:\n",
      "Accuracy: nan\n",
      "Precision (Weighted): 0.00\n",
      "Precision (Macro): nan\n",
      "Recall (Weighted): 0.00\n",
      "Recall (Macro): nan\n",
      "F1-score (Weighted): 0.00\n",
      "F1-score (Macro): nan\n",
      "\n",
      "Metrics for Neutral Class:\n",
      "Accuracy: 0.57\n",
      "Precision (Weighted): 1.00\n",
      "Precision (Macro): 0.17\n",
      "Recall (Weighted): 0.57\n",
      "Recall (Macro): 0.09\n",
      "F1-score (Weighted): 0.72\n",
      "F1-score (Macro): 0.12\n",
      "\n",
      "Metrics for Positive Class:\n",
      "Accuracy: nan\n",
      "Precision (Weighted): 0.00\n",
      "Precision (Macro): nan\n",
      "Recall (Weighted): 0.00\n",
      "Recall (Macro): nan\n",
      "F1-score (Weighted): 0.00\n",
      "F1-score (Macro): nan\n",
      "\n"
     ]
    }
   ],
   "source": [
    "class_names = ['negative', 'neutral', 'positive']\n",
    "\n",
    "\n",
    "# Define lists to store the metric values for each class\n",
    "accuracy_list = []\n",
    "precision_weighted_list = []\n",
    "precision_macro_list = []\n",
    "recall_weighted_list = []\n",
    "recall_macro_list = []\n",
    "f1_weighted_list = []\n",
    "f1_macro_list = []\n",
    "\n",
    "for class_name in class_names:\n",
    "    # Filter labels for the current class\n",
    "    class_indices = [i for i in range(len(true_labels_same_distribution)) if true_labels_same_distribution[i] == class_name]\n",
    "    true_labels_class = [true_labels_same_distribution[i] for i in class_indices]\n",
    "    predicted_labels_class = [predicted_labels_same_distribution[i] for i in class_indices]\n",
    "\n",
    "    # Calculate metrics for the current class\n",
    "    accuracy_class = accuracy_score(true_labels_class, predicted_labels_class)\n",
    "    precision_weighted_class = precision_score(true_labels_class, predicted_labels_class, average='weighted')\n",
    "    precision_macro_class = precision_score(true_labels_class, predicted_labels_class, average='macro')\n",
    "    recall_weighted_class = recall_score(true_labels_class, predicted_labels_class, average='weighted')\n",
    "    recall_macro_class = recall_score(true_labels_class, predicted_labels_class, average='macro')\n",
    "    f1_weighted_class = f1_score(true_labels_class, predicted_labels_class, average='weighted')\n",
    "    f1_macro_class = f1_score(true_labels_class, predicted_labels_class, average='macro')\n",
    "    \n",
    "    # Append the metric values to the corresponding lists\n",
    "    accuracy_list.append(accuracy_class)\n",
    "    precision_weighted_list.append(precision_weighted_class)\n",
    "    precision_macro_list.append(precision_macro_class)\n",
    "    recall_weighted_list.append(recall_weighted_class)\n",
    "    recall_macro_list.append(recall_macro_class)\n",
    "    f1_weighted_list.append(f1_weighted_class)\n",
    "    f1_macro_list.append(f1_macro_class)\n",
    "\n",
    "    # Print metrics for the current class\n",
    "    print(f\"Metrics for {class_name.capitalize()} Class:\")\n",
    "    print(\"Accuracy:\", format(accuracy_class, \".2f\"))\n",
    "    print(\"Precision (Weighted):\", format(precision_weighted_class, \".2f\"))\n",
    "    print(\"Precision (Macro):\", format(precision_macro_class, \".2f\"))\n",
    "    print(\"Recall (Weighted):\", format(recall_weighted_class, \".2f\"))\n",
    "    print(\"Recall (Macro):\", format(recall_macro_class, \".2f\"))\n",
    "    print(\"F1-score (Weighted):\", format(f1_weighted_class, \".2f\"))\n",
    "    print(\"F1-score (Macro):\", format(f1_macro_class, \".2f\"))\n",
    "    print()"
   ]
  },
  {
   "cell_type": "markdown",
   "metadata": {},
   "source": [
    "## Class based evaluation metrics for subset 2"
   ]
  },
  {
   "cell_type": "code",
   "execution_count": 21,
   "metadata": {},
   "outputs": [
    {
     "name": "stdout",
     "output_type": "stream",
     "text": [
      "Metrics for Negative Class:\n",
      "Accuracy: nan\n",
      "Precision (Weighted): 0.00\n",
      "Precision (Macro): nan\n",
      "Recall (Weighted): 0.00\n",
      "Recall (Macro): nan\n",
      "F1-score (Weighted): 0.00\n",
      "F1-score (Macro): nan\n",
      "\n",
      "Metrics for Neutral Class:\n",
      "Accuracy: 0.54\n",
      "Precision (Weighted): 1.00\n",
      "Precision (Macro): 0.17\n",
      "Recall (Weighted): 0.54\n",
      "Recall (Macro): 0.09\n",
      "F1-score (Weighted): 0.70\n",
      "F1-score (Macro): 0.12\n",
      "\n",
      "Metrics for Positive Class:\n",
      "Accuracy: 0.73\n",
      "Precision (Weighted): 1.00\n",
      "Precision (Macro): 0.33\n",
      "Recall (Weighted): 0.73\n",
      "Recall (Macro): 0.24\n",
      "F1-score (Weighted): 0.84\n",
      "F1-score (Macro): 0.28\n",
      "\n"
     ]
    }
   ],
   "source": [
    "class_names = ['negative', 'neutral', 'positive']\n",
    "\n",
    "\n",
    "# Define lists to store the metric values for each class\n",
    "accuracy_list = []\n",
    "precision_weighted_list = []\n",
    "precision_macro_list = []\n",
    "recall_weighted_list = []\n",
    "recall_macro_list = []\n",
    "f1_weighted_list = []\n",
    "f1_macro_list = []\n",
    "\n",
    "for class_name in class_names:\n",
    "    # Filter labels for the current class\n",
    "    class_indices = [i for i in range(len(true_labels_equal_distribution)) if true_labels_equal_distribution[i] == class_name]\n",
    "    true_labels_class = [true_labels_equal_distribution[i] for i in class_indices]\n",
    "    predicted_labels_class = [predicted_labels_equal_distribution[i] for i in class_indices]\n",
    "\n",
    "    # Calculate metrics for the current class\n",
    "    accuracy_class = accuracy_score(true_labels_class, predicted_labels_class)\n",
    "    precision_weighted_class = precision_score(true_labels_class, predicted_labels_class, average='weighted')\n",
    "    precision_macro_class = precision_score(true_labels_class, predicted_labels_class, average='macro')\n",
    "    recall_weighted_class = recall_score(true_labels_class, predicted_labels_class, average='weighted')\n",
    "    recall_macro_class = recall_score(true_labels_class, predicted_labels_class, average='macro')\n",
    "    f1_weighted_class = f1_score(true_labels_class, predicted_labels_class, average='weighted')\n",
    "    f1_macro_class = f1_score(true_labels_class, predicted_labels_class, average='macro')\n",
    "    \n",
    "    # Append the metric values to the corresponding lists\n",
    "    accuracy_list.append(accuracy_class)\n",
    "    precision_weighted_list.append(precision_weighted_class)\n",
    "    precision_macro_list.append(precision_macro_class)\n",
    "    recall_weighted_list.append(recall_weighted_class)\n",
    "    recall_macro_list.append(recall_macro_class)\n",
    "    f1_weighted_list.append(f1_weighted_class)\n",
    "    f1_macro_list.append(f1_macro_class)\n",
    "\n",
    "    # Print metrics for the current class\n",
    "    print(f\"Metrics for {class_name.capitalize()} Class:\")\n",
    "    print(\"Accuracy:\", format(accuracy_class, \".2f\"))\n",
    "    print(\"Precision (Weighted):\", format(precision_weighted_class, \".2f\"))\n",
    "    print(\"Precision (Macro):\", format(precision_macro_class, \".2f\"))\n",
    "    print(\"Recall (Weighted):\", format(recall_weighted_class, \".2f\"))\n",
    "    print(\"Recall (Macro):\", format(recall_macro_class, \".2f\"))\n",
    "    print(\"F1-score (Weighted):\", format(f1_weighted_class, \".2f\"))\n",
    "    print(\"F1-score (Macro):\", format(f1_macro_class, \".2f\"))\n",
    "    print()"
   ]
  }
 ],
 "metadata": {
  "kernelspec": {
   "display_name": "Python 3 (ipykernel)",
   "language": "python",
   "name": "python3"
  },
  "language_info": {
   "codemirror_mode": {
    "name": "ipython",
    "version": 3
   },
   "file_extension": ".py",
   "mimetype": "text/x-python",
   "name": "python",
   "nbconvert_exporter": "python",
   "pygments_lexer": "ipython3",
   "version": "3.8.13"
  }
 },
 "nbformat": 4,
 "nbformat_minor": 2
}
