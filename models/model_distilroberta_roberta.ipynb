{
 "cells": [
  {
   "cell_type": "markdown",
   "metadata": {},
   "source": [
    "This jupyter notebook contains both **Roberta** and **DistilRoberta** models. Following are the few things to keep in mind\n",
    "\n",
    "1. Roberta model is referred to as teacher model while as DistilRoberta model is referred to as student model\n",
    "2. Both the models use the same dataloader but not the same class loader\n",
    "3. Distillation of student model was done using the teacher model\n",
    "4. The GPU cache memory has been cleared before the training of each model to ensure zero memory spillage\n",
    "5. Model runtime has been recorded"
   ]
  },
  {
   "cell_type": "code",
   "execution_count": 1,
   "metadata": {
    "execution": {
     "iopub.execute_input": "2023-07-01T09:45:09.694985Z",
     "iopub.status.busy": "2023-07-01T09:45:09.694239Z",
     "iopub.status.idle": "2023-07-01T09:45:32.418118Z",
     "shell.execute_reply": "2023-07-01T09:45:32.416774Z",
     "shell.execute_reply.started": "2023-07-01T09:45:09.694929Z"
    }
   },
   "outputs": [
    {
     "name": "stdout",
     "output_type": "stream",
     "text": [
      "Collecting transformers==4.29.1\n",
      "  Downloading transformers-4.29.1-py3-none-any.whl (7.1 MB)\n",
      "\u001b[2K     \u001b[90m━━━━━━━━━━━━━━━━━━━━━━━━━━━━━━━━━━━━━━━━\u001b[0m \u001b[32m7.1/7.1 MB\u001b[0m \u001b[31m31.6 MB/s\u001b[0m eta \u001b[36m0:00:00\u001b[0m00:01\u001b[0m00:01\u001b[0m\n",
      "\u001b[?25hRequirement already satisfied: filelock in /opt/conda/lib/python3.10/site-packages (from transformers==4.29.1) (3.12.0)\n",
      "Requirement already satisfied: huggingface-hub<1.0,>=0.14.1 in /opt/conda/lib/python3.10/site-packages (from transformers==4.29.1) (0.15.1)\n",
      "Requirement already satisfied: numpy>=1.17 in /opt/conda/lib/python3.10/site-packages (from transformers==4.29.1) (1.23.5)\n",
      "Requirement already satisfied: packaging>=20.0 in /opt/conda/lib/python3.10/site-packages (from transformers==4.29.1) (21.3)\n",
      "Requirement already satisfied: pyyaml>=5.1 in /opt/conda/lib/python3.10/site-packages (from transformers==4.29.1) (5.4.1)\n",
      "Requirement already satisfied: regex!=2019.12.17 in /opt/conda/lib/python3.10/site-packages (from transformers==4.29.1) (2023.5.5)\n",
      "Requirement already satisfied: requests in /opt/conda/lib/python3.10/site-packages (from transformers==4.29.1) (2.28.2)\n",
      "Requirement already satisfied: tokenizers!=0.11.3,<0.14,>=0.11.1 in /opt/conda/lib/python3.10/site-packages (from transformers==4.29.1) (0.13.3)\n",
      "Requirement already satisfied: tqdm>=4.27 in /opt/conda/lib/python3.10/site-packages (from transformers==4.29.1) (4.64.1)\n",
      "Requirement already satisfied: fsspec in /opt/conda/lib/python3.10/site-packages (from huggingface-hub<1.0,>=0.14.1->transformers==4.29.1) (2023.6.0)\n",
      "Requirement already satisfied: typing-extensions>=3.7.4.3 in /opt/conda/lib/python3.10/site-packages (from huggingface-hub<1.0,>=0.14.1->transformers==4.29.1) (4.5.0)\n",
      "Requirement already satisfied: pyparsing!=3.0.5,>=2.0.2 in /opt/conda/lib/python3.10/site-packages (from packaging>=20.0->transformers==4.29.1) (3.0.9)\n",
      "Requirement already satisfied: charset-normalizer<4,>=2 in /opt/conda/lib/python3.10/site-packages (from requests->transformers==4.29.1) (2.1.1)\n",
      "Requirement already satisfied: idna<4,>=2.5 in /opt/conda/lib/python3.10/site-packages (from requests->transformers==4.29.1) (3.4)\n",
      "Requirement already satisfied: urllib3<1.27,>=1.21.1 in /opt/conda/lib/python3.10/site-packages (from requests->transformers==4.29.1) (1.26.15)\n",
      "Requirement already satisfied: certifi>=2017.4.17 in /opt/conda/lib/python3.10/site-packages (from requests->transformers==4.29.1) (2023.5.7)\n",
      "Installing collected packages: transformers\n",
      "  Attempting uninstall: transformers\n",
      "    Found existing installation: transformers 4.30.1\n",
      "    Uninstalling transformers-4.30.1:\n",
      "      Successfully uninstalled transformers-4.30.1\n",
      "Successfully installed transformers-4.29.1\n",
      "\u001b[33mWARNING: Running pip as the 'root' user can result in broken permissions and conflicting behaviour with the system package manager. It is recommended to use a virtual environment instead: https://pip.pypa.io/warnings/venv\u001b[0m\u001b[33m\n",
      "\u001b[0mNote: you may need to restart the kernel to use updated packages.\n"
     ]
    }
   ],
   "source": [
    "import warnings\n",
    "warnings.filterwarnings('ignore')\n",
    "%pip install transformers==4.29.1"
   ]
  },
  {
   "cell_type": "code",
   "execution_count": 2,
   "metadata": {
    "execution": {
     "iopub.execute_input": "2023-07-01T09:45:32.421025Z",
     "iopub.status.busy": "2023-07-01T09:45:32.420460Z",
     "iopub.status.idle": "2023-07-01T09:45:44.525116Z",
     "shell.execute_reply": "2023-07-01T09:45:44.524144Z",
     "shell.execute_reply.started": "2023-07-01T09:45:32.420967Z"
    }
   },
   "outputs": [],
   "source": [
    "import pandas as pd\n",
    "import numpy as np\n",
    "import matplotlib.pyplot as plt\n",
    "import seaborn as sns\n",
    "from sklearn.model_selection import train_test_split\n",
    "from sklearn.metrics import accuracy_score, precision_score, recall_score, f1_score, confusion_matrix\n",
    "import torch\n",
    "import transformers\n",
    "import json\n",
    "from tqdm import tqdm\n",
    "from torch.utils.data import Dataset, DataLoader\n",
    "from transformers import RobertaModel, RobertaTokenizer\n",
    "import time\n",
    "import psutil\n",
    "import logging\n",
    "logging.basicConfig(level=logging.ERROR)"
   ]
  },
  {
   "cell_type": "code",
   "execution_count": 3,
   "metadata": {
    "execution": {
     "iopub.execute_input": "2023-07-01T09:45:44.526819Z",
     "iopub.status.busy": "2023-07-01T09:45:44.526478Z",
     "iopub.status.idle": "2023-07-01T09:45:44.561336Z",
     "shell.execute_reply": "2023-07-01T09:45:44.559790Z",
     "shell.execute_reply.started": "2023-07-01T09:45:44.526788Z"
    }
   },
   "outputs": [
    {
     "data": {
      "text/plain": [
       "True"
      ]
     },
     "execution_count": 3,
     "metadata": {},
     "output_type": "execute_result"
    }
   ],
   "source": [
    "# Checking for CUDA\n",
    "\n",
    "from torch import cuda\n",
    "device = 'cuda' if cuda.is_available() else 'cpu'\n",
    "torch.cuda.is_available()"
   ]
  },
  {
   "cell_type": "code",
   "execution_count": 4,
   "metadata": {
    "execution": {
     "iopub.execute_input": "2023-07-01T09:45:44.565149Z",
     "iopub.status.busy": "2023-07-01T09:45:44.564440Z",
     "iopub.status.idle": "2023-07-01T09:45:44.605449Z",
     "shell.execute_reply": "2023-07-01T09:45:44.604408Z",
     "shell.execute_reply.started": "2023-07-01T09:45:44.565115Z"
    }
   },
   "outputs": [
    {
     "name": "stdout",
     "output_type": "stream",
     "text": [
      "Columns:  Index(['Sentence', 'Sentiment'], dtype='object')\n",
      "Raw Dataset Shape:  (5842, 2)\n"
     ]
    }
   ],
   "source": [
    "raw_data = pd.read_csv(\"/kaggle/input/financial-sentiment-analysis/data.csv\")\n",
    "print(\"Columns: \", raw_data.columns)\n",
    "print(\"Raw Dataset Shape: \", raw_data.shape)"
   ]
  },
  {
   "cell_type": "code",
   "execution_count": 5,
   "metadata": {
    "execution": {
     "iopub.execute_input": "2023-07-01T09:45:44.607304Z",
     "iopub.status.busy": "2023-07-01T09:45:44.606938Z",
     "iopub.status.idle": "2023-07-01T09:45:44.622519Z",
     "shell.execute_reply": "2023-07-01T09:45:44.621405Z",
     "shell.execute_reply.started": "2023-07-01T09:45:44.607270Z"
    }
   },
   "outputs": [
    {
     "data": {
      "text/html": [
       "<div>\n",
       "<style scoped>\n",
       "    .dataframe tbody tr th:only-of-type {\n",
       "        vertical-align: middle;\n",
       "    }\n",
       "\n",
       "    .dataframe tbody tr th {\n",
       "        vertical-align: top;\n",
       "    }\n",
       "\n",
       "    .dataframe thead th {\n",
       "        text-align: right;\n",
       "    }\n",
       "</style>\n",
       "<table border=\"1\" class=\"dataframe\">\n",
       "  <thead>\n",
       "    <tr style=\"text-align: right;\">\n",
       "      <th></th>\n",
       "      <th>Sentence</th>\n",
       "      <th>Sentiment</th>\n",
       "    </tr>\n",
       "  </thead>\n",
       "  <tbody>\n",
       "    <tr>\n",
       "      <th>0</th>\n",
       "      <td>The GeoSolutions technology will leverage Bene...</td>\n",
       "      <td>positive</td>\n",
       "    </tr>\n",
       "    <tr>\n",
       "      <th>1</th>\n",
       "      <td>$ESI on lows, down $1.50 to $2.50 BK a real po...</td>\n",
       "      <td>negative</td>\n",
       "    </tr>\n",
       "    <tr>\n",
       "      <th>2</th>\n",
       "      <td>For the last quarter of 2010 , Componenta 's n...</td>\n",
       "      <td>positive</td>\n",
       "    </tr>\n",
       "    <tr>\n",
       "      <th>3</th>\n",
       "      <td>According to the Finnish-Russian Chamber of Co...</td>\n",
       "      <td>neutral</td>\n",
       "    </tr>\n",
       "    <tr>\n",
       "      <th>4</th>\n",
       "      <td>The Swedish buyout firm has sold its remaining...</td>\n",
       "      <td>neutral</td>\n",
       "    </tr>\n",
       "  </tbody>\n",
       "</table>\n",
       "</div>"
      ],
      "text/plain": [
       "                                            Sentence Sentiment\n",
       "0  The GeoSolutions technology will leverage Bene...  positive\n",
       "1  $ESI on lows, down $1.50 to $2.50 BK a real po...  negative\n",
       "2  For the last quarter of 2010 , Componenta 's n...  positive\n",
       "3  According to the Finnish-Russian Chamber of Co...   neutral\n",
       "4  The Swedish buyout firm has sold its remaining...   neutral"
      ]
     },
     "execution_count": 5,
     "metadata": {},
     "output_type": "execute_result"
    }
   ],
   "source": [
    "raw_data.head()"
   ]
  },
  {
   "cell_type": "code",
   "execution_count": 6,
   "metadata": {
    "execution": {
     "iopub.execute_input": "2023-07-01T09:45:44.624515Z",
     "iopub.status.busy": "2023-07-01T09:45:44.624147Z",
     "iopub.status.idle": "2023-07-01T09:45:44.888744Z",
     "shell.execute_reply": "2023-07-01T09:45:44.887857Z",
     "shell.execute_reply.started": "2023-07-01T09:45:44.624481Z"
    }
   },
   "outputs": [
    {
     "data": {
      "image/png": "[encoded data removed]",
      "text/plain": [
       "<Figure size 800x600 with 1 Axes>"
      ]
     },
     "metadata": {},
     "output_type": "display_data"
    }
   ],
   "source": [
    "# PLotting the distribution of classes in the dataset\n",
    "number_of_classes = raw_data[\"Sentiment\"].value_counts()\n",
    "plt.figure(figsize=(8, 6))\n",
    "plt.bar(number_of_classes.index, number_of_classes.values)\n",
    "plt.xlabel(\"Sentiment Class\")\n",
    "plt.ylabel(\"Count\")\n",
    "plt.title(\"Sentiment Class Distribution\")\n",
    "plt.xticks(rotation=45)\n",
    "plt.show()"
   ]
  },
  {
   "cell_type": "code",
   "execution_count": 7,
   "metadata": {
    "execution": {
     "iopub.execute_input": "2023-07-01T09:45:44.891104Z",
     "iopub.status.busy": "2023-07-01T09:45:44.890239Z",
     "iopub.status.idle": "2023-07-01T09:45:44.896945Z",
     "shell.execute_reply": "2023-07-01T09:45:44.895748Z",
     "shell.execute_reply.started": "2023-07-01T09:45:44.891071Z"
    }
   },
   "outputs": [],
   "source": [
    "# Integer Enocoding of sentiment values\n",
    "def integer_encoding(dataframe):\n",
    "    \n",
    "    sentiment_mapping = {\n",
    "    'positive' : 0,\n",
    "    'negative' : 1, \n",
    "    'neutral' : 2\n",
    "    }\n",
    "    \n",
    "    dataframe['sentiment_encoded'] = dataframe['Sentiment'].map(sentiment_mapping)\n",
    "    return dataframe"
   ]
  },
  {
   "cell_type": "code",
   "execution_count": 8,
   "metadata": {
    "execution": {
     "iopub.execute_input": "2023-07-01T09:45:44.898782Z",
     "iopub.status.busy": "2023-07-01T09:45:44.898436Z",
     "iopub.status.idle": "2023-07-01T09:45:44.916924Z",
     "shell.execute_reply": "2023-07-01T09:45:44.915843Z",
     "shell.execute_reply.started": "2023-07-01T09:45:44.898751Z"
    }
   },
   "outputs": [
    {
     "data": {
      "text/html": [
       "<div>\n",
       "<style scoped>\n",
       "    .dataframe tbody tr th:only-of-type {\n",
       "        vertical-align: middle;\n",
       "    }\n",
       "\n",
       "    .dataframe tbody tr th {\n",
       "        vertical-align: top;\n",
       "    }\n",
       "\n",
       "    .dataframe thead th {\n",
       "        text-align: right;\n",
       "    }\n",
       "</style>\n",
       "<table border=\"1\" class=\"dataframe\">\n",
       "  <thead>\n",
       "    <tr style=\"text-align: right;\">\n",
       "      <th></th>\n",
       "      <th>Sentence</th>\n",
       "      <th>Sentiment</th>\n",
       "      <th>sentiment_encoded</th>\n",
       "    </tr>\n",
       "  </thead>\n",
       "  <tbody>\n",
       "    <tr>\n",
       "      <th>0</th>\n",
       "      <td>The GeoSolutions technology will leverage Bene...</td>\n",
       "      <td>positive</td>\n",
       "      <td>0</td>\n",
       "    </tr>\n",
       "    <tr>\n",
       "      <th>1</th>\n",
       "      <td>$ESI on lows, down $1.50 to $2.50 BK a real po...</td>\n",
       "      <td>negative</td>\n",
       "      <td>1</td>\n",
       "    </tr>\n",
       "    <tr>\n",
       "      <th>2</th>\n",
       "      <td>For the last quarter of 2010 , Componenta 's n...</td>\n",
       "      <td>positive</td>\n",
       "      <td>0</td>\n",
       "    </tr>\n",
       "    <tr>\n",
       "      <th>3</th>\n",
       "      <td>According to the Finnish-Russian Chamber of Co...</td>\n",
       "      <td>neutral</td>\n",
       "      <td>2</td>\n",
       "    </tr>\n",
       "    <tr>\n",
       "      <th>4</th>\n",
       "      <td>The Swedish buyout firm has sold its remaining...</td>\n",
       "      <td>neutral</td>\n",
       "      <td>2</td>\n",
       "    </tr>\n",
       "  </tbody>\n",
       "</table>\n",
       "</div>"
      ],
      "text/plain": [
       "                                            Sentence Sentiment  \\\n",
       "0  The GeoSolutions technology will leverage Bene...  positive   \n",
       "1  $ESI on lows, down $1.50 to $2.50 BK a real po...  negative   \n",
       "2  For the last quarter of 2010 , Componenta 's n...  positive   \n",
       "3  According to the Finnish-Russian Chamber of Co...   neutral   \n",
       "4  The Swedish buyout firm has sold its remaining...   neutral   \n",
       "\n",
       "   sentiment_encoded  \n",
       "0                  0  \n",
       "1                  1  \n",
       "2                  0  \n",
       "3                  2  \n",
       "4                  2  "
      ]
     },
     "execution_count": 8,
     "metadata": {},
     "output_type": "execute_result"
    }
   ],
   "source": [
    "data = integer_encoding(raw_data)\n",
    "data.head()"
   ]
  },
  {
   "cell_type": "code",
   "execution_count": 9,
   "metadata": {
    "execution": {
     "iopub.execute_input": "2023-07-01T09:45:44.918994Z",
     "iopub.status.busy": "2023-07-01T09:45:44.918626Z",
     "iopub.status.idle": "2023-07-01T09:45:46.863231Z",
     "shell.execute_reply": "2023-07-01T09:45:46.862287Z",
     "shell.execute_reply.started": "2023-07-01T09:45:44.918962Z"
    }
   },
   "outputs": [
    {
     "data": {
      "application/vnd.jupyter.widget-view+json": {
       "model_id": "48876784f3f9499eb50aa7b028e31c16",
       "version_major": 2,
       "version_minor": 0
      },
      "text/plain": [
       "Downloading (…)olve/main/vocab.json:   0%|          | 0.00/899k [00:00<?, ?B/s]"
      ]
     },
     "metadata": {},
     "output_type": "display_data"
    },
    {
     "data": {
      "application/vnd.jupyter.widget-view+json": {
       "model_id": "fb07caa73cd24f33bbe8009d6b7f2ce4",
       "version_major": 2,
       "version_minor": 0
      },
      "text/plain": [
       "Downloading (…)olve/main/merges.txt:   0%|          | 0.00/456k [00:00<?, ?B/s]"
      ]
     },
     "metadata": {},
     "output_type": "display_data"
    },
    {
     "data": {
      "application/vnd.jupyter.widget-view+json": {
       "model_id": "2283966806a14ebca196436d450a27b5",
       "version_major": 2,
       "version_minor": 0
      },
      "text/plain": [
       "Downloading (…)lve/main/config.json:   0%|          | 0.00/481 [00:00<?, ?B/s]"
      ]
     },
     "metadata": {},
     "output_type": "display_data"
    }
   ],
   "source": [
    "max_len = 256\n",
    "train_batch_size = 8\n",
    "val_batch_size = 4\n",
    "learning_rate = 1e-05\n",
    "tokenizer = RobertaTokenizer.from_pretrained('roberta-base', truncation=True, do_lower_case=True)"
   ]
  },
  {
   "cell_type": "code",
   "execution_count": 10,
   "metadata": {
    "execution": {
     "iopub.execute_input": "2023-07-01T09:45:46.868219Z",
     "iopub.status.busy": "2023-07-01T09:45:46.867899Z",
     "iopub.status.idle": "2023-07-01T09:45:46.879431Z",
     "shell.execute_reply": "2023-07-01T09:45:46.877668Z",
     "shell.execute_reply.started": "2023-07-01T09:45:46.868193Z"
    }
   },
   "outputs": [],
   "source": [
    "class SentimentDataset(Dataset):\n",
    "    def __init__(self, data, tokenizer, max_len):\n",
    "        super().__init__()\n",
    "        self.tokenizer = tokenizer\n",
    "        self.data = data\n",
    "        self.sentences = data.Sentence\n",
    "        self.sentiments = self.data.sentiment_encoded \n",
    "        self.max_len = max_len\n",
    "        \n",
    "    def __len__(self):\n",
    "        return len(self.sentences)\n",
    "    \n",
    "    def __getitem__(self, index):\n",
    "        sentences = str(self.sentences[index])\n",
    "        sentences = \" \".join(sentences.split())\n",
    "        \n",
    "        inputs = self.tokenizer.encode_plus(\n",
    "            sentences,\n",
    "            None,\n",
    "            add_special_tokens=True,\n",
    "            max_length = self.max_len,\n",
    "            pad_to_max_length = True,\n",
    "            return_token_type_ids=True\n",
    "        )\n",
    "        ids = inputs['input_ids']\n",
    "        mask = inputs['attention_mask']\n",
    "        token_type_ids = inputs['token_type_ids']\n",
    "        \n",
    "        \n",
    "        return {\n",
    "            'ids' : torch.tensor(ids, dtype=torch.long),\n",
    "            'mask' : torch.tensor(mask, dtype=torch.long),\n",
    "            'token_type_ids' : torch.tensor(token_type_ids, dtype=torch.long),\n",
    "            'sentiments' : torch.tensor(self.sentiments[index], dtype=torch.int64)\n",
    "        }"
   ]
  },
  {
   "cell_type": "code",
   "execution_count": 11,
   "metadata": {
    "execution": {
     "iopub.execute_input": "2023-07-01T09:45:46.881524Z",
     "iopub.status.busy": "2023-07-01T09:45:46.880649Z",
     "iopub.status.idle": "2023-07-01T09:45:46.916143Z",
     "shell.execute_reply": "2023-07-01T09:45:46.915055Z",
     "shell.execute_reply.started": "2023-07-01T09:45:46.881492Z"
    }
   },
   "outputs": [
    {
     "name": "stdout",
     "output_type": "stream",
     "text": [
      "Full Dataset: (5842, 3)\n",
      "Train Dataset: (4674, 3)\n",
      "Test Dataset: (1168, 3)\n"
     ]
    }
   ],
   "source": [
    "train_szie = 0.8\n",
    "train_data = raw_data.sample(frac=train_szie, random_state=10)\n",
    "test_data = raw_data.drop(train_data.index).reset_index(drop=True)\n",
    "train_data = train_data.reset_index(drop=True)\n",
    "\n",
    "print(\"Full Dataset: {}\".format(raw_data.shape))\n",
    "print(\"Train Dataset: {}\".format(train_data.shape))\n",
    "print(\"Test Dataset: {}\".format(test_data.shape))\n",
    "\n",
    "training_set = SentimentDataset(train_data, tokenizer, max_len)\n",
    "testing_set = SentimentDataset(test_data, tokenizer, max_len)"
   ]
  },
  {
   "cell_type": "code",
   "execution_count": 12,
   "metadata": {
    "execution": {
     "iopub.execute_input": "2023-07-01T09:45:46.918161Z",
     "iopub.status.busy": "2023-07-01T09:45:46.917736Z",
     "iopub.status.idle": "2023-07-01T09:45:46.926346Z",
     "shell.execute_reply": "2023-07-01T09:45:46.925426Z",
     "shell.execute_reply.started": "2023-07-01T09:45:46.918088Z"
    }
   },
   "outputs": [],
   "source": [
    "train_params = {'batch_size' : train_batch_size,\n",
    "                'shuffle' : True,\n",
    "                'num_workers' : 0\n",
    "    \n",
    "}\n",
    "\n",
    "test_params = {'batch_size' : val_batch_size,\n",
    "               'shuffle' : True,\n",
    "               'num_workers' : 0\n",
    "    \n",
    "}\n",
    "\n",
    "training_loader = DataLoader(training_set, **train_params)\n",
    "testing_loader = DataLoader(testing_set, **test_params)"
   ]
  },
  {
   "cell_type": "markdown",
   "metadata": {},
   "source": [
    "# RoBERTa model Implementation"
   ]
  },
  {
   "cell_type": "code",
   "execution_count": 13,
   "metadata": {
    "execution": {
     "iopub.execute_input": "2023-07-01T09:45:46.928785Z",
     "iopub.status.busy": "2023-07-01T09:45:46.927730Z",
     "iopub.status.idle": "2023-07-01T09:45:46.940373Z",
     "shell.execute_reply": "2023-07-01T09:45:46.939549Z",
     "shell.execute_reply.started": "2023-07-01T09:45:46.928750Z"
    }
   },
   "outputs": [],
   "source": [
    "class RobertaClass(torch.nn.Module):\n",
    "    def __init__(self):\n",
    "        super(RobertaClass, self).__init__()\n",
    "        self.layer = RobertaModel.from_pretrained(\"roberta-base\")\n",
    "        self.pre_classifier = torch.nn.Linear(768, 768)\n",
    "        self.dropout = torch.nn.Dropout(0.5)\n",
    "        self.classifier = torch.nn.Linear(768, 3)\n",
    "        \n",
    "    def forward(self, input_ids, attention_mask, token_type_ids):\n",
    "        output_layer = self.layer(input_ids=input_ids, attention_mask=attention_mask, token_type_ids=token_type_ids)\n",
    "        hidden_state = output_layer[0]\n",
    "        pooler = hidden_state[:,0]\n",
    "        pooler = self.pre_classifier(pooler)\n",
    "        pooler = torch.nn.ReLU()(pooler)\n",
    "        pooler = self.dropout(pooler)\n",
    "        output = self.classifier(pooler)\n",
    "        return output"
   ]
  },
  {
   "cell_type": "code",
   "execution_count": 14,
   "metadata": {
    "execution": {
     "iopub.execute_input": "2023-07-01T09:45:46.942233Z",
     "iopub.status.busy": "2023-07-01T09:45:46.941696Z",
     "iopub.status.idle": "2023-07-01T09:45:46.949589Z",
     "shell.execute_reply": "2023-07-01T09:45:46.948590Z",
     "shell.execute_reply.started": "2023-07-01T09:45:46.942203Z"
    }
   },
   "outputs": [],
   "source": [
    "# Clear the GPU memory, so that we can calculate the distillroberta performance\n",
    "torch.cuda.empty_cache()"
   ]
  },
  {
   "cell_type": "code",
   "execution_count": 15,
   "metadata": {
    "execution": {
     "iopub.execute_input": "2023-07-01T09:45:46.952845Z",
     "iopub.status.busy": "2023-07-01T09:45:46.952544Z",
     "iopub.status.idle": "2023-07-01T09:45:54.908076Z",
     "shell.execute_reply": "2023-07-01T09:45:54.907134Z",
     "shell.execute_reply.started": "2023-07-01T09:45:46.952799Z"
    }
   },
   "outputs": [
    {
     "data": {
      "application/vnd.jupyter.widget-view+json": {
       "model_id": "a745af20498f495f82c33642591c3746",
       "version_major": 2,
       "version_minor": 0
      },
      "text/plain": [
       "Downloading model.safetensors:   0%|          | 0.00/499M [00:00<?, ?B/s]"
      ]
     },
     "metadata": {},
     "output_type": "display_data"
    },
    {
     "name": "stderr",
     "output_type": "stream",
     "text": [
      "Some weights of the model checkpoint at roberta-base were not used when initializing RobertaModel: ['lm_head.bias', 'lm_head.layer_norm.bias', 'lm_head.dense.weight', 'lm_head.layer_norm.weight', 'lm_head.dense.bias']\n",
      "- This IS expected if you are initializing RobertaModel from the checkpoint of a model trained on another task or with another architecture (e.g. initializing a BertForSequenceClassification model from a BertForPreTraining model).\n",
      "- This IS NOT expected if you are initializing RobertaModel from the checkpoint of a model that you expect to be exactly identical (initializing a BertForSequenceClassification model from a BertForSequenceClassification model).\n",
      "Some weights of RobertaModel were not initialized from the model checkpoint at roberta-base and are newly initialized: ['roberta.pooler.dense.weight', 'roberta.pooler.dense.bias']\n",
      "You should probably TRAIN this model on a down-stream task to be able to use it for predictions and inference.\n"
     ]
    },
    {
     "data": {
      "text/plain": [
       "RobertaClass(\n",
       "  (layer): RobertaModel(\n",
       "    (embeddings): RobertaEmbeddings(\n",
       "      (word_embeddings): Embedding(50265, 768, padding_idx=1)\n",
       "      (position_embeddings): Embedding(514, 768, padding_idx=1)\n",
       "      (token_type_embeddings): Embedding(1, 768)\n",
       "      (LayerNorm): LayerNorm((768,), eps=1e-05, elementwise_affine=True)\n",
       "      (dropout): Dropout(p=0.1, inplace=False)\n",
       "    )\n",
       "    (encoder): RobertaEncoder(\n",
       "      (layer): ModuleList(\n",
       "        (0-11): 12 x RobertaLayer(\n",
       "          (attention): RobertaAttention(\n",
       "            (self): RobertaSelfAttention(\n",
       "              (query): Linear(in_features=768, out_features=768, bias=True)\n",
       "              (key): Linear(in_features=768, out_features=768, bias=True)\n",
       "              (value): Linear(in_features=768, out_features=768, bias=True)\n",
       "              (dropout): Dropout(p=0.1, inplace=False)\n",
       "            )\n",
       "            (output): RobertaSelfOutput(\n",
       "              (dense): Linear(in_features=768, out_features=768, bias=True)\n",
       "              (LayerNorm): LayerNorm((768,), eps=1e-05, elementwise_affine=True)\n",
       "              (dropout): Dropout(p=0.1, inplace=False)\n",
       "            )\n",
       "          )\n",
       "          (intermediate): RobertaIntermediate(\n",
       "            (dense): Linear(in_features=768, out_features=3072, bias=True)\n",
       "            (intermediate_act_fn): GELUActivation()\n",
       "          )\n",
       "          (output): RobertaOutput(\n",
       "            (dense): Linear(in_features=3072, out_features=768, bias=True)\n",
       "            (LayerNorm): LayerNorm((768,), eps=1e-05, elementwise_affine=True)\n",
       "            (dropout): Dropout(p=0.1, inplace=False)\n",
       "          )\n",
       "        )\n",
       "      )\n",
       "    )\n",
       "    (pooler): RobertaPooler(\n",
       "      (dense): Linear(in_features=768, out_features=768, bias=True)\n",
       "      (activation): Tanh()\n",
       "    )\n",
       "  )\n",
       "  (pre_classifier): Linear(in_features=768, out_features=768, bias=True)\n",
       "  (dropout): Dropout(p=0.5, inplace=False)\n",
       "  (classifier): Linear(in_features=768, out_features=3, bias=True)\n",
       ")"
      ]
     },
     "execution_count": 15,
     "metadata": {},
     "output_type": "execute_result"
    }
   ],
   "source": [
    "teacher_model = RobertaClass()\n",
    "teacher_model.to(device)"
   ]
  },
  {
   "cell_type": "code",
   "execution_count": 16,
   "metadata": {
    "execution": {
     "iopub.execute_input": "2023-07-01T09:45:54.910086Z",
     "iopub.status.busy": "2023-07-01T09:45:54.909417Z",
     "iopub.status.idle": "2023-07-01T09:45:54.916388Z",
     "shell.execute_reply": "2023-07-01T09:45:54.915426Z",
     "shell.execute_reply.started": "2023-07-01T09:45:54.910051Z"
    }
   },
   "outputs": [],
   "source": [
    "# Loss function and opitmizer\n",
    "loss_function = torch.nn.CrossEntropyLoss()\n",
    "optimizer = torch.optim.Adam(params=teacher_model.parameters(), lr=learning_rate)"
   ]
  },
  {
   "cell_type": "code",
   "execution_count": 17,
   "metadata": {
    "execution": {
     "iopub.execute_input": "2023-07-01T09:45:54.918847Z",
     "iopub.status.busy": "2023-07-01T09:45:54.918047Z",
     "iopub.status.idle": "2023-07-01T09:45:54.926160Z",
     "shell.execute_reply": "2023-07-01T09:45:54.925170Z",
     "shell.execute_reply.started": "2023-07-01T09:45:54.918817Z"
    }
   },
   "outputs": [],
   "source": [
    "# Lists to store training and validation loss values of Roberta\n",
    "train_losses = []\n",
    "valid_losses = []\n",
    "train_accuracies = []\n",
    "valid_accuracies = []"
   ]
  },
  {
   "cell_type": "code",
   "execution_count": 18,
   "metadata": {
    "execution": {
     "iopub.execute_input": "2023-07-01T09:45:54.927879Z",
     "iopub.status.busy": "2023-07-01T09:45:54.927436Z",
     "iopub.status.idle": "2023-07-01T09:45:54.936567Z",
     "shell.execute_reply": "2023-07-01T09:45:54.935689Z",
     "shell.execute_reply.started": "2023-07-01T09:45:54.927842Z"
    }
   },
   "outputs": [],
   "source": [
    "# Function to calculate accuracy during training of the model\n",
    "def calculate_accuracy(preds, sentiments):\n",
    "    correct_classifications = (preds==sentiments).sum().item()\n",
    "    return correct_classifications"
   ]
  },
  {
   "cell_type": "code",
   "execution_count": 19,
   "metadata": {
    "execution": {
     "iopub.execute_input": "2023-07-01T09:45:54.938507Z",
     "iopub.status.busy": "2023-07-01T09:45:54.938180Z",
     "iopub.status.idle": "2023-07-01T09:45:54.949666Z",
     "shell.execute_reply": "2023-07-01T09:45:54.948646Z",
     "shell.execute_reply.started": "2023-07-01T09:45:54.938477Z"
    }
   },
   "outputs": [],
   "source": [
    "# Training function on  80% of the dataset\n",
    "def teacher_train(epoch):\n",
    "    training_loss = 0\n",
    "    correct_classifications = 0\n",
    "    nb_tr_steps = 0\n",
    "    nb_tr_examples = 0\n",
    "    teacher_model.train()\n",
    "    for _,data in tqdm(enumerate(training_loader, 0)):\n",
    "        ids = data['ids'].to(device, dtype=torch.long)\n",
    "        mask = data['mask'].to(device, dtype=torch.long)\n",
    "        token_type_ids = data['token_type_ids'].to(device, dtype=torch.long)\n",
    "        sentiments = data['sentiments'].to(device, dtype=torch.long)\n",
    "        \n",
    "        outputs = teacher_model(ids, mask, token_type_ids)\n",
    "        loss = loss_function(outputs, sentiments)\n",
    "        training_loss += loss.item()\n",
    "        big_val, big_idx = torch.max(outputs.data, dim=1)\n",
    "        correct_classifications += calculate_accuracy(big_idx, sentiments)\n",
    "        \n",
    "        nb_tr_steps += 1\n",
    "        nb_tr_examples += sentiments.size(0)\n",
    "        \n",
    "            \n",
    "        optimizer.zero_grad()\n",
    "        loss.backward()\n",
    "        optimizer.step()\n",
    "            \n",
    "    epoch_loss = training_loss/nb_tr_steps\n",
    "    train_losses.append(epoch_loss)\n",
    "    epoch_accuracy = (correct_classifications*100)/nb_tr_examples\n",
    "    train_accuracies.append(epoch_accuracy)\n",
    "    \n",
    "    print(f'The Total Accuracy for Epoch {epoch}: {epoch_accuracy:.2f}%')\n",
    "    print(f\"Training Loss Epoch {epoch+1}: {epoch_loss: .4f}\")\n",
    "    print(f\"Training Accuracy Epoch {epoch+1}: {epoch_accuracy: .2f}%\")"
   ]
  },
  {
   "cell_type": "code",
   "execution_count": 20,
   "metadata": {
    "execution": {
     "iopub.execute_input": "2023-07-01T09:45:54.951594Z",
     "iopub.status.busy": "2023-07-01T09:45:54.951020Z",
     "iopub.status.idle": "2023-07-01T09:45:54.962796Z",
     "shell.execute_reply": "2023-07-01T09:45:54.961853Z",
     "shell.execute_reply.started": "2023-07-01T09:45:54.951561Z"
    }
   },
   "outputs": [],
   "source": [
    "# Validation loop\n",
    "def valid(model, testing_loader):\n",
    "    model.eval()\n",
    "    correct_classifications = 0\n",
    "    training_loss = 0\n",
    "    nb_tr_steps = 0\n",
    "    nb_tr_examples = 0\n",
    "\n",
    "    with torch.no_grad():\n",
    "        for batch in tqdm(testing_loader):\n",
    "            ids = batch['ids'].to(device)\n",
    "            mask = batch['mask'].to(device)\n",
    "            token_type_ids = batch['token_type_ids'].to(device)\n",
    "            sentiments = batch['sentiments'].to(device)\n",
    "\n",
    "            outputs = model(ids, mask, token_type_ids)\n",
    "            loss = loss_function(outputs, sentiments)\n",
    "\n",
    "            training_loss += loss.item()\n",
    "            _, predicted_labels = torch.max(outputs, 1)\n",
    "            correct_classifications += calculate_accuracy(predicted_labels, sentiments)\n",
    "\n",
    "            nb_tr_steps += 1\n",
    "            nb_tr_examples += sentiments.size(0)\n",
    "\n",
    "    epoch_loss = training_loss / nb_tr_steps\n",
    "    # Append validation loss to the list\n",
    "    valid_losses.append(epoch_loss)\n",
    "    epoch_accuracy = (correct_classifications * 100) / nb_tr_examples\n",
    "    valid_accuracies.append(epoch_accuracy)\n",
    "\n",
    "    print(f\"Validation Loss Epoch {epoch+1}: {epoch_loss: .4f}\")\n",
    "    print(f\"Validation Accuracy Epoch {epoch+1}: {epoch_accuracy: .2f}%\")"
   ]
  },
  {
   "cell_type": "code",
   "execution_count": 21,
   "metadata": {
    "execution": {
     "iopub.execute_input": "2023-07-01T09:45:54.965823Z",
     "iopub.status.busy": "2023-07-01T09:45:54.965563Z",
     "iopub.status.idle": "2023-07-01T09:45:54.976750Z",
     "shell.execute_reply": "2023-07-01T09:45:54.976017Z",
     "shell.execute_reply.started": "2023-07-01T09:45:54.965802Z"
    }
   },
   "outputs": [],
   "source": [
    "# Model Evaluation function\n",
    "def evaluate(model, testing_loader):\n",
    "    model.eval()\n",
    "    y_true = []\n",
    "    y_pred = []\n",
    "    correct_classifications = 0; wrong_classifications = 0; training_loss = 0; nb_tr_steps = 0; nb_tr_examples = 0\n",
    "    with torch.no_grad():\n",
    "        for _, data in tqdm(enumerate(testing_loader, 0)):\n",
    "            ids = data['ids'].to(device, dtype = torch.long)\n",
    "            mask = data['mask'].to(device, dtype=torch.long)\n",
    "            token_type_ids = data['token_type_ids'].to(device, dtype=torch.long)\n",
    "            sentiments = data['sentiments'].to(device, dtype=torch.int64)\n",
    "            outputs = model(ids, mask, token_type_ids).squeeze()\n",
    "            loss = loss_function(outputs, sentiments)\n",
    "            training_loss += loss.item()\n",
    "            big_val, predicted = torch.max(outputs.data, dim=1)\n",
    "            correct_classifications += calculate_accuracy(predicted, sentiments)\n",
    "            \n",
    "            nb_tr_steps += 1\n",
    "            nb_tr_examples += sentiments.size(0)\n",
    "            \n",
    "            y_true.extend(sentiments.tolist())\n",
    "            y_pred.extend(predicted.tolist())\n",
    "\n",
    "            \n",
    "        epoch_loss = training_loss / nb_tr_steps\n",
    "        epoch_accu = (correct_classifications * 100) / nb_tr_examples\n",
    "        \n",
    "        return y_pred, y_true"
   ]
  },
  {
   "cell_type": "code",
   "execution_count": 22,
   "metadata": {
    "execution": {
     "iopub.execute_input": "2023-07-01T09:45:54.979049Z",
     "iopub.status.busy": "2023-07-01T09:45:54.978300Z",
     "iopub.status.idle": "2023-07-01T09:45:54.991414Z",
     "shell.execute_reply": "2023-07-01T09:45:54.990364Z",
     "shell.execute_reply.started": "2023-07-01T09:45:54.979016Z"
    }
   },
   "outputs": [],
   "source": [
    "# Calculate metrics\n",
    "def compute_evaluation_metrics(true_labels, predicted_labels):\n",
    "    class_names = ['negative', 'neutral', 'positive']\n",
    "    accuracy = accuracy_score(true_labels, predicted_labels)\n",
    "    precision_weighted = precision_score(true_labels, predicted_labels, average='weighted')\n",
    "    precision_macro = precision_score(true_labels, predicted_labels, average='macro')\n",
    "    recall_weighted = recall_score(true_labels, predicted_labels, average='weighted')\n",
    "    recall_macro = recall_score(true_labels, predicted_labels, average='macro')\n",
    "    f1_weighted = f1_score(true_labels, predicted_labels, average='weighted')\n",
    "    f1_macro = f1_score(true_labels, predicted_labels, average='macro')\n",
    "\n",
    "    # Print metrics\n",
    "    print(\"Metrics:\")\n",
    "    print(\"Accuracy:\", format(accuracy, \".2f\"))\n",
    "    print(\"Precision (Weighted):\", format(precision_weighted, \".2f\"))\n",
    "    print(\"Precision (Macro):\", format(precision_macro, \".2f\"))\n",
    "    print(\"Recall (Weighted):\", format(recall_weighted, \".2f\"))\n",
    "    print(\"Recall (Macro):\", format(recall_macro, \".2f\"))\n",
    "    print(\"F1-score (Weighted):\", format(f1_weighted, \".2f\"))\n",
    "    print(\"F1-score (Macro):\", format(f1_macro, \".2f\"))\n",
    "\n",
    "    # Create confusion matrix\n",
    "    cm = confusion_matrix(true_labels, predicted_labels)\n",
    "    labels = ['positive', 'negative', 'neutral']\n",
    "    confusion_matrix_df = pd.DataFrame(cm, index=labels, columns=labels)\n",
    "\n",
    "    # Plot confusion matrix\n",
    "    plt.figure(figsize=(8, 6))\n",
    "    sns.heatmap(confusion_matrix_df, annot=True, fmt='d', cmap='Blues')\n",
    "    plt.title('Confusion Matrix')\n",
    "    plt.xlabel('Predicted Label')\n",
    "    plt.ylabel('True Label')\n",
    "    plt.show()\n",
    "\n",
    "    # Create metrics table\n",
    "    metrics_df = pd.DataFrame({'Metric': ['Accuracy', 'Precision(weighted)', 'Precision(macro)', 'Recall(weighted)' , 'Recall(macro)', 'F1-Score (Weighted)', 'F1-Score (Macro)'],\n",
    "                           'Score': [accuracy, precision_weighted,precision_macro,recall_weighted,recall_macro,f1_weighted, f1_macro]})\n",
    "\n",
    "    print(metrics_df)\n",
    "    print()"
   ]
  },
  {
   "cell_type": "code",
   "execution_count": 23,
   "metadata": {
    "execution": {
     "iopub.execute_input": "2023-07-01T09:45:54.993255Z",
     "iopub.status.busy": "2023-07-01T09:45:54.992735Z",
     "iopub.status.idle": "2023-07-01T09:45:55.004998Z",
     "shell.execute_reply": "2023-07-01T09:45:55.004059Z",
     "shell.execute_reply.started": "2023-07-01T09:45:54.993223Z"
    }
   },
   "outputs": [],
   "source": [
    "# Calculating the timestamp at the begining\n",
    "roberta_start_time = time.time()"
   ]
  },
  {
   "cell_type": "code",
   "execution_count": 24,
   "metadata": {
    "execution": {
     "iopub.execute_input": "2023-07-01T09:45:55.006842Z",
     "iopub.status.busy": "2023-07-01T09:45:55.006409Z",
     "iopub.status.idle": "2023-07-01T10:07:50.131246Z",
     "shell.execute_reply": "2023-07-01T10:07:50.130153Z",
     "shell.execute_reply.started": "2023-07-01T09:45:55.006811Z"
    }
   },
   "outputs": [
    {
     "name": "stderr",
     "output_type": "stream",
     "text": [
      "0it [00:00, ?it/s]Truncation was not explicitly activated but `max_length` is provided a specific value, please use `truncation=True` to explicitly truncate examples to max length. Defaulting to 'longest_first' truncation strategy. If you encode pairs of sequences (GLUE-style) with the tokenizer you can select this strategy more precisely by providing a specific strategy to `truncation`.\n",
      "585it [02:01,  4.80it/s]\n"
     ]
    },
    {
     "name": "stdout",
     "output_type": "stream",
     "text": [
      "The Total Accuracy for Epoch 0: 71.35%\n",
      "Training Loss Epoch 1:  0.6466\n",
      "Training Accuracy Epoch 1:  71.35%\n"
     ]
    },
    {
     "name": "stderr",
     "output_type": "stream",
     "text": [
      "100%|██████████| 292/292 [00:11<00:00, 26.07it/s]\n"
     ]
    },
    {
     "name": "stdout",
     "output_type": "stream",
     "text": [
      "Validation Loss Epoch 1:  0.4173\n",
      "Validation Accuracy Epoch 1:  81.42%\n"
     ]
    },
    {
     "name": "stderr",
     "output_type": "stream",
     "text": [
      "585it [02:00,  4.86it/s]\n"
     ]
    },
    {
     "name": "stdout",
     "output_type": "stream",
     "text": [
      "The Total Accuracy for Epoch 1: 82.93%\n",
      "Training Loss Epoch 2:  0.3692\n",
      "Training Accuracy Epoch 2:  82.93%\n"
     ]
    },
    {
     "name": "stderr",
     "output_type": "stream",
     "text": [
      "100%|██████████| 292/292 [00:11<00:00, 26.48it/s]\n"
     ]
    },
    {
     "name": "stdout",
     "output_type": "stream",
     "text": [
      "Validation Loss Epoch 2:  0.3614\n",
      "Validation Accuracy Epoch 2:  84.42%\n"
     ]
    },
    {
     "name": "stderr",
     "output_type": "stream",
     "text": [
      "585it [02:00,  4.86it/s]\n"
     ]
    },
    {
     "name": "stdout",
     "output_type": "stream",
     "text": [
      "The Total Accuracy for Epoch 2: 85.75%\n",
      "Training Loss Epoch 3:  0.2863\n",
      "Training Accuracy Epoch 3:  85.75%\n"
     ]
    },
    {
     "name": "stderr",
     "output_type": "stream",
     "text": [
      "100%|██████████| 292/292 [00:10<00:00, 26.59it/s]\n"
     ]
    },
    {
     "name": "stdout",
     "output_type": "stream",
     "text": [
      "Validation Loss Epoch 3:  0.4194\n",
      "Validation Accuracy Epoch 3:  79.88%\n"
     ]
    },
    {
     "name": "stderr",
     "output_type": "stream",
     "text": [
      "585it [02:00,  4.86it/s]\n"
     ]
    },
    {
     "name": "stdout",
     "output_type": "stream",
     "text": [
      "The Total Accuracy for Epoch 3: 87.25%\n",
      "Training Loss Epoch 4:  0.2431\n",
      "Training Accuracy Epoch 4:  87.25%\n"
     ]
    },
    {
     "name": "stderr",
     "output_type": "stream",
     "text": [
      "100%|██████████| 292/292 [00:11<00:00, 26.49it/s]\n"
     ]
    },
    {
     "name": "stdout",
     "output_type": "stream",
     "text": [
      "Validation Loss Epoch 4:  0.3989\n",
      "Validation Accuracy Epoch 4:  81.42%\n"
     ]
    },
    {
     "name": "stderr",
     "output_type": "stream",
     "text": [
      "585it [02:00,  4.86it/s]\n"
     ]
    },
    {
     "name": "stdout",
     "output_type": "stream",
     "text": [
      "The Total Accuracy for Epoch 4: 88.79%\n",
      "Training Loss Epoch 5:  0.2122\n",
      "Training Accuracy Epoch 5:  88.79%\n"
     ]
    },
    {
     "name": "stderr",
     "output_type": "stream",
     "text": [
      "100%|██████████| 292/292 [00:10<00:00, 26.59it/s]\n"
     ]
    },
    {
     "name": "stdout",
     "output_type": "stream",
     "text": [
      "Validation Loss Epoch 5:  0.4848\n",
      "Validation Accuracy Epoch 5:  80.14%\n"
     ]
    },
    {
     "name": "stderr",
     "output_type": "stream",
     "text": [
      "585it [02:00,  4.86it/s]\n"
     ]
    },
    {
     "name": "stdout",
     "output_type": "stream",
     "text": [
      "The Total Accuracy for Epoch 5: 89.24%\n",
      "Training Loss Epoch 6:  0.1946\n",
      "Training Accuracy Epoch 6:  89.24%\n"
     ]
    },
    {
     "name": "stderr",
     "output_type": "stream",
     "text": [
      "100%|██████████| 292/292 [00:11<00:00, 26.50it/s]\n"
     ]
    },
    {
     "name": "stdout",
     "output_type": "stream",
     "text": [
      "Validation Loss Epoch 6:  0.4949\n",
      "Validation Accuracy Epoch 6:  79.45%\n"
     ]
    },
    {
     "name": "stderr",
     "output_type": "stream",
     "text": [
      "585it [02:00,  4.86it/s]\n"
     ]
    },
    {
     "name": "stdout",
     "output_type": "stream",
     "text": [
      "The Total Accuracy for Epoch 6: 89.60%\n",
      "Training Loss Epoch 7:  0.1893\n",
      "Training Accuracy Epoch 7:  89.60%\n"
     ]
    },
    {
     "name": "stderr",
     "output_type": "stream",
     "text": [
      "100%|██████████| 292/292 [00:11<00:00, 26.46it/s]\n"
     ]
    },
    {
     "name": "stdout",
     "output_type": "stream",
     "text": [
      "Validation Loss Epoch 7:  0.4812\n",
      "Validation Accuracy Epoch 7:  78.94%\n"
     ]
    },
    {
     "name": "stderr",
     "output_type": "stream",
     "text": [
      "585it [02:00,  4.87it/s]\n"
     ]
    },
    {
     "name": "stdout",
     "output_type": "stream",
     "text": [
      "The Total Accuracy for Epoch 7: 89.90%\n",
      "Training Loss Epoch 8:  0.1785\n",
      "Training Accuracy Epoch 8:  89.90%\n"
     ]
    },
    {
     "name": "stderr",
     "output_type": "stream",
     "text": [
      "100%|██████████| 292/292 [00:11<00:00, 26.43it/s]\n"
     ]
    },
    {
     "name": "stdout",
     "output_type": "stream",
     "text": [
      "Validation Loss Epoch 8:  0.4877\n",
      "Validation Accuracy Epoch 8:  80.05%\n"
     ]
    },
    {
     "name": "stderr",
     "output_type": "stream",
     "text": [
      "585it [02:00,  4.86it/s]\n"
     ]
    },
    {
     "name": "stdout",
     "output_type": "stream",
     "text": [
      "The Total Accuracy for Epoch 8: 90.24%\n",
      "Training Loss Epoch 9:  0.1620\n",
      "Training Accuracy Epoch 9:  90.24%\n"
     ]
    },
    {
     "name": "stderr",
     "output_type": "stream",
     "text": [
      "100%|██████████| 292/292 [00:11<00:00, 26.53it/s]\n"
     ]
    },
    {
     "name": "stdout",
     "output_type": "stream",
     "text": [
      "Validation Loss Epoch 9:  0.4770\n",
      "Validation Accuracy Epoch 9:  83.99%\n"
     ]
    },
    {
     "name": "stderr",
     "output_type": "stream",
     "text": [
      "585it [02:00,  4.86it/s]\n"
     ]
    },
    {
     "name": "stdout",
     "output_type": "stream",
     "text": [
      "The Total Accuracy for Epoch 9: 90.67%\n",
      "Training Loss Epoch 10:  0.1526\n",
      "Training Accuracy Epoch 10:  90.67%\n"
     ]
    },
    {
     "name": "stderr",
     "output_type": "stream",
     "text": [
      "100%|██████████| 292/292 [00:10<00:00, 26.58it/s]"
     ]
    },
    {
     "name": "stdout",
     "output_type": "stream",
     "text": [
      "Validation Loss Epoch 10:  0.5691\n",
      "Validation Accuracy Epoch 10:  81.93%\n"
     ]
    },
    {
     "name": "stderr",
     "output_type": "stream",
     "text": [
      "\n"
     ]
    }
   ],
   "source": [
    "epochs = 10\n",
    "for epoch in range(epochs):\n",
    "    teacher_train(epoch)\n",
    "    valid(teacher_model, testing_loader)"
   ]
  },
  {
   "cell_type": "code",
   "execution_count": 25,
   "metadata": {
    "execution": {
     "iopub.execute_input": "2023-07-01T10:07:50.133691Z",
     "iopub.status.busy": "2023-07-01T10:07:50.133028Z",
     "iopub.status.idle": "2023-07-01T10:07:50.141517Z",
     "shell.execute_reply": "2023-07-01T10:07:50.140585Z",
     "shell.execute_reply.started": "2023-07-01T10:07:50.133659Z"
    }
   },
   "outputs": [
    {
     "name": "stdout",
     "output_type": "stream",
     "text": [
      "Running Time of RoBERTa model: 1315.1338317394257 seconds or 21.918897195657095 minutes or 0.3653149532609516 hours\n"
     ]
    }
   ],
   "source": [
    "# Calulcate end time and total runtime of the model in seconds\n",
    "roberta_end_time = time.time()\n",
    "roberta_running_time = roberta_end_time - roberta_start_time\n",
    "print(f\"Running Time of RoBERTa model: {roberta_running_time} seconds or {roberta_running_time / 60} minutes or {roberta_running_time / 3600} hours\")"
   ]
  },
  {
   "cell_type": "code",
   "execution_count": 26,
   "metadata": {
    "execution": {
     "iopub.execute_input": "2023-07-01T10:07:50.143413Z",
     "iopub.status.busy": "2023-07-01T10:07:50.143059Z",
     "iopub.status.idle": "2023-07-01T10:07:50.151478Z",
     "shell.execute_reply": "2023-07-01T10:07:50.150188Z",
     "shell.execute_reply.started": "2023-07-01T10:07:50.143382Z"
    }
   },
   "outputs": [
    {
     "name": "stdout",
     "output_type": "stream",
     "text": [
      "Memory Usage of RoBERTa model: 3309.05078125 MB\n"
     ]
    }
   ],
   "source": [
    "process = psutil.Process()\n",
    "roberta_memory_usage = process.memory_info().rss / 1024 / 1024  # in MB\n",
    "print(f\"Memory Usage of RoBERTa model: {roberta_memory_usage} MB\")"
   ]
  },
  {
   "cell_type": "code",
   "execution_count": 27,
   "metadata": {
    "execution": {
     "iopub.execute_input": "2023-07-01T10:07:50.153446Z",
     "iopub.status.busy": "2023-07-01T10:07:50.153101Z",
     "iopub.status.idle": "2023-07-01T10:08:01.447050Z",
     "shell.execute_reply": "2023-07-01T10:08:01.446158Z",
     "shell.execute_reply.started": "2023-07-01T10:07:50.153413Z"
    }
   },
   "outputs": [
    {
     "name": "stderr",
     "output_type": "stream",
     "text": [
      "292it [00:10, 26.64it/s]\n"
     ]
    },
    {
     "name": "stdout",
     "output_type": "stream",
     "text": [
      "Metrics:\n",
      "Accuracy: 0.82\n",
      "Precision (Weighted): 0.81\n",
      "Precision (Macro): 0.77\n",
      "Recall (Weighted): 0.82\n",
      "Recall (Macro): 0.73\n",
      "F1-score (Weighted): 0.81\n",
      "F1-score (Macro): 0.74\n"
     ]
    },
    {
     "data": {
      "image/png": "[encoded data removed]",
      "text/plain": [
       "<Figure size 800x600 with 2 Axes>"
      ]
     },
     "metadata": {},
     "output_type": "display_data"
    },
    {
     "name": "stdout",
     "output_type": "stream",
     "text": [
      "                Metric     Score\n",
      "0             Accuracy  0.819349\n",
      "1  Precision(weighted)  0.808800\n",
      "2     Precision(macro)  0.774708\n",
      "3     Recall(weighted)  0.819349\n",
      "4        Recall(macro)  0.729007\n",
      "5  F1-Score (Weighted)  0.809210\n",
      "6     F1-Score (Macro)  0.741669\n",
      "\n"
     ]
    }
   ],
   "source": [
    "#Evaluating teacher model on test data\n",
    "predicted_labels, true_labels = evaluate(teacher_model, testing_loader)\n",
    "compute_evaluation_metrics(true_labels, predicted_labels)"
   ]
  },
  {
   "cell_type": "code",
   "execution_count": 28,
   "metadata": {
    "execution": {
     "iopub.execute_input": "2023-07-01T10:08:01.454894Z",
     "iopub.status.busy": "2023-07-01T10:08:01.454110Z",
     "iopub.status.idle": "2023-07-01T10:08:02.020804Z",
     "shell.execute_reply": "2023-07-01T10:08:02.019907Z",
     "shell.execute_reply.started": "2023-07-01T10:08:01.454858Z"
    }
   },
   "outputs": [
    {
     "data": {
      "image/png": "[encoded data removed]",
      "text/plain": [
       "<Figure size 640x480 with 1 Axes>"
      ]
     },
     "metadata": {},
     "output_type": "display_data"
    },
    {
     "data": {
      "image/png": "[encoded data removed]",
      "text/plain": [
       "<Figure size 640x480 with 1 Axes>"
      ]
     },
     "metadata": {},
     "output_type": "display_data"
    }
   ],
   "source": [
    " # Plot training and validation loss\n",
    "plt.plot(range(1, epochs + 1), train_losses, label='Training Loss')\n",
    "plt.plot(range(1, epochs + 1), valid_losses, label='Validation Loss')\n",
    "plt.xlabel('Epoch')\n",
    "plt.ylabel('Loss')\n",
    "plt.title('Roberta Training Loss vs Validation Loss')\n",
    "plt.legend()\n",
    "plt.show()\n",
    "\n",
    "# Plot training and validation accuracy\n",
    "plt.plot(range(1, epochs + 1), train_accuracies, label='Training Accuracy')\n",
    "plt.plot(range(1, epochs + 1), valid_accuracies, label='Validation Accuracy')\n",
    "plt.xlabel('Epoch')\n",
    "plt.ylabel('Loss')\n",
    "plt.title('Roberta Training Accuracy vs Validation Accuracy')\n",
    "plt.legend()\n",
    "plt.show()"
   ]
  },
  {
   "cell_type": "markdown",
   "metadata": {},
   "source": [
    "# **Class Based Evaluation Metrics (RoBERTa)**"
   ]
  },
  {
   "cell_type": "code",
   "execution_count": 29,
   "metadata": {
    "execution": {
     "iopub.execute_input": "2023-07-01T10:08:02.024002Z",
     "iopub.status.busy": "2023-07-01T10:08:02.023608Z",
     "iopub.status.idle": "2023-07-01T10:08:02.078844Z",
     "shell.execute_reply": "2023-07-01T10:08:02.077883Z",
     "shell.execute_reply.started": "2023-07-01T10:08:02.023953Z"
    }
   },
   "outputs": [
    {
     "name": "stdout",
     "output_type": "stream",
     "text": [
      "Metrics for Positive Class:\n",
      "Accuracy: 0.91\n",
      "Precision (Weighted): 1.00\n",
      "Precision (Macro): 0.33\n",
      "Recall (Weighted): 0.91\n",
      "Recall (Macro): 0.30\n",
      "F1-score (Weighted): 0.95\n",
      "F1-score (Macro): 0.32\n",
      "\n",
      "Metrics for Negative Class:\n",
      "Accuracy: 0.40\n",
      "Precision (Weighted): 1.00\n",
      "Precision (Macro): 0.33\n",
      "Recall (Weighted): 0.40\n",
      "Recall (Macro): 0.13\n",
      "F1-score (Weighted): 0.57\n",
      "F1-score (Macro): 0.19\n",
      "\n",
      "Metrics for Neutral Class:\n",
      "Accuracy: 0.88\n",
      "Precision (Weighted): 1.00\n",
      "Precision (Macro): 0.33\n",
      "Recall (Weighted): 0.88\n",
      "Recall (Macro): 0.29\n",
      "F1-score (Weighted): 0.94\n",
      "F1-score (Macro): 0.31\n",
      "\n"
     ]
    }
   ],
   "source": [
    "class_names = [0, 1, 2]\n",
    "class_labels = {0: 'positive', 1: 'negative', 2: 'neutral'}\n",
    "\n",
    "# Define lists to store the metric values for each class\n",
    "accuracy_list = []\n",
    "precision_weighted_list = []\n",
    "precision_macro_list = []\n",
    "recall_weighted_list = []\n",
    "recall_macro_list = []\n",
    "f1_weighted_list = []\n",
    "f1_macro_list = []\n",
    "\n",
    "for class_name in class_names:\n",
    "    # Filter labels for the current class\n",
    "    class_label = class_labels[class_name]\n",
    "    class_indices = [i for i in range(len(true_labels)) if true_labels[i] == class_name]\n",
    "    true_labels_class = [true_labels[i] for i in class_indices]\n",
    "    predicted_labels_class = [predicted_labels[i] for i in class_indices]\n",
    "\n",
    "    # Calculate metrics for the current class\n",
    "    accuracy_class = accuracy_score(true_labels_class, predicted_labels_class)\n",
    "    precision_weighted_class = precision_score(true_labels_class, predicted_labels_class, average='weighted')\n",
    "    precision_macro_class = precision_score(true_labels_class, predicted_labels_class, average='macro')\n",
    "    recall_weighted_class = recall_score(true_labels_class, predicted_labels_class, average='weighted')\n",
    "    recall_macro_class = recall_score(true_labels_class, predicted_labels_class, average='macro')\n",
    "    f1_weighted_class = f1_score(true_labels_class, predicted_labels_class, average='weighted')\n",
    "    f1_macro_class = f1_score(true_labels_class, predicted_labels_class, average='macro')\n",
    "    \n",
    "    # Append the metric values to the corresponding lists\n",
    "    accuracy_list.append(accuracy_class)\n",
    "    precision_weighted_list.append(precision_weighted_class)\n",
    "    precision_macro_list.append(precision_macro_class)\n",
    "    recall_weighted_list.append(recall_weighted_class)\n",
    "    recall_macro_list.append(recall_macro_class)\n",
    "    f1_weighted_list.append(f1_weighted_class)\n",
    "    f1_macro_list.append(f1_macro_class)\n",
    "\n",
    "    # Print metrics for the current class\n",
    "    print(f\"Metrics for {class_label.capitalize()} Class:\")\n",
    "    print(\"Accuracy:\", format(accuracy_class, \".2f\"))\n",
    "    print(\"Precision (Weighted):\", format(precision_weighted_class, \".2f\"))\n",
    "    print(\"Precision (Macro):\", format(precision_macro_class, \".2f\"))\n",
    "    print(\"Recall (Weighted):\", format(recall_weighted_class, \".2f\"))\n",
    "    print(\"Recall (Macro):\", format(recall_macro_class, \".2f\"))\n",
    "    print(\"F1-score (Weighted):\", format(f1_weighted_class, \".2f\"))\n",
    "    print(\"F1-score (Macro):\", format(f1_macro_class, \".2f\"))\n",
    "    print()"
   ]
  },
  {
   "cell_type": "markdown",
   "metadata": {},
   "source": [
    "#  Plots for class based evaluation metrics (RoBERTa)"
   ]
  },
  {
   "cell_type": "code",
   "execution_count": 30,
   "metadata": {
    "execution": {
     "iopub.execute_input": "2023-07-01T10:08:02.080775Z",
     "iopub.status.busy": "2023-07-01T10:08:02.080127Z",
     "iopub.status.idle": "2023-07-01T10:08:03.228466Z",
     "shell.execute_reply": "2023-07-01T10:08:03.227452Z",
     "shell.execute_reply.started": "2023-07-01T10:08:02.080742Z"
    }
   },
   "outputs": [
    {
     "data": {
      "image/png": "[encoded data removed]",
      "text/plain": [
       "<Figure size 1400x600 with 7 Axes>"
      ]
     },
     "metadata": {},
     "output_type": "display_data"
    }
   ],
   "source": [
    "# Define the x-axis ticks for the bar plot\n",
    "x_ticks = [class_labels[class_name].capitalize() for class_name in class_names]\n",
    "\n",
    "# Create the bar plot\n",
    "plt.figure(figsize=(14, 6))\n",
    "\n",
    "# Accuracy\n",
    "plt.subplot(2, 4, 1)\n",
    "plt.bar(x_ticks, accuracy_list)\n",
    "plt.title('Accuracy')\n",
    "plt.ylabel('Value')\n",
    "\n",
    "# Precision (Weighted)\n",
    "plt.subplot(2, 4, 2)\n",
    "plt.bar(x_ticks, precision_weighted_list)\n",
    "plt.title('Precision (Weighted)')\n",
    "plt.ylabel('Value')\n",
    "\n",
    "# Precision (Macro)\n",
    "plt.subplot(2, 4, 3)\n",
    "plt.bar(x_ticks, precision_macro_list)\n",
    "plt.title('Precision (Macro)')\n",
    "plt.ylabel('Value')\n",
    "\n",
    "# Recall (Weighted)\n",
    "plt.subplot(2, 4, 4)\n",
    "plt.bar(x_ticks, recall_weighted_list)\n",
    "plt.title('Recall (Weighted)')\n",
    "plt.ylabel('Value')\n",
    "\n",
    "# Recall (Weighted)\n",
    "plt.subplot(2, 4, 5)\n",
    "plt.bar(x_ticks, recall_macro_list)\n",
    "plt.title('Recall (Macro)')\n",
    "plt.ylabel('Value')\n",
    "\n",
    "# f1-score (Weighted)\n",
    "plt.subplot(2, 4, 6)\n",
    "plt.bar(x_ticks, f1_weighted_list)\n",
    "plt.title('F1-score (Weighted)')\n",
    "plt.ylabel('Value')\n",
    "\n",
    "# f1-score (Macro)\n",
    "plt.subplot(2, 4, 7)\n",
    "plt.bar(x_ticks, f1_macro_list)\n",
    "plt.title('F1-score (Macro)')\n",
    "plt.ylabel('Value')\n",
    "\n",
    "# Adjust spacing between subplots\n",
    "plt.subplots_adjust(wspace=0.4, hspace=0.6)\n",
    "\n",
    "# Show the plot\n",
    "plt.show()"
   ]
  },
  {
   "cell_type": "code",
   "execution_count": 31,
   "metadata": {
    "execution": {
     "iopub.execute_input": "2023-07-01T10:08:03.230403Z",
     "iopub.status.busy": "2023-07-01T10:08:03.229754Z",
     "iopub.status.idle": "2023-07-01T10:08:03.311036Z",
     "shell.execute_reply": "2023-07-01T10:08:03.309866Z",
     "shell.execute_reply.started": "2023-07-01T10:08:03.230366Z"
    }
   },
   "outputs": [],
   "source": [
    "# Clear the GPU memory once again before loading student model to the device\n",
    "torch.cuda.empty_cache()"
   ]
  },
  {
   "cell_type": "markdown",
   "metadata": {},
   "source": [
    "# DistilRoberta Model Implementation"
   ]
  },
  {
   "cell_type": "code",
   "execution_count": 32,
   "metadata": {
    "execution": {
     "iopub.execute_input": "2023-07-01T10:08:03.313807Z",
     "iopub.status.busy": "2023-07-01T10:08:03.313506Z",
     "iopub.status.idle": "2023-07-01T10:08:03.324032Z",
     "shell.execute_reply": "2023-07-01T10:08:03.322898Z",
     "shell.execute_reply.started": "2023-07-01T10:08:03.313782Z"
    }
   },
   "outputs": [],
   "source": [
    "#DistilRoberta implemenatation\n",
    "class DistilRobertaClassifier(torch.nn.Module):\n",
    "    def __init__(self):\n",
    "        super(DistilRobertaClassifier, self).__init__()\n",
    "        self.layer = RobertaModel.from_pretrained(\"roberta-base\", num_hidden_layers=6)  #Set the number of hidden layers to 6\n",
    "        self.pre_classifier = torch.nn.Linear(768, 768)\n",
    "        self.dropout = torch.nn.Dropout(0.5)\n",
    "        self.classifier = torch.nn.Linear(768, 3)\n",
    "        \n",
    "    def forward(self, input_ids, attention_mask, token_type_ids):\n",
    "        output_layer = self.layer(input_ids=input_ids, attention_mask=attention_mask, token_type_ids=token_type_ids)\n",
    "        hidden_state = output_layer[0]\n",
    "        pooler = hidden_state[:,0]\n",
    "        pooler = self.pre_classifier(pooler)\n",
    "        pooler = torch.nn.ReLU()(pooler)\n",
    "        pooler = self.dropout(pooler)\n",
    "        output = self.classifier(pooler)\n",
    "        return output"
   ]
  },
  {
   "cell_type": "code",
   "execution_count": 33,
   "metadata": {
    "execution": {
     "iopub.execute_input": "2023-07-01T10:08:03.326115Z",
     "iopub.status.busy": "2023-07-01T10:08:03.325706Z",
     "iopub.status.idle": "2023-07-01T10:08:04.459611Z",
     "shell.execute_reply": "2023-07-01T10:08:04.458665Z",
     "shell.execute_reply.started": "2023-07-01T10:08:03.326081Z"
    }
   },
   "outputs": [
    {
     "name": "stderr",
     "output_type": "stream",
     "text": [
      "Some weights of the model checkpoint at roberta-base were not used when initializing RobertaModel: ['roberta.encoder.layer.8.attention.output.LayerNorm.bias', 'roberta.encoder.layer.9.attention.output.LayerNorm.weight', 'roberta.encoder.layer.9.attention.self.value.weight', 'roberta.encoder.layer.7.output.LayerNorm.weight', 'roberta.encoder.layer.11.attention.self.value.bias', 'roberta.encoder.layer.9.output.LayerNorm.weight', 'roberta.encoder.layer.6.output.LayerNorm.weight', 'roberta.encoder.layer.6.attention.self.key.bias', 'roberta.encoder.layer.11.intermediate.dense.bias', 'roberta.encoder.layer.7.attention.output.LayerNorm.weight', 'lm_head.layer_norm.bias', 'roberta.encoder.layer.8.attention.output.LayerNorm.weight', 'roberta.encoder.layer.8.output.dense.weight', 'roberta.encoder.layer.8.attention.self.value.weight', 'roberta.encoder.layer.11.output.LayerNorm.weight', 'roberta.encoder.layer.11.attention.self.query.weight', 'roberta.encoder.layer.9.output.LayerNorm.bias', 'roberta.encoder.layer.10.attention.self.value.weight', 'roberta.encoder.layer.10.output.LayerNorm.weight', 'roberta.encoder.layer.8.output.LayerNorm.weight', 'roberta.encoder.layer.8.attention.self.value.bias', 'roberta.encoder.layer.11.attention.self.query.bias', 'roberta.encoder.layer.8.attention.self.key.bias', 'roberta.encoder.layer.8.output.dense.bias', 'roberta.encoder.layer.10.attention.self.key.weight', 'roberta.encoder.layer.9.attention.self.query.weight', 'roberta.encoder.layer.6.attention.output.LayerNorm.weight', 'roberta.encoder.layer.8.intermediate.dense.weight', 'roberta.encoder.layer.9.attention.self.value.bias', 'roberta.encoder.layer.10.output.dense.weight', 'roberta.encoder.layer.9.attention.output.dense.weight', 'roberta.encoder.layer.10.output.dense.bias', 'roberta.encoder.layer.6.output.dense.bias', 'roberta.encoder.layer.9.attention.self.key.bias', 'lm_head.dense.bias', 'roberta.encoder.layer.11.output.LayerNorm.bias', 'roberta.encoder.layer.7.attention.self.key.bias', 'roberta.encoder.layer.8.attention.self.key.weight', 'roberta.encoder.layer.10.attention.output.LayerNorm.weight', 'roberta.encoder.layer.7.output.LayerNorm.bias', 'roberta.encoder.layer.10.intermediate.dense.bias', 'roberta.encoder.layer.7.intermediate.dense.bias', 'roberta.encoder.layer.11.attention.self.key.weight', 'roberta.encoder.layer.10.attention.output.dense.bias', 'roberta.encoder.layer.11.output.dense.weight', 'roberta.encoder.layer.10.attention.self.query.bias', 'roberta.encoder.layer.7.attention.self.value.weight', 'roberta.encoder.layer.11.attention.output.dense.weight', 'roberta.encoder.layer.11.attention.self.value.weight', 'roberta.encoder.layer.11.attention.output.LayerNorm.bias', 'roberta.encoder.layer.7.output.dense.bias', 'roberta.encoder.layer.9.attention.output.LayerNorm.bias', 'roberta.encoder.layer.9.output.dense.weight', 'roberta.encoder.layer.6.intermediate.dense.weight', 'roberta.encoder.layer.9.attention.output.dense.bias', 'roberta.encoder.layer.10.intermediate.dense.weight', 'lm_head.layer_norm.weight', 'roberta.encoder.layer.8.output.LayerNorm.bias', 'roberta.encoder.layer.8.intermediate.dense.bias', 'roberta.encoder.layer.7.attention.self.query.weight', 'roberta.encoder.layer.9.attention.self.query.bias', 'roberta.encoder.layer.10.attention.output.LayerNorm.bias', 'roberta.encoder.layer.6.attention.output.dense.bias', 'roberta.encoder.layer.6.attention.self.value.bias', 'roberta.encoder.layer.7.attention.self.value.bias', 'roberta.encoder.layer.10.output.LayerNorm.bias', 'roberta.encoder.layer.9.intermediate.dense.bias', 'roberta.encoder.layer.10.attention.self.query.weight', 'roberta.encoder.layer.6.output.dense.weight', 'roberta.encoder.layer.7.output.dense.weight', 'roberta.encoder.layer.7.attention.output.LayerNorm.bias', 'roberta.encoder.layer.8.attention.self.query.bias', 'roberta.encoder.layer.7.attention.output.dense.bias', 'roberta.encoder.layer.8.attention.output.dense.weight', 'roberta.encoder.layer.9.output.dense.bias', 'roberta.encoder.layer.7.attention.output.dense.weight', 'roberta.encoder.layer.10.attention.output.dense.weight', 'roberta.encoder.layer.11.attention.self.key.bias', 'roberta.encoder.layer.8.attention.self.query.weight', 'roberta.encoder.layer.6.output.LayerNorm.bias', 'roberta.encoder.layer.6.intermediate.dense.bias', 'roberta.encoder.layer.11.intermediate.dense.weight', 'roberta.encoder.layer.6.attention.self.value.weight', 'roberta.encoder.layer.7.attention.self.key.weight', 'roberta.encoder.layer.7.attention.self.query.bias', 'roberta.encoder.layer.10.attention.self.key.bias', 'roberta.encoder.layer.9.attention.self.key.weight', 'lm_head.dense.weight', 'roberta.encoder.layer.11.attention.output.dense.bias', 'roberta.encoder.layer.6.attention.self.query.weight', 'roberta.encoder.layer.6.attention.output.LayerNorm.bias', 'roberta.encoder.layer.6.attention.self.query.bias', 'roberta.encoder.layer.7.intermediate.dense.weight', 'roberta.encoder.layer.8.attention.output.dense.bias', 'lm_head.bias', 'roberta.encoder.layer.6.attention.self.key.weight', 'roberta.encoder.layer.11.output.dense.bias', 'roberta.encoder.layer.10.attention.self.value.bias', 'roberta.encoder.layer.6.attention.output.dense.weight', 'roberta.encoder.layer.11.attention.output.LayerNorm.weight', 'roberta.encoder.layer.9.intermediate.dense.weight']\n",
      "- This IS expected if you are initializing RobertaModel from the checkpoint of a model trained on another task or with another architecture (e.g. initializing a BertForSequenceClassification model from a BertForPreTraining model).\n",
      "- This IS NOT expected if you are initializing RobertaModel from the checkpoint of a model that you expect to be exactly identical (initializing a BertForSequenceClassification model from a BertForSequenceClassification model).\n",
      "Some weights of RobertaModel were not initialized from the model checkpoint at roberta-base and are newly initialized: ['roberta.pooler.dense.weight', 'roberta.pooler.dense.bias']\n",
      "You should probably TRAIN this model on a down-stream task to be able to use it for predictions and inference.\n"
     ]
    },
    {
     "data": {
      "text/plain": [
       "DistilRobertaClassifier(\n",
       "  (layer): RobertaModel(\n",
       "    (embeddings): RobertaEmbeddings(\n",
       "      (word_embeddings): Embedding(50265, 768, padding_idx=1)\n",
       "      (position_embeddings): Embedding(514, 768, padding_idx=1)\n",
       "      (token_type_embeddings): Embedding(1, 768)\n",
       "      (LayerNorm): LayerNorm((768,), eps=1e-05, elementwise_affine=True)\n",
       "      (dropout): Dropout(p=0.1, inplace=False)\n",
       "    )\n",
       "    (encoder): RobertaEncoder(\n",
       "      (layer): ModuleList(\n",
       "        (0-5): 6 x RobertaLayer(\n",
       "          (attention): RobertaAttention(\n",
       "            (self): RobertaSelfAttention(\n",
       "              (query): Linear(in_features=768, out_features=768, bias=True)\n",
       "              (key): Linear(in_features=768, out_features=768, bias=True)\n",
       "              (value): Linear(in_features=768, out_features=768, bias=True)\n",
       "              (dropout): Dropout(p=0.1, inplace=False)\n",
       "            )\n",
       "            (output): RobertaSelfOutput(\n",
       "              (dense): Linear(in_features=768, out_features=768, bias=True)\n",
       "              (LayerNorm): LayerNorm((768,), eps=1e-05, elementwise_affine=True)\n",
       "              (dropout): Dropout(p=0.1, inplace=False)\n",
       "            )\n",
       "          )\n",
       "          (intermediate): RobertaIntermediate(\n",
       "            (dense): Linear(in_features=768, out_features=3072, bias=True)\n",
       "            (intermediate_act_fn): GELUActivation()\n",
       "          )\n",
       "          (output): RobertaOutput(\n",
       "            (dense): Linear(in_features=3072, out_features=768, bias=True)\n",
       "            (LayerNorm): LayerNorm((768,), eps=1e-05, elementwise_affine=True)\n",
       "            (dropout): Dropout(p=0.1, inplace=False)\n",
       "          )\n",
       "        )\n",
       "      )\n",
       "    )\n",
       "    (pooler): RobertaPooler(\n",
       "      (dense): Linear(in_features=768, out_features=768, bias=True)\n",
       "      (activation): Tanh()\n",
       "    )\n",
       "  )\n",
       "  (pre_classifier): Linear(in_features=768, out_features=768, bias=True)\n",
       "  (dropout): Dropout(p=0.5, inplace=False)\n",
       "  (classifier): Linear(in_features=768, out_features=3, bias=True)\n",
       ")"
      ]
     },
     "execution_count": 33,
     "metadata": {},
     "output_type": "execute_result"
    }
   ],
   "source": [
    "#student model\n",
    "student_model = DistilRobertaClassifier()\n",
    "student_model.to(device)"
   ]
  },
  {
   "cell_type": "code",
   "execution_count": 34,
   "metadata": {
    "execution": {
     "iopub.execute_input": "2023-07-01T10:08:04.462932Z",
     "iopub.status.busy": "2023-07-01T10:08:04.460943Z",
     "iopub.status.idle": "2023-07-01T10:08:04.469601Z",
     "shell.execute_reply": "2023-07-01T10:08:04.468554Z",
     "shell.execute_reply.started": "2023-07-01T10:08:04.462904Z"
    }
   },
   "outputs": [],
   "source": [
    "#Loss function and optimizer\n",
    "loss_function = torch.nn.CrossEntropyLoss()\n",
    "optimizer = torch.optim.Adam(params=student_model.parameters(), lr=learning_rate)"
   ]
  },
  {
   "cell_type": "code",
   "execution_count": 35,
   "metadata": {
    "execution": {
     "iopub.execute_input": "2023-07-01T10:08:04.471799Z",
     "iopub.status.busy": "2023-07-01T10:08:04.471456Z",
     "iopub.status.idle": "2023-07-01T10:08:04.479671Z",
     "shell.execute_reply": "2023-07-01T10:08:04.477122Z",
     "shell.execute_reply.started": "2023-07-01T10:08:04.471764Z"
    }
   },
   "outputs": [],
   "source": [
    "#Distillation parameter\n",
    "temperature = 3.0"
   ]
  },
  {
   "cell_type": "code",
   "execution_count": 36,
   "metadata": {
    "execution": {
     "iopub.execute_input": "2023-07-01T10:08:04.481605Z",
     "iopub.status.busy": "2023-07-01T10:08:04.481279Z",
     "iopub.status.idle": "2023-07-01T10:08:04.489672Z",
     "shell.execute_reply": "2023-07-01T10:08:04.488792Z",
     "shell.execute_reply.started": "2023-07-01T10:08:04.481575Z"
    }
   },
   "outputs": [],
   "source": [
    "# Distillation loss\n",
    "def distillation_loss(student_logits, teacher_logits):\n",
    "    student_probs = torch.nn.functional.softmax(student_logits / temperature, dim=1)\n",
    "    teacher_probs = torch.nn.functional.softmax(teacher_logits / temperature, dim=1)\n",
    "    loss = torch.nn.KLDivLoss()(torch.log(student_probs), teacher_probs)\n",
    "    return loss"
   ]
  },
  {
   "cell_type": "code",
   "execution_count": 37,
   "metadata": {
    "execution": {
     "iopub.execute_input": "2023-07-01T10:08:04.491064Z",
     "iopub.status.busy": "2023-07-01T10:08:04.490760Z",
     "iopub.status.idle": "2023-07-01T10:08:04.497831Z",
     "shell.execute_reply": "2023-07-01T10:08:04.496904Z",
     "shell.execute_reply.started": "2023-07-01T10:08:04.491031Z"
    }
   },
   "outputs": [],
   "source": [
    "# Reset Lists to store training and validation loss values of DistilRoberta\n",
    "train_losses = []\n",
    "valid_losses = []\n",
    "train_accuracies = []\n",
    "valid_accuracies = []"
   ]
  },
  {
   "cell_type": "code",
   "execution_count": 38,
   "metadata": {
    "execution": {
     "iopub.execute_input": "2023-07-01T10:08:04.499971Z",
     "iopub.status.busy": "2023-07-01T10:08:04.499344Z",
     "iopub.status.idle": "2023-07-01T10:08:04.511039Z",
     "shell.execute_reply": "2023-07-01T10:08:04.510205Z",
     "shell.execute_reply.started": "2023-07-01T10:08:04.499941Z"
    }
   },
   "outputs": [],
   "source": [
    "#Train function for DistillRoberta\n",
    "def student_train(epoch):\n",
    "    student_model.train()\n",
    "    training_loss = 0\n",
    "    correct_classifications = 0\n",
    "    nb_tr_steps = 0\n",
    "    nb_tr_examples = 0\n",
    "    \n",
    "    for _, data in tqdm(enumerate(training_loader, 0)):\n",
    "        ids = data['ids'].to(device, dtype=torch.long)\n",
    "        mask = data['mask'].to(device, dtype=torch.long)\n",
    "        token_type_ids = data['token_type_ids'].to(device, dtype=torch.long)\n",
    "        sentiments = data['sentiments'].to(device, dtype=torch.long)\n",
    "        \n",
    "        optimizer.zero_grad()\n",
    "        \n",
    "        # Forward pass through teacher model\n",
    "        with torch.no_grad():\n",
    "            teacher_logits = teacher_model(ids, mask, token_type_ids)\n",
    "\n",
    "        # Forward pass through student model\n",
    "        student_logits = student_model(ids, mask, token_type_ids)\n",
    "\n",
    "        # Calculate distillation loss\n",
    "        distillation_loss_value = distillation_loss(student_logits, teacher_logits)\n",
    "\n",
    "        # Calculate total loss\n",
    "        loss = loss_function(student_logits, sentiments) + distillation_loss_value\n",
    "        training_loss += loss.item()\n",
    "\n",
    "        # Calculate accuracy\n",
    "        _, predicted_labels = torch.max(student_logits, 1)\n",
    "        correct_classifications += (predicted_labels == sentiments).sum().item()\n",
    "\n",
    "        nb_tr_steps += 1\n",
    "        nb_tr_examples += sentiments.size(0)\n",
    "\n",
    "        loss.backward()\n",
    "        optimizer.step()\n",
    "\n",
    "    epoch_loss = training_loss / nb_tr_steps\n",
    "    train_losses.append(epoch_loss)\n",
    "    epoch_accuracy = (correct_classifications * 100) / nb_tr_examples\n",
    "    train_accuracies.append(epoch_accuracy)\n",
    "    \n",
    "    print(f'The Total Accuracy for Epoch {epoch}: {epoch_accuracy:.2f}%')\n",
    "    print(f\"Training Loss Epoch {epoch+1}: {epoch_loss: .4f}\")\n",
    "    print(f\"Training Accuracy Epoch {epoch+1}: {epoch_accuracy: .2f}%\")"
   ]
  },
  {
   "cell_type": "code",
   "execution_count": 39,
   "metadata": {
    "execution": {
     "iopub.execute_input": "2023-07-01T10:08:04.513048Z",
     "iopub.status.busy": "2023-07-01T10:08:04.512408Z",
     "iopub.status.idle": "2023-07-01T10:08:04.524311Z",
     "shell.execute_reply": "2023-07-01T10:08:04.523317Z",
     "shell.execute_reply.started": "2023-07-01T10:08:04.513017Z"
    }
   },
   "outputs": [],
   "source": [
    "# Calculating the timestamp at the begining\n",
    "distillRoberta_start_time = time.time()"
   ]
  },
  {
   "cell_type": "code",
   "execution_count": 40,
   "metadata": {
    "execution": {
     "iopub.execute_input": "2023-07-01T10:08:04.526516Z",
     "iopub.status.busy": "2023-07-01T10:08:04.525704Z",
     "iopub.status.idle": "2023-07-01T10:25:22.510050Z",
     "shell.execute_reply": "2023-07-01T10:25:22.508774Z",
     "shell.execute_reply.started": "2023-07-01T10:08:04.526485Z"
    }
   },
   "outputs": [
    {
     "name": "stderr",
     "output_type": "stream",
     "text": [
      "585it [01:37,  5.99it/s]\n"
     ]
    },
    {
     "name": "stdout",
     "output_type": "stream",
     "text": [
      "The Total Accuracy for Epoch 0: 63.50%\n",
      "Training Loss Epoch 1:  0.9382\n",
      "Training Accuracy Epoch 1:  63.50%\n"
     ]
    },
    {
     "name": "stderr",
     "output_type": "stream",
     "text": [
      "100%|██████████| 292/292 [00:06<00:00, 48.30it/s]\n"
     ]
    },
    {
     "name": "stdout",
     "output_type": "stream",
     "text": [
      "Validation Loss Epoch 1:  0.4648\n",
      "Validation Accuracy Epoch 1:  79.97%\n"
     ]
    },
    {
     "name": "stderr",
     "output_type": "stream",
     "text": [
      "585it [01:37,  5.99it/s]\n"
     ]
    },
    {
     "name": "stdout",
     "output_type": "stream",
     "text": [
      "The Total Accuracy for Epoch 1: 80.59%\n",
      "Training Loss Epoch 2:  0.5122\n",
      "Training Accuracy Epoch 2:  80.59%\n"
     ]
    },
    {
     "name": "stderr",
     "output_type": "stream",
     "text": [
      "100%|██████████| 292/292 [00:05<00:00, 48.94it/s]\n"
     ]
    },
    {
     "name": "stdout",
     "output_type": "stream",
     "text": [
      "Validation Loss Epoch 2:  0.4232\n",
      "Validation Accuracy Epoch 2:  80.48%\n"
     ]
    },
    {
     "name": "stderr",
     "output_type": "stream",
     "text": [
      "585it [01:37,  5.98it/s]\n"
     ]
    },
    {
     "name": "stdout",
     "output_type": "stream",
     "text": [
      "The Total Accuracy for Epoch 2: 84.27%\n",
      "Training Loss Epoch 3:  0.3761\n",
      "Training Accuracy Epoch 3:  84.27%\n"
     ]
    },
    {
     "name": "stderr",
     "output_type": "stream",
     "text": [
      "100%|██████████| 292/292 [00:06<00:00, 48.58it/s]\n"
     ]
    },
    {
     "name": "stdout",
     "output_type": "stream",
     "text": [
      "Validation Loss Epoch 3:  0.4221\n",
      "Validation Accuracy Epoch 3:  81.16%\n"
     ]
    },
    {
     "name": "stderr",
     "output_type": "stream",
     "text": [
      "585it [01:37,  5.98it/s]\n"
     ]
    },
    {
     "name": "stdout",
     "output_type": "stream",
     "text": [
      "The Total Accuracy for Epoch 3: 85.94%\n",
      "Training Loss Epoch 4:  0.2979\n",
      "Training Accuracy Epoch 4:  85.94%\n"
     ]
    },
    {
     "name": "stderr",
     "output_type": "stream",
     "text": [
      "100%|██████████| 292/292 [00:06<00:00, 48.56it/s]\n"
     ]
    },
    {
     "name": "stdout",
     "output_type": "stream",
     "text": [
      "Validation Loss Epoch 4:  0.4999\n",
      "Validation Accuracy Epoch 4:  77.74%\n"
     ]
    },
    {
     "name": "stderr",
     "output_type": "stream",
     "text": [
      "585it [01:37,  5.98it/s]\n"
     ]
    },
    {
     "name": "stdout",
     "output_type": "stream",
     "text": [
      "The Total Accuracy for Epoch 4: 88.13%\n",
      "Training Loss Epoch 5:  0.2403\n",
      "Training Accuracy Epoch 5:  88.13%\n"
     ]
    },
    {
     "name": "stderr",
     "output_type": "stream",
     "text": [
      "100%|██████████| 292/292 [00:05<00:00, 48.76it/s]\n"
     ]
    },
    {
     "name": "stdout",
     "output_type": "stream",
     "text": [
      "Validation Loss Epoch 5:  0.5902\n",
      "Validation Accuracy Epoch 5:  78.17%\n"
     ]
    },
    {
     "name": "stderr",
     "output_type": "stream",
     "text": [
      "585it [01:37,  5.98it/s]\n"
     ]
    },
    {
     "name": "stdout",
     "output_type": "stream",
     "text": [
      "The Total Accuracy for Epoch 5: 88.19%\n",
      "Training Loss Epoch 6:  0.2218\n",
      "Training Accuracy Epoch 6:  88.19%\n"
     ]
    },
    {
     "name": "stderr",
     "output_type": "stream",
     "text": [
      "100%|██████████| 292/292 [00:06<00:00, 48.54it/s]\n"
     ]
    },
    {
     "name": "stdout",
     "output_type": "stream",
     "text": [
      "Validation Loss Epoch 6:  0.6698\n",
      "Validation Accuracy Epoch 6:  77.91%\n"
     ]
    },
    {
     "name": "stderr",
     "output_type": "stream",
     "text": [
      "585it [01:37,  5.98it/s]\n"
     ]
    },
    {
     "name": "stdout",
     "output_type": "stream",
     "text": [
      "The Total Accuracy for Epoch 6: 89.35%\n",
      "Training Loss Epoch 7:  0.1954\n",
      "Training Accuracy Epoch 7:  89.35%\n"
     ]
    },
    {
     "name": "stderr",
     "output_type": "stream",
     "text": [
      "100%|██████████| 292/292 [00:06<00:00, 48.54it/s]\n"
     ]
    },
    {
     "name": "stdout",
     "output_type": "stream",
     "text": [
      "Validation Loss Epoch 7:  0.5873\n",
      "Validation Accuracy Epoch 7:  79.11%\n"
     ]
    },
    {
     "name": "stderr",
     "output_type": "stream",
     "text": [
      "585it [01:37,  5.98it/s]\n"
     ]
    },
    {
     "name": "stdout",
     "output_type": "stream",
     "text": [
      "The Total Accuracy for Epoch 7: 89.43%\n",
      "Training Loss Epoch 8:  0.1866\n",
      "Training Accuracy Epoch 8:  89.43%\n"
     ]
    },
    {
     "name": "stderr",
     "output_type": "stream",
     "text": [
      "100%|██████████| 292/292 [00:06<00:00, 47.71it/s]\n"
     ]
    },
    {
     "name": "stdout",
     "output_type": "stream",
     "text": [
      "Validation Loss Epoch 8:  0.6246\n",
      "Validation Accuracy Epoch 8:  82.19%\n"
     ]
    },
    {
     "name": "stderr",
     "output_type": "stream",
     "text": [
      "585it [01:37,  5.98it/s]\n"
     ]
    },
    {
     "name": "stdout",
     "output_type": "stream",
     "text": [
      "The Total Accuracy for Epoch 8: 89.84%\n",
      "Training Loss Epoch 9:  0.1754\n",
      "Training Accuracy Epoch 9:  89.84%\n"
     ]
    },
    {
     "name": "stderr",
     "output_type": "stream",
     "text": [
      "100%|██████████| 292/292 [00:06<00:00, 48.57it/s]\n"
     ]
    },
    {
     "name": "stdout",
     "output_type": "stream",
     "text": [
      "Validation Loss Epoch 9:  0.6700\n",
      "Validation Accuracy Epoch 9:  80.57%\n"
     ]
    },
    {
     "name": "stderr",
     "output_type": "stream",
     "text": [
      "585it [01:37,  5.98it/s]\n"
     ]
    },
    {
     "name": "stdout",
     "output_type": "stream",
     "text": [
      "The Total Accuracy for Epoch 9: 90.20%\n",
      "Training Loss Epoch 10:  0.1639\n",
      "Training Accuracy Epoch 10:  90.20%\n"
     ]
    },
    {
     "name": "stderr",
     "output_type": "stream",
     "text": [
      "100%|██████████| 292/292 [00:05<00:00, 48.82it/s]"
     ]
    },
    {
     "name": "stdout",
     "output_type": "stream",
     "text": [
      "Validation Loss Epoch 10:  0.7076\n",
      "Validation Accuracy Epoch 10:  77.48%\n"
     ]
    },
    {
     "name": "stderr",
     "output_type": "stream",
     "text": [
      "\n"
     ]
    }
   ],
   "source": [
    "#Training Loop for DistilRoberta\n",
    "for epoch in range(epochs):\n",
    "    student_train(epoch)\n",
    "    valid(student_model, testing_loader)"
   ]
  },
  {
   "cell_type": "code",
   "execution_count": 41,
   "metadata": {
    "execution": {
     "iopub.execute_input": "2023-07-01T10:25:22.512733Z",
     "iopub.status.busy": "2023-07-01T10:25:22.511778Z",
     "iopub.status.idle": "2023-07-01T10:25:22.521073Z",
     "shell.execute_reply": "2023-07-01T10:25:22.520050Z",
     "shell.execute_reply.started": "2023-07-01T10:25:22.512687Z"
    }
   },
   "outputs": [
    {
     "name": "stdout",
     "output_type": "stream",
     "text": [
      "Running Time of DistillRoBERTa model: 1037.9932277202606 seconds or 17.29988712867101 minutes or 0.28833145214451683 hours\n"
     ]
    }
   ],
   "source": [
    "# Calulcate end time and total runtime of the model in seconds\n",
    "distillRoberta_end_time = time.time()\n",
    "distillRoberta_running_time = distillRoberta_end_time - distillRoberta_start_time\n",
    "print(f\"Running Time of DistillRoBERTa model: {distillRoberta_running_time} seconds or {distillRoberta_running_time / 60} minutes or {distillRoberta_running_time / 3600} hours\")"
   ]
  },
  {
   "cell_type": "code",
   "execution_count": 42,
   "metadata": {
    "execution": {
     "iopub.execute_input": "2023-07-01T10:25:22.523856Z",
     "iopub.status.busy": "2023-07-01T10:25:22.522823Z",
     "iopub.status.idle": "2023-07-01T10:25:22.534886Z",
     "shell.execute_reply": "2023-07-01T10:25:22.533688Z",
     "shell.execute_reply.started": "2023-07-01T10:25:22.523822Z"
    }
   },
   "outputs": [
    {
     "name": "stdout",
     "output_type": "stream",
     "text": [
      "Memory Usage of DistillRoBERTa model: 3420.30859375 MB\n"
     ]
    }
   ],
   "source": [
    "# Calculating memory usage\n",
    "process = psutil.Process()\n",
    "distillRoberta_memory_usage = process.memory_info().rss / 1024 / 1024  # in MB\n",
    "print(f\"Memory Usage of DistillRoBERTa model: {distillRoberta_memory_usage} MB\")"
   ]
  },
  {
   "cell_type": "code",
   "execution_count": 43,
   "metadata": {
    "execution": {
     "iopub.execute_input": "2023-07-01T10:25:22.536919Z",
     "iopub.status.busy": "2023-07-01T10:25:22.536382Z",
     "iopub.status.idle": "2023-07-01T10:25:28.896124Z",
     "shell.execute_reply": "2023-07-01T10:25:28.895070Z",
     "shell.execute_reply.started": "2023-07-01T10:25:22.536887Z"
    }
   },
   "outputs": [
    {
     "name": "stderr",
     "output_type": "stream",
     "text": [
      "292it [00:06, 48.59it/s]\n"
     ]
    },
    {
     "name": "stdout",
     "output_type": "stream",
     "text": [
      "Metrics:\n",
      "Accuracy: 0.77\n",
      "Precision (Weighted): 0.79\n",
      "Precision (Macro): 0.72\n",
      "Recall (Weighted): 0.77\n",
      "Recall (Macro): 0.75\n",
      "F1-score (Weighted): 0.78\n",
      "F1-score (Macro): 0.73\n"
     ]
    },
    {
     "data": {
      "image/png": "[encoded data removed]",
      "text/plain": [
       "<Figure size 800x600 with 2 Axes>"
      ]
     },
     "metadata": {},
     "output_type": "display_data"
    },
    {
     "name": "stdout",
     "output_type": "stream",
     "text": [
      "                Metric     Score\n",
      "0             Accuracy  0.774829\n",
      "1  Precision(weighted)  0.791652\n",
      "2     Precision(macro)  0.723455\n",
      "3     Recall(weighted)  0.774829\n",
      "4        Recall(macro)  0.749803\n",
      "5  F1-Score (Weighted)  0.780933\n",
      "6     F1-Score (Macro)  0.732635\n",
      "\n"
     ]
    }
   ],
   "source": [
    "#Evaluating student model on test data\n",
    "student_predicted_labels, student_true_labels = evaluate(student_model, testing_loader)\n",
    "compute_evaluation_metrics(student_true_labels, student_predicted_labels)"
   ]
  },
  {
   "cell_type": "code",
   "execution_count": 44,
   "metadata": {
    "execution": {
     "iopub.execute_input": "2023-07-01T10:25:28.898720Z",
     "iopub.status.busy": "2023-07-01T10:25:28.897795Z",
     "iopub.status.idle": "2023-07-01T10:25:29.463280Z",
     "shell.execute_reply": "2023-07-01T10:25:29.462393Z",
     "shell.execute_reply.started": "2023-07-01T10:25:28.898681Z"
    }
   },
   "outputs": [
    {
     "data": {
      "image/png": "[encoded data removed]",
      "text/plain": [
       "<Figure size 640x480 with 1 Axes>"
      ]
     },
     "metadata": {},
     "output_type": "display_data"
    },
    {
     "data": {
      "image/png": "[encoded data removed]",
      "text/plain": [
       "<Figure size 640x480 with 1 Axes>"
      ]
     },
     "metadata": {},
     "output_type": "display_data"
    }
   ],
   "source": [
    " # Plot training and validation loss\n",
    "plt.plot(range(1, epochs + 1), train_losses, label='Training Loss')\n",
    "plt.plot(range(1, epochs + 1), valid_losses, label='Validation Loss')\n",
    "plt.xlabel('Epoch')\n",
    "plt.ylabel('Loss')\n",
    "plt.title('DistilRoberta Training Loss vs Validation Loss')\n",
    "plt.legend()\n",
    "plt.show()\n",
    "\n",
    "# Plot training and validation accuracy\n",
    "plt.plot(range(1, epochs + 1), train_accuracies, label='Training Accuracy')\n",
    "plt.plot(range(1, epochs + 1), valid_accuracies, label='Validation Accuracy')\n",
    "plt.xlabel('Epoch')\n",
    "plt.ylabel('Loss')\n",
    "plt.title('DistilRoberta Training Accuracy vs Validation Accuracy')\n",
    "plt.legend()\n",
    "plt.show()"
   ]
  },
  {
   "cell_type": "markdown",
   "metadata": {},
   "source": [
    "# Class Based Evaluation Metrics (DistilRoberta)"
   ]
  },
  {
   "cell_type": "code",
   "execution_count": 45,
   "metadata": {
    "execution": {
     "iopub.execute_input": "2023-07-01T10:25:29.465475Z",
     "iopub.status.busy": "2023-07-01T10:25:29.464865Z",
     "iopub.status.idle": "2023-07-01T10:25:29.519650Z",
     "shell.execute_reply": "2023-07-01T10:25:29.518585Z",
     "shell.execute_reply.started": "2023-07-01T10:25:29.465438Z"
    }
   },
   "outputs": [
    {
     "name": "stdout",
     "output_type": "stream",
     "text": [
      "Metrics for Positive Class:\n",
      "Accuracy: 0.86\n",
      "Precision (Weighted): 1.00\n",
      "Precision (Macro): 0.33\n",
      "Recall (Weighted): 0.86\n",
      "Recall (Macro): 0.29\n",
      "F1-score (Weighted): 0.92\n",
      "F1-score (Macro): 0.31\n",
      "\n",
      "Metrics for Negative Class:\n",
      "Accuracy: 0.62\n",
      "Precision (Weighted): 1.00\n",
      "Precision (Macro): 0.33\n",
      "Recall (Weighted): 0.62\n",
      "Recall (Macro): 0.21\n",
      "F1-score (Weighted): 0.77\n",
      "F1-score (Macro): 0.26\n",
      "\n",
      "Metrics for Neutral Class:\n",
      "Accuracy: 0.77\n",
      "Precision (Weighted): 1.00\n",
      "Precision (Macro): 0.33\n",
      "Recall (Weighted): 0.77\n",
      "Recall (Macro): 0.26\n",
      "F1-score (Weighted): 0.87\n",
      "F1-score (Macro): 0.29\n",
      "\n"
     ]
    }
   ],
   "source": [
    "# Define lists to store the metric values for each class\n",
    "student_accuracy_list = []\n",
    "student_precision_weighted_list = []\n",
    "student_precision_macro_list = []\n",
    "student_recall_weighted_list = []\n",
    "student_recall_macro_list = []\n",
    "student_f1_weighted_list = []\n",
    "student_f1_macro_list = []\n",
    "\n",
    "for class_name in class_names:\n",
    "    # Filter labels for the current class\n",
    "    class_label = class_labels[class_name]\n",
    "    class_indices = [i for i in range(len(student_true_labels)) if student_true_labels[i] == class_name]\n",
    "    true_labels_class = [student_true_labels[i] for i in class_indices]\n",
    "    predicted_labels_class = [student_predicted_labels[i] for i in class_indices]\n",
    "\n",
    "    # Calculate metrics for the current class\n",
    "    accuracy_class = accuracy_score(true_labels_class, predicted_labels_class)\n",
    "    precision_weighted_class = precision_score(true_labels_class, predicted_labels_class, average='weighted')\n",
    "    precision_macro_class = precision_score(true_labels_class, predicted_labels_class, average='macro')\n",
    "    recall_weighted_class = recall_score(true_labels_class, predicted_labels_class, average='weighted')\n",
    "    recall_macro_class = recall_score(true_labels_class, predicted_labels_class, average='macro')\n",
    "    f1_weighted_class = f1_score(true_labels_class, predicted_labels_class, average='weighted')\n",
    "    f1_macro_class = f1_score(true_labels_class, predicted_labels_class, average='macro')\n",
    "    \n",
    "    # Append the metric values to the corresponding lists\n",
    "    student_accuracy_list.append(accuracy_class)\n",
    "    student_precision_weighted_list.append(precision_weighted_class)\n",
    "    student_precision_macro_list.append(precision_macro_class)\n",
    "    student_recall_weighted_list.append(recall_weighted_class)\n",
    "    student_recall_macro_list.append(recall_macro_class)\n",
    "    student_f1_weighted_list.append(f1_weighted_class)\n",
    "    student_f1_macro_list.append(f1_macro_class)\n",
    "\n",
    "    # Print metrics for the current class\n",
    "    print(f\"Metrics for {class_label.capitalize()} Class:\")\n",
    "    print(\"Accuracy:\", format(accuracy_class, \".2f\"))\n",
    "    print(\"Precision (Weighted):\", format(precision_weighted_class, \".2f\"))\n",
    "    print(\"Precision (Macro):\", format(precision_macro_class, \".2f\"))\n",
    "    print(\"Recall (Weighted):\", format(recall_weighted_class, \".2f\"))\n",
    "    print(\"Recall (Macro):\", format(recall_macro_class, \".2f\"))\n",
    "    print(\"F1-score (Weighted):\", format(f1_weighted_class, \".2f\"))\n",
    "    print(\"F1-score (Macro):\", format(f1_macro_class, \".2f\"))\n",
    "    print()"
   ]
  },
  {
   "cell_type": "markdown",
   "metadata": {},
   "source": [
    "#  Plots for class based evaluation metrics (DistilRoberta)"
   ]
  },
  {
   "cell_type": "code",
   "execution_count": 46,
   "metadata": {
    "execution": {
     "iopub.execute_input": "2023-07-01T10:25:29.521726Z",
     "iopub.status.busy": "2023-07-01T10:25:29.521320Z",
     "iopub.status.idle": "2023-07-01T10:25:30.440759Z",
     "shell.execute_reply": "2023-07-01T10:25:30.439893Z",
     "shell.execute_reply.started": "2023-07-01T10:25:29.521688Z"
    }
   },
   "outputs": [
    {
     "data": {
      "image/png": "[encoded data removed]",
      "text/plain": [
       "<Figure size 1400x600 with 7 Axes>"
      ]
     },
     "metadata": {},
     "output_type": "display_data"
    }
   ],
   "source": [
    "# Define the x-axis ticks for the bar plot\n",
    "x_ticks = [class_labels[class_name].capitalize() for class_name in class_names]\n",
    "\n",
    "# Create the bar plot\n",
    "plt.figure(figsize=(14, 6))\n",
    "\n",
    "#Accuracy\n",
    "plt.subplot(2, 4, 1)\n",
    "plt.bar(x_ticks, student_accuracy_list)\n",
    "plt.title('Accuracy')\n",
    "plt.ylabel('Value')\n",
    "\n",
    "# Precision (Weighted)\n",
    "plt.subplot(2, 4, 2)\n",
    "plt.bar(x_ticks, student_precision_weighted_list)\n",
    "plt.title('Precision (Weighted)')\n",
    "plt.ylabel('Value')\n",
    "\n",
    "# Precision (Macro)\n",
    "plt.subplot(2, 4, 3)\n",
    "plt.bar(x_ticks, student_precision_macro_list)\n",
    "plt.title('Precision (Macro)')\n",
    "plt.ylabel('Value')\n",
    "\n",
    "# Recall (Weighted)\n",
    "plt.subplot(2, 4, 4)\n",
    "plt.bar(x_ticks, student_recall_weighted_list)\n",
    "plt.title('Recall (Weighted)')\n",
    "plt.ylabel('Value')\n",
    "\n",
    "# Recall (Weighted)\n",
    "plt.subplot(2, 4, 5)\n",
    "plt.bar(x_ticks, student_recall_macro_list)\n",
    "plt.title('Recall (Macro)')\n",
    "plt.ylabel('Value')\n",
    "\n",
    "# f1-score (Weighted)\n",
    "plt.subplot(2, 4, 6)\n",
    "plt.bar(x_ticks, student_f1_weighted_list)\n",
    "plt.title('F1-score (Weighted)')\n",
    "plt.ylabel('Value')\n",
    "\n",
    "# f1-score (Macro)\n",
    "plt.subplot(2, 4, 7)\n",
    "plt.bar(x_ticks, student_f1_macro_list)\n",
    "plt.title('F1-score (Macro)')\n",
    "plt.ylabel('Value')\n",
    "\n",
    "# Adjust spacing between subplots\n",
    "plt.subplots_adjust(wspace=0.4, hspace=0.6)\n",
    "\n",
    "# Show the plot\n",
    "plt.show()"
   ]
  },
  {
   "cell_type": "markdown",
   "metadata": {},
   "source": [
    "**Roberta's Performance Metrics**\n",
    "* Runtime: 21.91 minutes\n",
    "* Memory usage: 3309.05 MB\n",
    "* Train Accuracy: 90.67%\n",
    "* Test Accuracy: 81.93%\n",
    "\n",
    "**DistilRoberta's Performance Metrics**\n",
    "* Runtime: 17.29 minutes\n",
    "* Memory usage: 3420.30 MB\n",
    "* Train Accuracy: 90.20%\n",
    "* Test Accuracy: 77.48%\n",
    "\n",
    "As we can clearly see that DistilRoberta is faster than Roberta by retaining most of the latter's accuracy"
   ]
  }
 ],
 "metadata": {
  "kernelspec": {
   "display_name": "Python 3 (ipykernel)",
   "language": "python",
   "name": "python3"
  },
  "language_info": {
   "codemirror_mode": {
    "name": "ipython",
    "version": 3
   },
   "file_extension": ".py",
   "mimetype": "text/x-python",
   "name": "python",
   "nbconvert_exporter": "python",
   "pygments_lexer": "ipython3",
   "version": "3.10.9"
  }
 },
 "nbformat": 4,
 "nbformat_minor": 4
}
