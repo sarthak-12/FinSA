{
 "cells": [
  {
   "cell_type": "markdown",
   "metadata": {},
   "source": [
    "# Sentiment Analysis using A Lite BERT (ALBERT) model."
   ]
  },
  {
   "cell_type": "markdown",
   "metadata": {},
   "source": [
    "## Relevant imports"
   ]
  },
  {
   "cell_type": "code",
   "execution_count": 1,
   "metadata": {
    "execution": {
     "iopub.execute_input": "2023-06-30T21:58:58.330240Z",
     "iopub.status.busy": "2023-06-30T21:58:58.329949Z",
     "iopub.status.idle": "2023-06-30T21:59:11.512704Z",
     "shell.execute_reply": "2023-06-30T21:59:11.511749Z",
     "shell.execute_reply.started": "2023-06-30T21:58:58.330212Z"
    }
   },
   "outputs": [],
   "source": [
    "import warnings\n",
    "warnings.filterwarnings('ignore')\n",
    "import pandas as pd\n",
    "import torch\n",
    "import transformers\n",
    "from torch.utils.data import Dataset, DataLoader\n",
    "from transformers import AlbertModel, AlbertTokenizer\n",
    "from tqdm import tqdm\n",
    "from sklearn.metrics import accuracy_score, precision_score, recall_score, f1_score, confusion_matrix\n",
    "import seaborn as sns\n",
    "import matplotlib.pyplot as plt\n",
    "import time\n",
    "import psutil\n"
   ]
  },
  {
   "cell_type": "markdown",
   "metadata": {},
   "source": [
    "## Check if GPU is available"
   ]
  },
  {
   "cell_type": "code",
   "execution_count": 2,
   "metadata": {
    "execution": {
     "iopub.execute_input": "2023-06-30T21:59:11.514771Z",
     "iopub.status.busy": "2023-06-30T21:59:11.514441Z",
     "iopub.status.idle": "2023-06-30T21:59:11.553846Z",
     "shell.execute_reply": "2023-06-30T21:59:11.552928Z",
     "shell.execute_reply.started": "2023-06-30T21:59:11.514739Z"
    }
   },
   "outputs": [],
   "source": [
    "# Use GPU if available\n",
    "device = torch.device('cuda' if torch.cuda.is_available() else 'cpu')\n",
    "# Empty GPU cache\n",
    "torch.cuda.empty_cache()"
   ]
  },
  {
   "cell_type": "markdown",
   "metadata": {},
   "source": [
    "## Data Preprocessing"
   ]
  },
  {
   "cell_type": "code",
   "execution_count": 3,
   "metadata": {
    "execution": {
     "iopub.execute_input": "2023-06-30T21:59:11.555637Z",
     "iopub.status.busy": "2023-06-30T21:59:11.555219Z",
     "iopub.status.idle": "2023-06-30T21:59:11.622860Z",
     "shell.execute_reply": "2023-06-30T21:59:11.621490Z",
     "shell.execute_reply.started": "2023-06-30T21:59:11.555598Z"
    }
   },
   "outputs": [],
   "source": [
    "raw_data = pd.read_csv(\"data.csv\")"
   ]
  },
  {
   "cell_type": "markdown",
   "metadata": {},
   "source": [
    "## Integer encoding of labels"
   ]
  },
  {
   "cell_type": "code",
   "execution_count": 4,
   "metadata": {
    "execution": {
     "iopub.execute_input": "2023-06-30T21:59:11.626229Z",
     "iopub.status.busy": "2023-06-30T21:59:11.625806Z",
     "iopub.status.idle": "2023-06-30T21:59:11.649860Z",
     "shell.execute_reply": "2023-06-30T21:59:11.649054Z",
     "shell.execute_reply.started": "2023-06-30T21:59:11.626194Z"
    }
   },
   "outputs": [
    {
     "data": {
      "text/html": [
       "<div>\n",
       "<style scoped>\n",
       "    .dataframe tbody tr th:only-of-type {\n",
       "        vertical-align: middle;\n",
       "    }\n",
       "\n",
       "    .dataframe tbody tr th {\n",
       "        vertical-align: top;\n",
       "    }\n",
       "\n",
       "    .dataframe thead th {\n",
       "        text-align: right;\n",
       "    }\n",
       "</style>\n",
       "<table border=\"1\" class=\"dataframe\">\n",
       "  <thead>\n",
       "    <tr style=\"text-align: right;\">\n",
       "      <th></th>\n",
       "      <th>Sentence</th>\n",
       "      <th>Sentiment</th>\n",
       "      <th>sentiment_encoded</th>\n",
       "    </tr>\n",
       "  </thead>\n",
       "  <tbody>\n",
       "    <tr>\n",
       "      <th>0</th>\n",
       "      <td>The GeoSolutions technology will leverage Bene...</td>\n",
       "      <td>positive</td>\n",
       "      <td>0</td>\n",
       "    </tr>\n",
       "    <tr>\n",
       "      <th>1</th>\n",
       "      <td>$ESI on lows, down $1.50 to $2.50 BK a real po...</td>\n",
       "      <td>negative</td>\n",
       "      <td>1</td>\n",
       "    </tr>\n",
       "    <tr>\n",
       "      <th>2</th>\n",
       "      <td>For the last quarter of 2010 , Componenta 's n...</td>\n",
       "      <td>positive</td>\n",
       "      <td>0</td>\n",
       "    </tr>\n",
       "    <tr>\n",
       "      <th>3</th>\n",
       "      <td>According to the Finnish-Russian Chamber of Co...</td>\n",
       "      <td>neutral</td>\n",
       "      <td>2</td>\n",
       "    </tr>\n",
       "    <tr>\n",
       "      <th>4</th>\n",
       "      <td>The Swedish buyout firm has sold its remaining...</td>\n",
       "      <td>neutral</td>\n",
       "      <td>2</td>\n",
       "    </tr>\n",
       "  </tbody>\n",
       "</table>\n",
       "</div>"
      ],
      "text/plain": [
       "                                            Sentence Sentiment  \\\n",
       "0  The GeoSolutions technology will leverage Bene...  positive   \n",
       "1  $ESI on lows, down $1.50 to $2.50 BK a real po...  negative   \n",
       "2  For the last quarter of 2010 , Componenta 's n...  positive   \n",
       "3  According to the Finnish-Russian Chamber of Co...   neutral   \n",
       "4  The Swedish buyout firm has sold its remaining...   neutral   \n",
       "\n",
       "   sentiment_encoded  \n",
       "0                  0  \n",
       "1                  1  \n",
       "2                  0  \n",
       "3                  2  \n",
       "4                  2  "
      ]
     },
     "execution_count": 4,
     "metadata": {},
     "output_type": "execute_result"
    }
   ],
   "source": [
    "# Function to encode class labels for ease of processing\n",
    "def integer_encoding(dataframe):\n",
    "    sentiment_mapping = {'positive': 0, 'negative': 1, 'neutral': 2}\n",
    "    dataframe['sentiment_encoded'] = dataframe['Sentiment'].map(sentiment_mapping)\n",
    "    return dataframe\n",
    "\n",
    "data = integer_encoding(raw_data)\n",
    "data.head()"
   ]
  },
  {
   "cell_type": "markdown",
   "metadata": {},
   "source": [
    "## Training parameters and tokenization of data"
   ]
  },
  {
   "cell_type": "code",
   "execution_count": 5,
   "metadata": {
    "execution": {
     "iopub.execute_input": "2023-06-30T21:59:11.653238Z",
     "iopub.status.busy": "2023-06-30T21:59:11.652980Z",
     "iopub.status.idle": "2023-06-30T21:59:12.506735Z",
     "shell.execute_reply": "2023-06-30T21:59:12.505907Z",
     "shell.execute_reply.started": "2023-06-30T21:59:11.653216Z"
    }
   },
   "outputs": [
    {
     "data": {
      "application/vnd.jupyter.widget-view+json": {
       "model_id": "ec80c689db5b470fb39b65d026271eee",
       "version_major": 2,
       "version_minor": 0
      },
      "text/plain": [
       "Downloading (…)ve/main/spiece.model:   0%|          | 0.00/760k [00:00<?, ?B/s]"
      ]
     },
     "metadata": {},
     "output_type": "display_data"
    },
    {
     "data": {
      "application/vnd.jupyter.widget-view+json": {
       "model_id": "24c76b2cff3d496d94d8b0031022bdd7",
       "version_major": 2,
       "version_minor": 0
      },
      "text/plain": [
       "Downloading (…)lve/main/config.json:   0%|          | 0.00/684 [00:00<?, ?B/s]"
      ]
     },
     "metadata": {},
     "output_type": "display_data"
    }
   ],
   "source": [
    "# Define the parameters for training\n",
    "max_len = 256\n",
    "train_batch_size = 8\n",
    "val_batch_size = 4\n",
    "learning_rate = 1e-05\n",
    "\n",
    "# Tokenization of input data\n",
    "tokenizer = AlbertTokenizer.from_pretrained('albert-base-v2', truncation=True, do_lower_case=True)"
   ]
  },
  {
   "cell_type": "markdown",
   "metadata": {},
   "source": [
    "## Defining the Sentiment Dataset class\n",
    "This class is designed to preprocess and encode the input sentences and corresponding sentiment labels into tensors that can be fed into the deep learning model for training and evaluation."
   ]
  },
  {
   "cell_type": "code",
   "execution_count": 6,
   "metadata": {
    "execution": {
     "iopub.execute_input": "2023-06-30T21:59:12.508605Z",
     "iopub.status.busy": "2023-06-30T21:59:12.508248Z",
     "iopub.status.idle": "2023-06-30T21:59:12.526433Z",
     "shell.execute_reply": "2023-06-30T21:59:12.525436Z",
     "shell.execute_reply.started": "2023-06-30T21:59:12.508573Z"
    }
   },
   "outputs": [],
   "source": [
    "class SentimentDataset(Dataset):\n",
    "    def __init__(self, data, tokenizer, max_len):\n",
    "        super().__init__()\n",
    "        self.tokenizer = tokenizer\n",
    "        self.data = data\n",
    "        self.sentences = data.Sentence\n",
    "        self.sentiments = self.data.sentiment_encoded\n",
    "        self.max_len = max_len\n",
    "\n",
    "    def __len__(self):\n",
    "        return len(self.sentences)\n",
    "\n",
    "    def __getitem__(self, index):\n",
    "        sentences = str(self.sentences[index])\n",
    "        sentences = \" \".join(sentences.split())\n",
    "\n",
    "        inputs = self.tokenizer.encode_plus(\n",
    "            sentences,\n",
    "            None,\n",
    "            add_special_tokens=True,\n",
    "            max_length=self.max_len,\n",
    "            padding=\"max_length\",\n",
    "            return_token_type_ids=True\n",
    "        )\n",
    "        ids = inputs['input_ids']\n",
    "        mask = inputs['attention_mask']\n",
    "        token_type_ids = inputs['token_type_ids']\n",
    "\n",
    "        return {\n",
    "            'ids': torch.tensor(ids, dtype=torch.long),\n",
    "            'mask': torch.tensor(mask, dtype=torch.long),\n",
    "            'token_type_ids': torch.tensor(token_type_ids, dtype=torch.long),\n",
    "            'sentiments': torch.tensor(self.sentiments[index], dtype=torch.long)\n",
    "        }\n",
    "\n",
    "# Defining the train/test split of 80/20\n",
    "train_size = 0.8\n",
    "train_data = raw_data.sample(frac=train_size, random_state=10)\n",
    "test_data = raw_data.drop(train_data.index).reset_index(drop=True)\n",
    "train_data = train_data.reset_index(drop=True)\n",
    "\n",
    "# Lists to store training and validation loss values\n",
    "train_losses = []\n",
    "valid_losses = []\n",
    "train_accuracies = []\n",
    "valid_accuracies = []\n",
    "\n",
    "training_set = SentimentDataset(train_data, tokenizer, max_len)\n",
    "testing_set = SentimentDataset(test_data, tokenizer, max_len)\n",
    "\n",
    "train_params = {\n",
    "    'batch_size': train_batch_size,\n",
    "    'shuffle': True,\n",
    "    'num_workers': 0\n",
    "}\n",
    "\n",
    "test_params = {\n",
    "    'batch_size': val_batch_size,\n",
    "    'shuffle': True,\n",
    "    'num_workers': 0\n",
    "}\n",
    "\n",
    "# Dataloaders for training and testing data\n",
    "training_loader = DataLoader(training_set, **train_params)\n",
    "testing_loader = DataLoader(testing_set, **test_params)"
   ]
  },
  {
   "cell_type": "markdown",
   "metadata": {},
   "source": [
    "## Defining the ALBERT class that contains the training and validation loops\n",
    "A dropout rate of **0.5** was introduced to avoid overfitting during training."
   ]
  },
  {
   "cell_type": "code",
   "execution_count": 7,
   "metadata": {
    "execution": {
     "iopub.execute_input": "2023-06-30T21:59:12.529037Z",
     "iopub.status.busy": "2023-06-30T21:59:12.528610Z",
     "iopub.status.idle": "2023-06-30T21:59:17.744692Z",
     "shell.execute_reply": "2023-06-30T21:59:17.743365Z",
     "shell.execute_reply.started": "2023-06-30T21:59:12.528928Z"
    }
   },
   "outputs": [
    {
     "data": {
      "application/vnd.jupyter.widget-view+json": {
       "model_id": "1dbf5cc75901480c85cab95d5c37c3da",
       "version_major": 2,
       "version_minor": 0
      },
      "text/plain": [
       "Downloading model.safetensors:   0%|          | 0.00/47.4M [00:00<?, ?B/s]"
      ]
     },
     "metadata": {},
     "output_type": "display_data"
    },
    {
     "name": "stderr",
     "output_type": "stream",
     "text": [
      "Some weights of the model checkpoint at albert-base-v2 were not used when initializing AlbertModel: ['predictions.LayerNorm.weight', 'predictions.dense.bias', 'predictions.dense.weight', 'predictions.LayerNorm.bias', 'predictions.decoder.bias', 'predictions.bias']\n",
      "- This IS expected if you are initializing AlbertModel from the checkpoint of a model trained on another task or with another architecture (e.g. initializing a BertForSequenceClassification model from a BertForPreTraining model).\n",
      "- This IS NOT expected if you are initializing AlbertModel from the checkpoint of a model that you expect to be exactly identical (initializing a BertForSequenceClassification model from a BertForSequenceClassification model).\n"
     ]
    }
   ],
   "source": [
    "class AlbertClass(torch.nn.Module):\n",
    "    def __init__(self):\n",
    "        super(AlbertClass, self).__init__()\n",
    "        self.layer = AlbertModel.from_pretrained(\"albert-base-v2\")\n",
    "        self.pre_classifier = torch.nn.Linear(768, 768)\n",
    "        self.dropout = torch.nn.Dropout(0.5)  # Increase dropout to 0.5\n",
    "        self.classifier = torch.nn.Linear(768, 3)  # Update the output size to 3 for 3 classes\n",
    "\n",
    "    def forward(self, input_ids, attention_mask, token_type_ids):\n",
    "        output_layer = self.layer(input_ids=input_ids, attention_mask=attention_mask, token_type_ids=token_type_ids)\n",
    "        pooler = output_layer.pooler_output\n",
    "        pooler = self.pre_classifier(pooler)\n",
    "        pooler = torch.nn.ReLU()(pooler)\n",
    "        pooler = self.dropout(pooler)\n",
    "        output = self.classifier(pooler)\n",
    "        return output\n",
    "\n",
    "model = AlbertClass().to(device)\n",
    "\n",
    "loss_function = torch.nn.CrossEntropyLoss()\n",
    "optimizer = torch.optim.AdamW(model.parameters(), lr=learning_rate)  # Use AdamW optimizer\n",
    "\n",
    "def calculate_accuracy(preds, sentiments):\n",
    "    correct_classifications = (preds == sentiments).sum().item()\n",
    "    return correct_classifications\n",
    "\n",
    "# Training loop\n",
    "def train(epoch):\n",
    "    model.train()\n",
    "    training_loss = 0\n",
    "    correct_classifications = 0\n",
    "    nb_tr_steps = 0\n",
    "    nb_tr_examples = 0\n",
    "\n",
    "    for batch in tqdm(training_loader):\n",
    "        ids = batch['ids'].to(device)\n",
    "        mask = batch['mask'].to(device)\n",
    "        token_type_ids = batch['token_type_ids'].to(device)\n",
    "        sentiments = batch['sentiments'].to(device)\n",
    "\n",
    "        optimizer.zero_grad()\n",
    "        outputs = model(ids, mask, token_type_ids)\n",
    "        loss = loss_function(outputs, sentiments)\n",
    "        loss.backward()\n",
    "        optimizer.step()\n",
    "\n",
    "        training_loss += loss.item()\n",
    "        _, predicted_labels = torch.max(outputs, 1)\n",
    "        correct_classifications += calculate_accuracy(predicted_labels, sentiments)\n",
    "\n",
    "        nb_tr_steps += 1\n",
    "        nb_tr_examples += sentiments.size(0)\n",
    "\n",
    "    epoch_loss = training_loss / nb_tr_steps\n",
    "    # Append training loss to the list\n",
    "    train_losses.append(epoch_loss)\n",
    "    epoch_accuracy = (correct_classifications * 100) / nb_tr_examples\n",
    "    train_accuracies.append(epoch_accuracy)\n",
    "\n",
    "    print(f'The Total Accuracy for Epoch {epoch}: {epoch_accuracy:.2f}%')\n",
    "    print(f\"Training Loss Epoch: {epoch_loss:.4f}\")\n",
    "    print(f\"Training Accuracy Epoch: {epoch_accuracy:.2f}%\")\n",
    "    \n",
    "# Validation loop\n",
    "def valid(model, testing_loader):\n",
    "    model.eval()\n",
    "    correct_classifications = 0\n",
    "    training_loss = 0\n",
    "    nb_tr_steps = 0\n",
    "    nb_tr_examples = 0\n",
    "\n",
    "    with torch.no_grad():\n",
    "        for batch in tqdm(testing_loader):\n",
    "            ids = batch['ids'].to(device)\n",
    "            mask = batch['mask'].to(device)\n",
    "            token_type_ids = batch['token_type_ids'].to(device)\n",
    "            sentiments = batch['sentiments'].to(device)\n",
    "\n",
    "            outputs = model(ids, mask, token_type_ids)\n",
    "            loss = loss_function(outputs, sentiments)\n",
    "\n",
    "            training_loss += loss.item()\n",
    "            _, predicted_labels = torch.max(outputs, 1)\n",
    "            correct_classifications += calculate_accuracy(predicted_labels, sentiments)\n",
    "\n",
    "            nb_tr_steps += 1\n",
    "            nb_tr_examples += sentiments.size(0)\n",
    "\n",
    "    epoch_loss = training_loss / nb_tr_steps\n",
    "    # Append validation loss to the list\n",
    "    valid_losses.append(epoch_loss)\n",
    "    epoch_accuracy = (correct_classifications * 100) / nb_tr_examples\n",
    "    valid_accuracies.append(epoch_accuracy)\n",
    "\n",
    "    print(f\"Validation Loss Epoch: {epoch_loss:.4f}\")\n",
    "    print(f\"Validation Accuracy Epoch: {epoch_accuracy:.2f}%\")\n"
   ]
  },
  {
   "cell_type": "markdown",
   "metadata": {},
   "source": [
    "## Evaluation of the model on input data\n",
    "* The model was trained for 10 epochs on a **P100** GPU available remotely via Kaggle's servers.\n",
    "* Total time for execution and memory required were also calculated."
   ]
  },
  {
   "cell_type": "code",
   "execution_count": 8,
   "metadata": {
    "execution": {
     "iopub.execute_input": "2023-06-30T21:59:17.746633Z",
     "iopub.status.busy": "2023-06-30T21:59:17.746272Z",
     "iopub.status.idle": "2023-06-30T22:22:37.770659Z",
     "shell.execute_reply": "2023-06-30T22:22:37.769709Z",
     "shell.execute_reply.started": "2023-06-30T21:59:17.746600Z"
    }
   },
   "outputs": [
    {
     "name": "stderr",
     "output_type": "stream",
     "text": [
      "100%|██████████| 585/585 [02:08<00:00,  4.57it/s]\n"
     ]
    },
    {
     "name": "stdout",
     "output_type": "stream",
     "text": [
      "The Total Accuracy for Epoch 0: 63.86%\n",
      "Training Loss Epoch: 0.8092\n",
      "Training Accuracy Epoch: 63.86%\n"
     ]
    },
    {
     "name": "stderr",
     "output_type": "stream",
     "text": [
      "100%|██████████| 292/292 [00:12<00:00, 23.64it/s]\n"
     ]
    },
    {
     "name": "stdout",
     "output_type": "stream",
     "text": [
      "Validation Loss Epoch: 0.5410\n",
      "Validation Accuracy Epoch: 79.11%\n"
     ]
    },
    {
     "name": "stderr",
     "output_type": "stream",
     "text": [
      "100%|██████████| 585/585 [02:06<00:00,  4.63it/s]\n"
     ]
    },
    {
     "name": "stdout",
     "output_type": "stream",
     "text": [
      "The Total Accuracy for Epoch 1: 79.16%\n",
      "Training Loss Epoch: 0.4849\n",
      "Training Accuracy Epoch: 79.16%\n"
     ]
    },
    {
     "name": "stderr",
     "output_type": "stream",
     "text": [
      "100%|██████████| 292/292 [00:12<00:00, 23.70it/s]\n"
     ]
    },
    {
     "name": "stdout",
     "output_type": "stream",
     "text": [
      "Validation Loss Epoch: 0.4553\n",
      "Validation Accuracy Epoch: 79.54%\n"
     ]
    },
    {
     "name": "stderr",
     "output_type": "stream",
     "text": [
      "100%|██████████| 585/585 [02:06<00:00,  4.63it/s]\n"
     ]
    },
    {
     "name": "stdout",
     "output_type": "stream",
     "text": [
      "The Total Accuracy for Epoch 2: 83.31%\n",
      "Training Loss Epoch: 0.3768\n",
      "Training Accuracy Epoch: 83.31%\n"
     ]
    },
    {
     "name": "stderr",
     "output_type": "stream",
     "text": [
      "100%|██████████| 292/292 [00:12<00:00, 23.73it/s]\n"
     ]
    },
    {
     "name": "stdout",
     "output_type": "stream",
     "text": [
      "Validation Loss Epoch: 0.5070\n",
      "Validation Accuracy Epoch: 79.37%\n"
     ]
    },
    {
     "name": "stderr",
     "output_type": "stream",
     "text": [
      "100%|██████████| 585/585 [02:06<00:00,  4.63it/s]\n"
     ]
    },
    {
     "name": "stdout",
     "output_type": "stream",
     "text": [
      "The Total Accuracy for Epoch 3: 85.82%\n",
      "Training Loss Epoch: 0.2991\n",
      "Training Accuracy Epoch: 85.82%\n"
     ]
    },
    {
     "name": "stderr",
     "output_type": "stream",
     "text": [
      "100%|██████████| 292/292 [00:12<00:00, 23.64it/s]\n"
     ]
    },
    {
     "name": "stdout",
     "output_type": "stream",
     "text": [
      "Validation Loss Epoch: 0.4667\n",
      "Validation Accuracy Epoch: 78.94%\n"
     ]
    },
    {
     "name": "stderr",
     "output_type": "stream",
     "text": [
      "100%|██████████| 585/585 [02:06<00:00,  4.63it/s]\n"
     ]
    },
    {
     "name": "stdout",
     "output_type": "stream",
     "text": [
      "The Total Accuracy for Epoch 4: 86.61%\n",
      "Training Loss Epoch: 0.2579\n",
      "Training Accuracy Epoch: 86.61%\n"
     ]
    },
    {
     "name": "stderr",
     "output_type": "stream",
     "text": [
      "100%|██████████| 292/292 [00:12<00:00, 23.74it/s]\n"
     ]
    },
    {
     "name": "stdout",
     "output_type": "stream",
     "text": [
      "Validation Loss Epoch: 0.4955\n",
      "Validation Accuracy Epoch: 81.34%\n"
     ]
    },
    {
     "name": "stderr",
     "output_type": "stream",
     "text": [
      "100%|██████████| 585/585 [02:06<00:00,  4.63it/s]\n"
     ]
    },
    {
     "name": "stdout",
     "output_type": "stream",
     "text": [
      "The Total Accuracy for Epoch 5: 87.87%\n",
      "Training Loss Epoch: 0.2341\n",
      "Training Accuracy Epoch: 87.87%\n"
     ]
    },
    {
     "name": "stderr",
     "output_type": "stream",
     "text": [
      "100%|██████████| 292/292 [00:12<00:00, 23.77it/s]\n"
     ]
    },
    {
     "name": "stdout",
     "output_type": "stream",
     "text": [
      "Validation Loss Epoch: 0.5692\n",
      "Validation Accuracy Epoch: 76.97%\n"
     ]
    },
    {
     "name": "stderr",
     "output_type": "stream",
     "text": [
      "100%|██████████| 585/585 [02:06<00:00,  4.63it/s]\n"
     ]
    },
    {
     "name": "stdout",
     "output_type": "stream",
     "text": [
      "The Total Accuracy for Epoch 6: 88.87%\n",
      "Training Loss Epoch: 0.2134\n",
      "Training Accuracy Epoch: 88.87%\n"
     ]
    },
    {
     "name": "stderr",
     "output_type": "stream",
     "text": [
      "100%|██████████| 292/292 [00:12<00:00, 23.63it/s]\n"
     ]
    },
    {
     "name": "stdout",
     "output_type": "stream",
     "text": [
      "Validation Loss Epoch: 0.5751\n",
      "Validation Accuracy Epoch: 77.65%\n"
     ]
    },
    {
     "name": "stderr",
     "output_type": "stream",
     "text": [
      "100%|██████████| 585/585 [02:06<00:00,  4.63it/s]\n"
     ]
    },
    {
     "name": "stdout",
     "output_type": "stream",
     "text": [
      "The Total Accuracy for Epoch 7: 89.52%\n",
      "Training Loss Epoch: 0.1911\n",
      "Training Accuracy Epoch: 89.52%\n"
     ]
    },
    {
     "name": "stderr",
     "output_type": "stream",
     "text": [
      "100%|██████████| 292/292 [00:12<00:00, 23.76it/s]\n"
     ]
    },
    {
     "name": "stdout",
     "output_type": "stream",
     "text": [
      "Validation Loss Epoch: 0.6061\n",
      "Validation Accuracy Epoch: 80.82%\n"
     ]
    },
    {
     "name": "stderr",
     "output_type": "stream",
     "text": [
      "100%|██████████| 585/585 [02:06<00:00,  4.63it/s]\n"
     ]
    },
    {
     "name": "stdout",
     "output_type": "stream",
     "text": [
      "The Total Accuracy for Epoch 8: 89.54%\n",
      "Training Loss Epoch: 0.1848\n",
      "Training Accuracy Epoch: 89.54%\n"
     ]
    },
    {
     "name": "stderr",
     "output_type": "stream",
     "text": [
      "100%|██████████| 292/292 [00:12<00:00, 23.77it/s]\n"
     ]
    },
    {
     "name": "stdout",
     "output_type": "stream",
     "text": [
      "Validation Loss Epoch: 0.6249\n",
      "Validation Accuracy Epoch: 77.40%\n"
     ]
    },
    {
     "name": "stderr",
     "output_type": "stream",
     "text": [
      "100%|██████████| 585/585 [02:06<00:00,  4.63it/s]\n"
     ]
    },
    {
     "name": "stdout",
     "output_type": "stream",
     "text": [
      "The Total Accuracy for Epoch 9: 90.48%\n",
      "Training Loss Epoch: 0.1724\n",
      "Training Accuracy Epoch: 90.48%\n"
     ]
    },
    {
     "name": "stderr",
     "output_type": "stream",
     "text": [
      "100%|██████████| 292/292 [00:12<00:00, 23.70it/s]\n"
     ]
    },
    {
     "name": "stdout",
     "output_type": "stream",
     "text": [
      "Validation Loss Epoch: 0.6009\n",
      "Validation Accuracy Epoch: 80.48%\n",
      "Running Time of ALBERT model: 1387.95 seconds or 23.13 minutes or 0.39 hours\n",
      "Memory Usage of ALBERT model:  3134.80 MB\n"
     ]
    }
   ],
   "source": [
    "# Evaluate function\n",
    "def evaluate(model, data_loader):\n",
    "    model.eval()\n",
    "    predicted_labels = []\n",
    "    true_labels = []\n",
    "\n",
    "    with torch.no_grad():\n",
    "        for batch in data_loader:\n",
    "            ids = batch['ids'].to(device)\n",
    "            mask = batch['mask'].to(device)\n",
    "            token_type_ids = batch['token_type_ids'].to(device)\n",
    "            sentiments = batch['sentiments'].to(device)\n",
    "\n",
    "            outputs = model(ids, mask, token_type_ids)\n",
    "            _, predicted_batch_labels = torch.max(outputs, 1)\n",
    "\n",
    "            predicted_labels.extend(predicted_batch_labels.cpu().numpy())\n",
    "            true_labels.extend(sentiments.cpu().numpy())\n",
    "\n",
    "    return predicted_labels, true_labels\n",
    "\n",
    "start_time = time.time()\n",
    "epochs = 10\n",
    "for epoch in range(epochs):\n",
    "    train(epoch)\n",
    "    valid(model, testing_loader)\n",
    "end_time = time.time()\n",
    "running_time = end_time - start_time\n",
    "print(f\"Running Time of ALBERT model: {running_time:.2f} seconds or {running_time / 60:.2f} minutes or {running_time / 3600:.2f} hours\")\n",
    "process = psutil.Process()\n",
    "memory_usage = process.memory_info().rss / 1024 / 1024  # in MB\n",
    "print(f\"Memory Usage of ALBERT model: {memory_usage: .2f} MB\")\n",
    "\n",
    "# Evaluate on test data\n",
    "predicted_labels, true_labels = evaluate(model, testing_loader)"
   ]
  },
  {
   "cell_type": "markdown",
   "metadata": {},
   "source": [
    "## Plotting accuracy and loss curves"
   ]
  },
  {
   "cell_type": "code",
   "execution_count": 9,
   "metadata": {
    "execution": {
     "iopub.execute_input": "2023-06-30T22:22:37.772561Z",
     "iopub.status.busy": "2023-06-30T22:22:37.772202Z",
     "iopub.status.idle": "2023-06-30T22:22:38.344733Z",
     "shell.execute_reply": "2023-06-30T22:22:38.343765Z",
     "shell.execute_reply.started": "2023-06-30T22:22:37.772527Z"
    }
   },
   "outputs": [
    {
     "data": {
      "image/png": "[encoded data removed]",
      "text/plain": [
       "<Figure size 640x480 with 1 Axes>"
      ]
     },
     "metadata": {},
     "output_type": "display_data"
    },
    {
     "data": {
      "image/png": "[encoded data removed]",
      "text/plain": [
       "<Figure size 640x480 with 1 Axes>"
      ]
     },
     "metadata": {},
     "output_type": "display_data"
    }
   ],
   "source": [
    "# Plot training and validation loss\n",
    "plt.plot(range(1, epochs + 1), train_losses, label='Training Loss')\n",
    "plt.plot(range(1, epochs + 1), valid_losses, label='Validation Loss')\n",
    "plt.xlabel('Epoch')\n",
    "plt.ylabel('Loss')\n",
    "plt.title('Training Loss vs Validation Loss')\n",
    "plt.legend()\n",
    "plt.show()\n",
    "\n",
    "# Plot training and validation accuracy\n",
    "plt.plot(range(1, epochs + 1), train_accuracies, label='Training Accuracy')\n",
    "plt.plot(range(1, epochs + 1), valid_accuracies, label='Validation Accuracy')\n",
    "plt.xlabel('Epoch')\n",
    "plt.ylabel('Loss')\n",
    "plt.title('Training Accuracy vs Validation Accuracy')\n",
    "plt.legend()\n",
    "plt.show()"
   ]
  },
  {
   "cell_type": "markdown",
   "metadata": {},
   "source": [
    "## Evaluation metrics"
   ]
  },
  {
   "cell_type": "code",
   "execution_count": 10,
   "metadata": {
    "_kg_hide-output": true,
    "execution": {
     "iopub.execute_input": "2023-06-30T22:22:38.348039Z",
     "iopub.status.busy": "2023-06-30T22:22:38.347701Z",
     "iopub.status.idle": "2023-06-30T22:22:38.671597Z",
     "shell.execute_reply": "2023-06-30T22:22:38.670611Z",
     "shell.execute_reply.started": "2023-06-30T22:22:38.348013Z"
    }
   },
   "outputs": [
    {
     "name": "stdout",
     "output_type": "stream",
     "text": [
      "Metrics:\n",
      "Accuracy: 0.80\n",
      "Precision (Weighted): 0.80\n",
      "Precision (Macro): 0.77\n",
      "Recall (Weighted): 0.80\n",
      "Recall (Macro): 0.70\n",
      "F1-score (Weighted): 0.79\n",
      "F1-score (Macro): 0.72\n"
     ]
    },
    {
     "data": {
      "image/png": "[encoded data removed]",
      "text/plain": [
       "<Figure size 800x600 with 2 Axes>"
      ]
     },
     "metadata": {},
     "output_type": "display_data"
    },
    {
     "name": "stdout",
     "output_type": "stream",
     "text": [
      "                Metric     Score\n",
      "0             Accuracy  0.804795\n",
      "1  Precision(weighted)  0.795361\n",
      "2     Precision(macro)  0.768102\n",
      "3     Recall(weighted)  0.804795\n",
      "4        Recall(macro)  0.696061\n",
      "5  F1-Score (Weighted)  0.791592\n",
      "6     F1-Score (Macro)  0.715842\n",
      "\n"
     ]
    }
   ],
   "source": [
    "# Calculate metrics\n",
    "class_names = ['negative', 'neutral', 'positive']\n",
    "accuracy = accuracy_score(true_labels, predicted_labels)\n",
    "precision_weighted = precision_score(true_labels, predicted_labels, average='weighted')\n",
    "precision_macro = precision_score(true_labels, predicted_labels, average='macro')\n",
    "recall_weighted = recall_score(true_labels, predicted_labels, average='weighted')\n",
    "recall_macro = recall_score(true_labels, predicted_labels, average='macro')\n",
    "f1_weighted = f1_score(true_labels, predicted_labels, average='weighted')\n",
    "f1_macro = f1_score(true_labels, predicted_labels, average='macro')\n",
    "\n",
    "# Print metrics\n",
    "print(\"Metrics:\")\n",
    "print(\"Accuracy:\", format(accuracy, \".2f\"))\n",
    "print(\"Precision (Weighted):\", format(precision_weighted, \".2f\"))\n",
    "print(\"Precision (Macro):\", format(precision_macro, \".2f\"))\n",
    "print(\"Recall (Weighted):\", format(recall_weighted, \".2f\"))\n",
    "print(\"Recall (Macro):\", format(recall_macro, \".2f\"))\n",
    "print(\"F1-score (Weighted):\", format(f1_weighted, \".2f\"))\n",
    "print(\"F1-score (Macro):\", format(f1_macro, \".2f\"))\n",
    "\n",
    "# Create confusion matrix\n",
    "cm = confusion_matrix(true_labels, predicted_labels)\n",
    "labels = ['positive', 'negative', 'neutral']\n",
    "confusion_matrix_df = pd.DataFrame(cm, index=labels, columns=labels)\n",
    "\n",
    "# Plot confusion matrix\n",
    "plt.figure(figsize=(8, 6))\n",
    "sns.heatmap(confusion_matrix_df, annot=True, fmt='d', cmap='Blues')\n",
    "plt.title('Confusion Matrix')\n",
    "plt.xlabel('Predicted Label')\n",
    "plt.ylabel('True Label')\n",
    "plt.show()\n",
    "\n",
    "# Create metrics table\n",
    "metrics_df = pd.DataFrame({'Metric': ['Accuracy', 'Precision(weighted)', 'Precision(macro)', 'Recall(weighted)' , 'Recall(macro)', 'F1-Score (Weighted)', 'F1-Score (Macro)'],\n",
    "                           'Score': [accuracy, precision_weighted,precision_macro,recall_weighted,recall_macro,f1_weighted, f1_macro]})\n",
    "\n",
    "print(metrics_df)\n",
    "print()"
   ]
  },
  {
   "cell_type": "markdown",
   "metadata": {},
   "source": [
    "## Class based evaluation metrics"
   ]
  },
  {
   "cell_type": "code",
   "execution_count": 11,
   "metadata": {
    "execution": {
     "iopub.execute_input": "2023-06-30T22:22:38.673983Z",
     "iopub.status.busy": "2023-06-30T22:22:38.673239Z",
     "iopub.status.idle": "2023-06-30T22:22:38.723167Z",
     "shell.execute_reply": "2023-06-30T22:22:38.722243Z",
     "shell.execute_reply.started": "2023-06-30T22:22:38.673945Z"
    }
   },
   "outputs": [
    {
     "name": "stdout",
     "output_type": "stream",
     "text": [
      "Metrics for Positive Class:\n",
      "Accuracy: 0.81\n",
      "Precision (Weighted): 1.00\n",
      "Precision (Macro): 0.33\n",
      "Recall (Weighted): 0.81\n",
      "Recall (Macro): 0.27\n",
      "F1-score (Weighted): 0.90\n",
      "F1-score (Macro): 0.30\n",
      "\n",
      "Metrics for Negative Class:\n",
      "Accuracy: 0.36\n",
      "Precision (Weighted): 1.00\n",
      "Precision (Macro): 0.33\n",
      "Recall (Weighted): 0.36\n",
      "Recall (Macro): 0.12\n",
      "F1-score (Weighted): 0.53\n",
      "F1-score (Macro): 0.18\n",
      "\n",
      "Metrics for Neutral Class:\n",
      "Accuracy: 0.92\n",
      "Precision (Weighted): 1.00\n",
      "Precision (Macro): 0.33\n",
      "Recall (Weighted): 0.92\n",
      "Recall (Macro): 0.31\n",
      "F1-score (Weighted): 0.96\n",
      "F1-score (Macro): 0.32\n",
      "\n"
     ]
    }
   ],
   "source": [
    "class_names = [0, 1, 2]\n",
    "class_labels = {0: 'positive', 1: 'negative', 2: 'neutral'}\n",
    "\n",
    "# Define lists to store the metric values for each class\n",
    "accuracy_list = []\n",
    "precision_weighted_list = []\n",
    "precision_macro_list = []\n",
    "recall_weighted_list = []\n",
    "recall_macro_list = []\n",
    "f1_weighted_list = []\n",
    "f1_macro_list = []\n",
    "\n",
    "for class_name in class_names:\n",
    "    # Filter labels for the current class\n",
    "    class_label = class_labels[class_name]\n",
    "    class_indices = [i for i in range(len(true_labels)) if true_labels[i] == class_name]\n",
    "    true_labels_class = [true_labels[i] for i in class_indices]\n",
    "    predicted_labels_class = [predicted_labels[i] for i in class_indices]\n",
    "\n",
    "    # Calculate metrics for the current class\n",
    "    accuracy_class = accuracy_score(true_labels_class, predicted_labels_class)\n",
    "    precision_weighted_class = precision_score(true_labels_class, predicted_labels_class, average='weighted')\n",
    "    precision_macro_class = precision_score(true_labels_class, predicted_labels_class, average='macro')\n",
    "    recall_weighted_class = recall_score(true_labels_class, predicted_labels_class, average='weighted')\n",
    "    recall_macro_class = recall_score(true_labels_class, predicted_labels_class, average='macro')\n",
    "    f1_weighted_class = f1_score(true_labels_class, predicted_labels_class, average='weighted')\n",
    "    f1_macro_class = f1_score(true_labels_class, predicted_labels_class, average='macro')\n",
    "    \n",
    "    # Append the metric values to the corresponding lists\n",
    "    accuracy_list.append(accuracy_class)\n",
    "    precision_weighted_list.append(precision_weighted_class)\n",
    "    precision_macro_list.append(precision_macro_class)\n",
    "    recall_weighted_list.append(recall_weighted_class)\n",
    "    recall_macro_list.append(recall_macro_class)\n",
    "    f1_weighted_list.append(f1_weighted_class)\n",
    "    f1_macro_list.append(f1_macro_class)\n",
    "\n",
    "    # Print metrics for the current class\n",
    "    print(f\"Metrics for {class_label.capitalize()} Class:\")\n",
    "    print(\"Accuracy:\", format(accuracy_class, \".2f\"))\n",
    "    print(\"Precision (Weighted):\", format(precision_weighted_class, \".2f\"))\n",
    "    print(\"Precision (Macro):\", format(precision_macro_class, \".2f\"))\n",
    "    print(\"Recall (Weighted):\", format(recall_weighted_class, \".2f\"))\n",
    "    print(\"Recall (Macro):\", format(recall_macro_class, \".2f\"))\n",
    "    print(\"F1-score (Weighted):\", format(f1_weighted_class, \".2f\"))\n",
    "    print(\"F1-score (Macro):\", format(f1_macro_class, \".2f\"))\n",
    "    print()"
   ]
  },
  {
   "cell_type": "markdown",
   "metadata": {},
   "source": [
    "## Plots for class based evaluation metrics"
   ]
  },
  {
   "cell_type": "code",
   "execution_count": 12,
   "metadata": {
    "execution": {
     "iopub.execute_input": "2023-06-30T22:22:38.724767Z",
     "iopub.status.busy": "2023-06-30T22:22:38.724364Z",
     "iopub.status.idle": "2023-06-30T22:22:39.637622Z",
     "shell.execute_reply": "2023-06-30T22:22:39.636739Z",
     "shell.execute_reply.started": "2023-06-30T22:22:38.724733Z"
    }
   },
   "outputs": [
    {
     "data": {
      "image/png": "[encoded data removed]",
      "text/plain": [
       "<Figure size 1400x600 with 7 Axes>"
      ]
     },
     "metadata": {},
     "output_type": "display_data"
    }
   ],
   "source": [
    "# Define the x-axis ticks for the bar plot\n",
    "x_ticks = [class_labels[class_name].capitalize() for class_name in class_names]\n",
    "\n",
    "# Create the bar plot\n",
    "plt.figure(figsize=(14, 6))\n",
    "\n",
    "# Accuracy\n",
    "plt.subplot(2, 4, 1)\n",
    "plt.bar(x_ticks, accuracy_list)\n",
    "plt.title('Accuracy')\n",
    "plt.ylabel('Value')\n",
    "\n",
    "# Precision (Weighted)\n",
    "plt.subplot(2, 4, 2)\n",
    "plt.bar(x_ticks, precision_weighted_list)\n",
    "plt.title('Precision (Weighted)')\n",
    "plt.ylabel('Value')\n",
    "\n",
    "# Precision (Macro)\n",
    "plt.subplot(2, 4, 3)\n",
    "plt.bar(x_ticks, precision_macro_list)\n",
    "plt.title('Precision (Macro)')\n",
    "plt.ylabel('Value')\n",
    "\n",
    "# Recall (Weighted)\n",
    "plt.subplot(2, 4, 4)\n",
    "plt.bar(x_ticks, recall_weighted_list)\n",
    "plt.title('Recall (Weighted)')\n",
    "plt.ylabel('Value')\n",
    "\n",
    "# Recall (Weighted)\n",
    "plt.subplot(2, 4, 5)\n",
    "plt.bar(x_ticks, recall_macro_list)\n",
    "plt.title('Recall (Macro)')\n",
    "plt.ylabel('Value')\n",
    "\n",
    "# f1-score (Weighted)\n",
    "plt.subplot(2, 4, 6)\n",
    "plt.bar(x_ticks, f1_weighted_list)\n",
    "plt.title('F1-score (Weighted)')\n",
    "plt.ylabel('Value')\n",
    "\n",
    "# f1-score (Macro)\n",
    "plt.subplot(2, 4, 7)\n",
    "plt.bar(x_ticks, f1_macro_list)\n",
    "plt.title('F1-score (Macro)')\n",
    "plt.ylabel('Value')\n",
    "\n",
    "# Adjust spacing between subplots\n",
    "plt.subplots_adjust(wspace=0.4, hspace=0.6)\n",
    "\n",
    "# Show the plot\n",
    "plt.show()"
   ]
  }
 ],
 "metadata": {
  "kernelspec": {
   "display_name": "Python 3 (ipykernel)",
   "language": "python",
   "name": "python3"
  },
  "language_info": {
   "codemirror_mode": {
    "name": "ipython",
    "version": 3
   },
   "file_extension": ".py",
   "mimetype": "text/x-python",
   "name": "python",
   "nbconvert_exporter": "python",
   "pygments_lexer": "ipython3",
   "version": "3.8.13"
  }
 },
 "nbformat": 4,
 "nbformat_minor": 4
}
